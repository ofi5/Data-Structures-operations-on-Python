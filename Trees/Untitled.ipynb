{
 "cells": [
  {
   "cell_type": "code",
   "execution_count": 16,
   "metadata": {},
   "outputs": [
    {
     "name": "stdout",
     "output_type": "stream",
     "text": [
      "4\n",
      "6\n",
      "7\n",
      "8\n"
     ]
    }
   ],
   "source": [
    "class node():\n",
    "    def __init__(self,data):\n",
    "        self.data=data\n",
    "        self.left=None\n",
    "        self.right=None\n",
    "        \n",
    "class bst():\n",
    "    def newBst(self,root,info):\n",
    "        if root==None:\n",
    "            return node(info)\n",
    "        elif root.data>=info:\n",
    "            root.left=self.newBst(root.left,info)\n",
    "        else:\n",
    "            root.right=self.newBst(root.right,info)\n",
    "        return root\n",
    "    \n",
    "    def inorder(self,root):\n",
    "        if root==None:\n",
    "            return\n",
    "        root.left=self.inorder(root.left)\n",
    "        print(root.data)\n",
    "        root.right=self.inorder(root.right)\n",
    "                \n",
    "\n",
    "root=None\n",
    "A=[8,6,4,7]\n",
    "b=bst()\n",
    "for info in [8,6,4,7]:\n",
    "    root=b.newBst(root,info)\n",
    "\n",
    "b.inorder(root)    "
   ]
  },
  {
   "cell_type": "code",
   "execution_count": null,
   "metadata": {},
   "outputs": [],
   "source": []
  }
 ],
 "metadata": {
  "kernelspec": {
   "display_name": "Python 3",
   "language": "python",
   "name": "python3"
  },
  "language_info": {
   "codemirror_mode": {
    "name": "ipython",
    "version": 3
   },
   "file_extension": ".py",
   "mimetype": "text/x-python",
   "name": "python",
   "nbconvert_exporter": "python",
   "pygments_lexer": "ipython3",
   "version": "3.8.5"
  }
 },
 "nbformat": 4,
 "nbformat_minor": 4
}
