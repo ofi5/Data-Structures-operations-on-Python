{
 "cells": [
  {
   "cell_type": "code",
   "execution_count": null,
   "metadata": {},
   "outputs": [],
   "source": [
    "def iinorder(self,root):\n",
    "    stack=[]\n",
    "    current=root\n",
    "    while True:\n",
    "        if current!=None:\n",
    "            stack.append(current)\n",
    "            current=current.left\n",
    "        elif stack:\n",
    "            current=stack.pop()\n",
    "            print(current.data)\n",
    "            current=current.right\n",
    "        else:\n",
    "            break\n",
    "\n",
    "def ipostorder(self,root):\n",
    "   \n",
    "    stackr=[]\n",
    "    stackf=[]\n",
    "    \n",
    "    stackr.append(root)\n",
    "    while True:\n",
    "        if stackr:\n",
    "        current=stackr.pop()\n",
    "        stackf.append(current)\n",
    "        \n",
    "        if current.left!=None:\n",
    "            stackr.append(current.left)\n",
    "        if current.right!=None:\n",
    "            stackr.append(current.right)\n",
    "        \n",
    "       "
   ]
  }
 ],
 "metadata": {
  "kernelspec": {
   "display_name": "Python 3",
   "language": "python",
   "name": "python3"
  },
  "language_info": {
   "codemirror_mode": {
    "name": "ipython",
    "version": 3
   },
   "file_extension": ".py",
   "mimetype": "text/x-python",
   "name": "python",
   "nbconvert_exporter": "python",
   "pygments_lexer": "ipython3",
   "version": "3.8.5"
  }
 },
 "nbformat": 4,
 "nbformat_minor": 4
}
