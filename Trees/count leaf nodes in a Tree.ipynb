{
 "cells": [
  {
   "cell_type": "code",
   "execution_count": 11,
   "id": "ed2504e1",
   "metadata": {},
   "outputs": [
    {
     "name": "stdout",
     "output_type": "stream",
     "text": [
      "4\n"
     ]
    }
   ],
   "source": [
    "class node:\n",
    "    def __init__(self,data):\n",
    "        self.data = data\n",
    "        self.left = None\n",
    "        self.right = None\n",
    "        \n",
    "        \n",
    "class Tree:\n",
    "    def buildTree(self, root, ele):\n",
    "        if root == None:\n",
    "            return node(ele)\n",
    "        if root.data > ele:\n",
    "            root.left = self.buildTree(root.left, ele)\n",
    "        else:\n",
    "            root.right = self.buildTree(root.right, ele)   \n",
    "        return root    \n",
    "    \n",
    "    def leafCount(self, root):\n",
    "        if root == None:\n",
    "            return 0\n",
    "        if root.left is None and root.right is None:\n",
    "            return 1 \n",
    "        else:\n",
    "            return (self.leafCount(root.left) + self.leafCount(root.right))\n",
    "        \n",
    "A = [2,1,33,0,25,40,11,34,7,12,36,13] \n",
    "root = None\n",
    "t= Tree()\n",
    "\n",
    "for ele in A:\n",
    "    root = t.buildTree(root,ele)\n",
    "    \n",
    "leaf=t.leafCount(root)\n",
    "\n",
    "print(leaf)\n",
    "            \n",
    "            "
   ]
  },
  {
   "cell_type": "code",
   "execution_count": null,
   "id": "238aab28",
   "metadata": {},
   "outputs": [],
   "source": []
  }
 ],
 "metadata": {
  "kernelspec": {
   "display_name": "Python 3 (ipykernel)",
   "language": "python",
   "name": "python3"
  },
  "language_info": {
   "codemirror_mode": {
    "name": "ipython",
    "version": 3
   },
   "file_extension": ".py",
   "mimetype": "text/x-python",
   "name": "python",
   "nbconvert_exporter": "python",
   "pygments_lexer": "ipython3",
   "version": "3.9.7"
  }
 },
 "nbformat": 4,
 "nbformat_minor": 5
}
