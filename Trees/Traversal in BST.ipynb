{
 "cells": [
  {
   "cell_type": "code",
   "execution_count": 1,
   "metadata": {},
   "outputs": [],
   "source": [
    "class node:\n",
    "    def __init__(self,data):\n",
    "        self.data=data\n",
    "        self.left=None\n",
    "        self.right=None\n",
    "        \n",
    "class BST:\n",
    "    def newBst(self,root,ele):\n",
    "        if root==None:\n",
    "            return node(ele)\n",
    "        if root.data>ele:\n",
    "            self.newBst(root.left,ele)\n",
    "        else:\n",
    "            self.newBst(root.right,ele)\n",
    "        return root\n",
    "    \n",
    "    def inorder(self,root):\n",
    "        if root==None:\n",
    "            return\n",
    "        self.inorder(root.left)\n",
    "        print(root.data)\n",
    "        self.inorder(root.right)\n",
    "        \n",
    "    def preorder(self,root):\n",
    "        if root==None:\n",
    "            return\n",
    "        print(root.data)\n",
    "        self.preorder(root.left)\n",
    "        self.preorder(root.right)\n",
    "        \n",
    "    def postorder(self,root):\n",
    "        if root==None:\n",
    "            return\n",
    "        self.postorder(root.left)\n",
    "        self.postorder(root.right)\n",
    "        \n",
    "root=None\n",
    "Elements=[10,5,2,7,25,30]\n",
    "nBst=BST();\n",
    "for ele in Elements:\n",
    "    root=nBst.newBst(root,ele)\n",
    "    \n",
    "    \n",
    "    \n",
    "        "
   ]
  },
  {
   "cell_type": "code",
   "execution_count": null,
   "metadata": {},
   "outputs": [],
   "source": []
  }
 ],
 "metadata": {
  "kernelspec": {
   "display_name": "Python 3",
   "language": "python",
   "name": "python3"
  },
  "language_info": {
   "codemirror_mode": {
    "name": "ipython",
    "version": 3
   },
   "file_extension": ".py",
   "mimetype": "text/x-python",
   "name": "python",
   "nbconvert_exporter": "python",
   "pygments_lexer": "ipython3",
   "version": "3.8.5"
  }
 },
 "nbformat": 4,
 "nbformat_minor": 4
}
