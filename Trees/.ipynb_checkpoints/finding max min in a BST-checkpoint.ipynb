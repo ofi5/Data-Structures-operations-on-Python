{
 "cells": [
  {
   "cell_type": "code",
   "execution_count": 1,
   "metadata": {},
   "outputs": [
    {
     "ename": "SyntaxError",
     "evalue": "invalid syntax (<ipython-input-1-cf31c6f2a260>, line 16)",
     "output_type": "error",
     "traceback": [
      "\u001b[1;36m  File \u001b[1;32m\"<ipython-input-1-cf31c6f2a260>\"\u001b[1;36m, line \u001b[1;32m16\u001b[0m\n\u001b[1;33m    else::# if root element is larger than the next element to be inserted in BST, then recursion call\u001b[0m\n\u001b[1;37m         ^\u001b[0m\n\u001b[1;31mSyntaxError\u001b[0m\u001b[1;31m:\u001b[0m invalid syntax\n"
     ]
    }
   ],
   "source": [
    "class Node:#Creating a node\n",
    "    def __init__(self,data):\n",
    "        self.data=data\n",
    "        self.right=None\n",
    "        self.left=None\n",
    "        \n",
    "class BST:# creating a class BST\n",
    "    \n",
    "    def buildBst(self,root,ele):#Function to create Binary search Tree \n",
    "        if root==None:#Checks if root is null-if true, then creates a new node with root element\n",
    "            return Node(ele)\n",
    "        if root.data>ele:# if root element is larger than the next element to be inserted in BST, then recursion call \n",
    "                         # is done on the left pointer of root node. A new node will be created on left pointer of root \n",
    "                         # node and new element will be added to that node.  \n",
    "            root.left=self.buildBst(root.left,ele)\n",
    "        else: # if root element is larger than the next element to be inserted in BST, then recursion call \n",
    "              # is done on the left pointer of root node. A new node will be created on left pointer of root \n",
    "              # node and new element will be added to that node.  \n",
    "            root.right=self.buildBst(root.right,ele)\n",
    "        return root \n",
    "    \n",
    "    def inorder(self,root):\n",
    "        if root==None:\n",
    "            return\n",
    "        self.inorder(root.left)\n",
    "        print(root.data)\n",
    "        self.inorder(root.right)\n",
    "    \n",
    "    def minm(self,root): # function finds the minimum element using self recursion.\n",
    "\n",
    "        if root.left==None: # if left pointer of root is empty,then it prints the root data value.\n",
    "            print(root.data)        \n",
    "        else:\n",
    "            self.minm(root.left)#recursion call is used on left pointer of root element until it is not found none. \n",
    "            \n",
    "    def minv(self,root): #function finds the minimum element using while loop.\n",
    "        current=root # root value is stored in temporary variable which will be used in loop.\n",
    "        while current.left is not None: # loop runs until current.left is not found to be null. Each iteration \n",
    "                                        #shifts to left pointer of current/root.\n",
    "            current=current.left\n",
    "        return current.data# loop exits when current.left is None. The most left element i.e current.data now will be the\n",
    "                           # the least element which will be returned.\n",
    "            \n",
    "        \n",
    "    def maxm(self,root):\n",
    "        if root.right==None:\n",
    "            return(root.data)\n",
    "        else:\n",
    "            return self.maxm(root.right)\n",
    "        \n",
    "Array=[10,5,1,7,25,30]\n",
    "\n",
    "obBst=BST()\n",
    "\n",
    "root=None\n",
    "\n",
    "for element in Array:\n",
    "    root=obBst.buildBst(root,element)\n",
    "\n",
    "#obBst.inorder(root)    \n",
    "#(obBst.minm(root))\n",
    "print(obBst.maxm(root))\n",
    "obBst.minv(root)\n",
    "\n",
    "    \n",
    "\n",
    "        \n",
    "        \n",
    "        "
   ]
  },
  {
   "cell_type": "code",
   "execution_count": null,
   "metadata": {},
   "outputs": [],
   "source": []
  },
  {
   "cell_type": "code",
   "execution_count": null,
   "metadata": {},
   "outputs": [],
   "source": []
  }
 ],
 "metadata": {
  "kernelspec": {
   "display_name": "Python 3",
   "language": "python",
   "name": "python3"
  },
  "language_info": {
   "codemirror_mode": {
    "name": "ipython",
    "version": 3
   },
   "file_extension": ".py",
   "mimetype": "text/x-python",
   "name": "python",
   "nbconvert_exporter": "python",
   "pygments_lexer": "ipython3",
   "version": "3.8.5"
  }
 },
 "nbformat": 4,
 "nbformat_minor": 4
}
