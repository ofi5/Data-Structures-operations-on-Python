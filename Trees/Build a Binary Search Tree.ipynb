{
 "cells": [
  {
   "cell_type": "code",
   "execution_count": 3,
   "metadata": {},
   "outputs": [
    {
     "name": "stdout",
     "output_type": "stream",
     "text": [
      "2\n",
      "5\n",
      "7\n",
      "10\n",
      "25\n",
      "30\n"
     ]
    }
   ],
   "source": [
    "class Node: # intialising a node\n",
    "    def __init__(self,data):\n",
    "        self.data=data\n",
    "        self.right=None\n",
    "        self.left=None\n",
    "        \n",
    "class BST: # forming a class called BST\n",
    "    def buildBst(self,root,ele):\n",
    "        if root == None:\n",
    "            return Node(ele)\n",
    "        if ele < root.data:\n",
    "            root.left=self.buildBst(root.left,ele)\n",
    "        else:\n",
    "            root.right=self.buildBst(root.right,ele)\n",
    "        return root\n",
    "    \n",
    "    def inorder(self,root):\n",
    "        if root==None:\n",
    "            return\n",
    "        self.inorder(root.left)\n",
    "        print(root.data)\n",
    "        self.inorder(root.right)\n",
    "    \n",
    "    \n",
    "root=None\n",
    "b=BST()\n",
    "for ele in [10,5,25,2,7,30]:\n",
    "    root=b.buildBst(root,ele)\n",
    "    \n",
    "b.inorder(root)    \n",
    "\n",
    "            \n",
    "            "
   ]
  },
  {
   "cell_type": "code",
   "execution_count": null,
   "metadata": {},
   "outputs": [],
   "source": []
  }
 ],
 "metadata": {
  "kernelspec": {
   "display_name": "Python 3",
   "language": "python",
   "name": "python3"
  },
  "language_info": {
   "codemirror_mode": {
    "name": "ipython",
    "version": 3
   },
   "file_extension": ".py",
   "mimetype": "text/x-python",
   "name": "python",
   "nbconvert_exporter": "python",
   "pygments_lexer": "ipython3",
   "version": "3.8.5"
  }
 },
 "nbformat": 4,
 "nbformat_minor": 4
}
