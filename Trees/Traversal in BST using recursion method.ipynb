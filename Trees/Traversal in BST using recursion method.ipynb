{
 "cells": [
  {
   "cell_type": "code",
   "execution_count": 6,
   "metadata": {},
   "outputs": [
    {
     "name": "stdout",
     "output_type": "stream",
     "text": [
      "2\n",
      "5\n",
      "7\n",
      "10\n",
      "23\n",
      "25\n",
      "30\n",
      "_______\n",
      "10\n",
      "5\n",
      "2\n",
      "7\n",
      "25\n",
      "23\n",
      "30\n",
      "_______\n",
      "2\n",
      "7\n",
      "5\n",
      "23\n",
      "30\n",
      "25\n",
      "10\n"
     ]
    }
   ],
   "source": [
    "class node:\n",
    "    def __init__(self,data):\n",
    "        self.data=data\n",
    "        self.left=None\n",
    "        self.right=None\n",
    "        \n",
    "class BST:\n",
    "    def newBst(self,root,ele):\n",
    "        if root==None:\n",
    "            return node(ele)\n",
    "        if root.data>ele:\n",
    "            root.left=self.newBst(root.left,ele)\n",
    "        else:\n",
    "            root.right=self.newBst(root.right,ele)\n",
    "        return root\n",
    "    \n",
    "    def inorder(self,root):\n",
    "        if root==None:\n",
    "            return\n",
    "        self.inorder(root.left)\n",
    "        print(root.data)\n",
    "        self.inorder(root.right)\n",
    "        \n",
    "    def preorder(self,root):\n",
    "        if root==None:\n",
    "            return\n",
    "        print(root.data)\n",
    "        self.preorder(root.left)\n",
    "        self.preorder(root.right)\n",
    "        \n",
    "    def postorder(self,root):\n",
    "        if root==None:\n",
    "            return\n",
    "        self.postorder(root.left)\n",
    "        self.postorder(root.right)\n",
    "        print(root.data)\n",
    "        \n",
    "root=None\n",
    "Elements=[10,5,2,7,25,23,30]\n",
    "nBst=BST();\n",
    "for ele in Elements:\n",
    "    root=nBst.newBst(root,ele)\n",
    "    \n",
    "nBst.inorder(root)\n",
    "print(\"_______\")\n",
    "nBst.preorder(root)\n",
    "print(\"_______\")\n",
    "nBst.postorder(root)\n",
    "    \n",
    "    \n",
    "    \n",
    "        "
   ]
  },
  {
   "cell_type": "code",
   "execution_count": null,
   "metadata": {},
   "outputs": [],
   "source": []
  }
 ],
 "metadata": {
  "kernelspec": {
   "display_name": "Python 3",
   "language": "python",
   "name": "python3"
  },
  "language_info": {
   "codemirror_mode": {
    "name": "ipython",
    "version": 3
   },
   "file_extension": ".py",
   "mimetype": "text/x-python",
   "name": "python",
   "nbconvert_exporter": "python",
   "pygments_lexer": "ipython3",
   "version": "3.8.5"
  }
 },
 "nbformat": 4,
 "nbformat_minor": 4
}
