{
 "cells": [
  {
   "cell_type": "code",
   "execution_count": 1,
   "id": "a82f2443",
   "metadata": {},
   "outputs": [
    {
     "name": "stdout",
     "output_type": "stream",
     "text": [
      "7\n"
     ]
    }
   ],
   "source": [
    "class node:\n",
    "    def __init__(self, data):\n",
    "        self.data = data\n",
    "        self.left = None\n",
    "        self.right = None\n",
    "        \n",
    "class TREE:\n",
    "    def buildTree(self, root, ele):\n",
    "        \n",
    "        if root == None:\n",
    "            return node(ele)\n",
    "        \n",
    "        if root.data>ele:\n",
    "            root.left =  self.buildTree(root.left,ele)\n",
    "        else:\n",
    "            root.right = self.buildTree(root.right,ele)\n",
    "        return root    \n",
    "            \n",
    "    def maxDepth(self,root):\n",
    "        \n",
    "        if root is None:\n",
    "            return 0\n",
    "        else:\n",
    "            ldepth = self.maxDepth(root.left)\n",
    "            rdepth = self.maxDepth(root.right)\n",
    "            return max(ldepth,rdepth) + 1\n",
    "\n",
    "        \n",
    "root= None        \n",
    "A = [2,1,33,0,25,40,11,34,7,12,36,13,23,1,78,45]\n",
    "\n",
    "t=TREE()\n",
    "\n",
    "for i in (A):\n",
    "    root = t.buildTree(root,i)\n",
    "    \n",
    "depth = t.maxDepth(root)\n",
    "\n",
    "print(depth)"
   ]
  },
  {
   "cell_type": "code",
   "execution_count": null,
   "id": "c1c2691f",
   "metadata": {},
   "outputs": [],
   "source": []
  }
 ],
 "metadata": {
  "kernelspec": {
   "display_name": "Python 3 (ipykernel)",
   "language": "python",
   "name": "python3"
  },
  "language_info": {
   "codemirror_mode": {
    "name": "ipython",
    "version": 3
   },
   "file_extension": ".py",
   "mimetype": "text/x-python",
   "name": "python",
   "nbconvert_exporter": "python",
   "pygments_lexer": "ipython3",
   "version": "3.9.7"
  }
 },
 "nbformat": 4,
 "nbformat_minor": 5
}
