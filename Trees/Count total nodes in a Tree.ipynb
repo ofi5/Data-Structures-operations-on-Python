{
 "cells": [
  {
   "cell_type": "code",
   "execution_count": 12,
   "id": "573e52ec",
   "metadata": {},
   "outputs": [
    {
     "name": "stdout",
     "output_type": "stream",
     "text": [
      "6\n"
     ]
    }
   ],
   "source": [
    "class node:\n",
    "    def __init__(self, data):\n",
    "        self.data = data\n",
    "        self.left = None\n",
    "        self.right = None\n",
    "        \n",
    "class TREE:\n",
    "    def buildTree(self, root, ele):\n",
    "        \n",
    "        if root == None:\n",
    "            return node(ele)\n",
    "        \n",
    "        if root.data>ele:\n",
    "            root.left =  self.buildTree(root.left,ele)\n",
    "        else:\n",
    "            root.right = self.buildTree(root.right,ele)\n",
    "        return root    \n",
    "            \n",
    "    def countNode(self,root):\n",
    "        if root == None:\n",
    "            return 0\n",
    "        else:\n",
    "            return (1 + self.countNode(root.left) + self.countNode(root.right))\n",
    "    \n",
    "A = [5,10,2,20,25,30]\n",
    "root= None\n",
    "t=TREE()\n",
    "\n",
    "for i in range(len(A)):\n",
    "    root = t.buildTree(root,i)\n",
    "    \n",
    "total = t.countNode(root)\n",
    "\n",
    "print(total)"
   ]
  },
  {
   "cell_type": "code",
   "execution_count": null,
   "id": "25fabe70",
   "metadata": {},
   "outputs": [],
   "source": []
  }
 ],
 "metadata": {
  "kernelspec": {
   "display_name": "Python 3 (ipykernel)",
   "language": "python",
   "name": "python3"
  },
  "language_info": {
   "codemirror_mode": {
    "name": "ipython",
    "version": 3
   },
   "file_extension": ".py",
   "mimetype": "text/x-python",
   "name": "python",
   "nbconvert_exporter": "python",
   "pygments_lexer": "ipython3",
   "version": "3.9.7"
  }
 },
 "nbformat": 4,
 "nbformat_minor": 5
}
