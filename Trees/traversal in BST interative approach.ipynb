{
 "cells": [
  {
   "cell_type": "code",
   "execution_count": 2,
   "metadata": {},
   "outputs": [
    {
     "name": "stdout",
     "output_type": "stream",
     "text": [
      "10\n",
      "5\n",
      "2\n",
      "7\n",
      "25\n",
      "20\n",
      "30\n"
     ]
    }
   ],
   "source": [
    "class node:\n",
    "    def __init__(self,data):\n",
    "        self.data=data\n",
    "        self.left=None\n",
    "        self.right=None\n",
    "        \n",
    "class BST:\n",
    "    def newBst(self, root, ele):\n",
    "        if root==None:\n",
    "            return node(ele)\n",
    "        if root.data>ele:\n",
    "            root.left=self.newBst(root.left,ele)\n",
    "        else:\n",
    "            root.right=self.newBst(root.right,ele)\n",
    "        return root\n",
    "    \n",
    "    def ipreorder(self,root):\n",
    "        if root==None:\n",
    "            return\n",
    "        stack=[]\n",
    "        stack.append(root)\n",
    "        while stack:\n",
    "            current=stack.pop()\n",
    "            print(current.data)\n",
    "            \n",
    "            if current.right!=None:\n",
    "                stack.append(current.right)\n",
    "            if current.left!=None:\n",
    "                stack.append(current.left)\n",
    "                \n",
    "root=None\n",
    "elements=[10,5,2,7,25,20,30]\n",
    "nBst=BST();\n",
    "for ele in elements:\n",
    "    root=nBst.newBst(root,ele);\n",
    "    \n",
    "nBst.ipreorder(root)    \n",
    "            \n",
    "            \n",
    "            "
   ]
  },
  {
   "cell_type": "code",
   "execution_count": null,
   "metadata": {},
   "outputs": [],
   "source": []
  }
 ],
 "metadata": {
  "kernelspec": {
   "display_name": "Python 3",
   "language": "python",
   "name": "python3"
  },
  "language_info": {
   "codemirror_mode": {
    "name": "ipython",
    "version": 3
   },
   "file_extension": ".py",
   "mimetype": "text/x-python",
   "name": "python",
   "nbconvert_exporter": "python",
   "pygments_lexer": "ipython3",
   "version": "3.8.5"
  }
 },
 "nbformat": 4,
 "nbformat_minor": 4
}
