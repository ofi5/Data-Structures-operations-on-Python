{
 "cells": [
  {
   "cell_type": "code",
   "execution_count": 3,
   "metadata": {},
   "outputs": [
    {
     "name": "stdout",
     "output_type": "stream",
     "text": [
      "10\n",
      "5\n",
      "2\n",
      "7\n",
      "25\n",
      "23\n",
      "20\n",
      "30\n",
      "__________\n"
     ]
    },
    {
     "ename": "AttributeError",
     "evalue": "'int' object has no attribute 'data'",
     "output_type": "error",
     "traceback": [
      "\u001b[1;31m---------------------------------------------------------------------------\u001b[0m",
      "\u001b[1;31mAttributeError\u001b[0m                            Traceback (most recent call last)",
      "\u001b[1;32m<ipython-input-3-32c8e529d6af>\u001b[0m in \u001b[0;36m<module>\u001b[1;34m\u001b[0m\n\u001b[0;32m     53\u001b[0m \u001b[0mnBst\u001b[0m\u001b[1;33m.\u001b[0m\u001b[0mipreorder\u001b[0m\u001b[1;33m(\u001b[0m\u001b[0mroot\u001b[0m\u001b[1;33m)\u001b[0m\u001b[1;33m\u001b[0m\u001b[1;33m\u001b[0m\u001b[0m\n\u001b[0;32m     54\u001b[0m \u001b[0mprint\u001b[0m\u001b[1;33m(\u001b[0m\u001b[1;34m\"__________\"\u001b[0m\u001b[1;33m)\u001b[0m\u001b[1;33m\u001b[0m\u001b[1;33m\u001b[0m\u001b[0m\n\u001b[1;32m---> 55\u001b[1;33m \u001b[0mnBst\u001b[0m\u001b[1;33m.\u001b[0m\u001b[0miinorder\u001b[0m\u001b[1;33m(\u001b[0m\u001b[0mroot\u001b[0m\u001b[1;33m)\u001b[0m\u001b[1;33m\u001b[0m\u001b[1;33m\u001b[0m\u001b[0m\n\u001b[0m\u001b[0;32m     56\u001b[0m \u001b[1;33m\u001b[0m\u001b[0m\n\u001b[0;32m     57\u001b[0m \u001b[1;33m\u001b[0m\u001b[0m\n",
      "\u001b[1;32m<ipython-input-3-32c8e529d6af>\u001b[0m in \u001b[0;36miinorder\u001b[1;34m(self, root)\u001b[0m\n\u001b[0;32m     39\u001b[0m             \u001b[1;32melif\u001b[0m \u001b[0mstack\u001b[0m\u001b[1;33m:\u001b[0m\u001b[1;33m\u001b[0m\u001b[1;33m\u001b[0m\u001b[0m\n\u001b[0;32m     40\u001b[0m                 \u001b[0mcurrent\u001b[0m\u001b[1;33m=\u001b[0m\u001b[0mstack\u001b[0m\u001b[1;33m.\u001b[0m\u001b[0mpop\u001b[0m\u001b[1;33m(\u001b[0m\u001b[1;33m)\u001b[0m\u001b[1;33m\u001b[0m\u001b[1;33m\u001b[0m\u001b[0m\n\u001b[1;32m---> 41\u001b[1;33m                 \u001b[0mprint\u001b[0m\u001b[1;33m(\u001b[0m\u001b[0mcurrent\u001b[0m\u001b[1;33m.\u001b[0m\u001b[0mdata\u001b[0m\u001b[1;33m)\u001b[0m\u001b[1;33m\u001b[0m\u001b[1;33m\u001b[0m\u001b[0m\n\u001b[0m\u001b[0;32m     42\u001b[0m                 \u001b[0mcurrent\u001b[0m\u001b[1;33m=\u001b[0m\u001b[0mcurrent\u001b[0m\u001b[1;33m.\u001b[0m\u001b[0mright\u001b[0m\u001b[1;33m\u001b[0m\u001b[1;33m\u001b[0m\u001b[0m\n\u001b[0;32m     43\u001b[0m             \u001b[1;32melse\u001b[0m\u001b[1;33m:\u001b[0m\u001b[1;33m\u001b[0m\u001b[1;33m\u001b[0m\u001b[0m\n",
      "\u001b[1;31mAttributeError\u001b[0m: 'int' object has no attribute 'data'"
     ]
    }
   ],
   "source": [
    "class node:\n",
    "    def __init__(self,data):\n",
    "        self.data=data\n",
    "        self.left=None\n",
    "        self.right=None\n",
    "        \n",
    "class BST:\n",
    "    def newBst(self, root, ele):\n",
    "        if root==None:\n",
    "            return node(ele)\n",
    "        if root.data>ele:\n",
    "            root.left=self.newBst(root.left,ele)\n",
    "        else:\n",
    "            root.right=self.newBst(root.right,ele)\n",
    "        return root\n",
    "    \n",
    "    def ipreorder(self,root):\n",
    "        if root==None:\n",
    "            return\n",
    "        stack=[]\n",
    "        stack.append(root)\n",
    "        while stack:\n",
    "            current=stack.pop()\n",
    "            print(current.data)\n",
    "            \n",
    "            if current.right!=None:\n",
    "                stack.append(current.right)\n",
    "            if current.left!=None:\n",
    "                stack.append(current.left)\n",
    "                \n",
    "    def iinorder(self,root):\n",
    "        current=root\n",
    "        stack=[]\n",
    "        \n",
    "        while True:\n",
    "            if current != None:\n",
    "                stack.append(current)\n",
    "                current=current.left\n",
    "            elif stack:\n",
    "                current=stack.pop()\n",
    "                print(current.data)\n",
    "                current=current.right\n",
    "            else:\n",
    "                break\n",
    "        \n",
    "                \n",
    "root=None\n",
    "elements=[10,5,2,7,25,23,20,30]\n",
    "nBst=BST();\n",
    "for ele in elements:\n",
    "    root=nBst.newBst(root,ele);\n",
    "    \n",
    "nBst.ipreorder(root)    \n",
    "print(\"__________\")\n",
    "nBst.iinorder(root)\n",
    "\n",
    "            \n",
    "            \n",
    "            "
   ]
  },
  {
   "cell_type": "code",
   "execution_count": null,
   "metadata": {},
   "outputs": [],
   "source": []
  }
 ],
 "metadata": {
  "kernelspec": {
   "display_name": "Python 3",
   "language": "python",
   "name": "python3"
  },
  "language_info": {
   "codemirror_mode": {
    "name": "ipython",
    "version": 3
   },
   "file_extension": ".py",
   "mimetype": "text/x-python",
   "name": "python",
   "nbconvert_exporter": "python",
   "pygments_lexer": "ipython3",
   "version": "3.8.5"
  }
 },
 "nbformat": 4,
 "nbformat_minor": 4
}
