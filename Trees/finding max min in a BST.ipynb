{
 "cells": [
  {
   "cell_type": "code",
   "execution_count": 35,
   "metadata": {},
   "outputs": [
    {
     "name": "stdout",
     "output_type": "stream",
     "text": [
      "1\n",
      "5\n",
      "7\n",
      "10\n",
      "25\n",
      "30\n",
      "None\n",
      "30\n"
     ]
    }
   ],
   "source": [
    "class Node:\n",
    "    def __init__(self,data):\n",
    "        self.data=data\n",
    "        self.right=None\n",
    "        self.left=None\n",
    "        \n",
    "class BST:\n",
    "    \n",
    "    def buildBst(self,root,ele):\n",
    "        if root==None:\n",
    "            return Node(ele)\n",
    "        if root.data>ele:\n",
    "            root.left=self.buildBst(root.left,ele)\n",
    "        else:\n",
    "            root.right=self.buildBst(root.right,ele)\n",
    "        return root \n",
    "    \n",
    "    def inorder(self,root):\n",
    "        if root==None:\n",
    "            return\n",
    "        self.inorder(root.left)\n",
    "        print(root.data)\n",
    "        self.inorder(root.right)\n",
    "    \n",
    "    def min(self,root):\n",
    "\n",
    "        if root.left==None:\n",
    "            return root.data        \n",
    "        else:\n",
    "            self.min(root.left)\n",
    "            \n",
    "    #def min()       \n",
    "            \n",
    "            \n",
    "  \n",
    "        \n",
    "    def max(self,root):\n",
    "        if root.right==None:\n",
    "            print(root.data)\n",
    "        else:\n",
    "            self.max(root.right)\n",
    "        \n",
    "Array=[10,5,1,7,25,30]\n",
    "\n",
    "obBst=BST()\n",
    "\n",
    "root=None\n",
    "\n",
    "for element in Array:\n",
    "    root=obBst.buildBst(root,element)\n",
    "\n",
    "obBst.inorder(root)    \n",
    "Min=(obBst.min(root))\n",
    "print(Min)\n",
    "(obBst.max(root))\n",
    "\n",
    "    \n",
    "\n",
    "        \n",
    "        \n",
    "        "
   ]
  },
  {
   "cell_type": "code",
   "execution_count": null,
   "metadata": {},
   "outputs": [],
   "source": []
  },
  {
   "cell_type": "code",
   "execution_count": null,
   "metadata": {},
   "outputs": [],
   "source": []
  }
 ],
 "metadata": {
  "kernelspec": {
   "display_name": "Python 3",
   "language": "python",
   "name": "python3"
  },
  "language_info": {
   "codemirror_mode": {
    "name": "ipython",
    "version": 3
   },
   "file_extension": ".py",
   "mimetype": "text/x-python",
   "name": "python",
   "nbconvert_exporter": "python",
   "pygments_lexer": "ipython3",
   "version": "3.8.5"
  }
 },
 "nbformat": 4,
 "nbformat_minor": 4
}
