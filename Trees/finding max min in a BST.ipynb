{
 "cells": [
  {
   "cell_type": "code",
   "execution_count": 48,
   "metadata": {},
   "outputs": [
    {
     "name": "stdout",
     "output_type": "stream",
     "text": [
      "1\n"
     ]
    }
   ],
   "source": [
    "class Node:\n",
    "    def __init__(self,data):\n",
    "        self.data=data\n",
    "        self.right=None\n",
    "        self.left=None\n",
    "        \n",
    "class BST:\n",
    "    \n",
    "    def buildBst(self,root,ele):\n",
    "        if root==None:\n",
    "            return Node(ele)\n",
    "        if root.data>ele:\n",
    "            root.left=self.buildBst(root.left,ele)\n",
    "        else:\n",
    "            root.right=self.buildBst(root.right,ele)\n",
    "        return root \n",
    "    \n",
    "    def inorder(self,root):\n",
    "        if root==None:\n",
    "            return\n",
    "        self.inorder(root.left)\n",
    "        print(root.data)\n",
    "        self.inorder(root.right)\n",
    "    \n",
    "    def minm(self,root):\n",
    "\n",
    "        if root.left==None:\n",
    "            print(root.data)        \n",
    "        else:\n",
    "            self.minm(root.left)\n",
    "            \n",
    "    def minv(self,root):\n",
    "        current=root\n",
    "        while current.left is not None:\n",
    "            current=current.left\n",
    "        return current.data    \n",
    "            \n",
    "            \n",
    "            \n",
    "            \n",
    "  \n",
    "        \n",
    "    def maxm(self,root):\n",
    "        if root.right==None:\n",
    "            return(root.data)\n",
    "        else:\n",
    "            return self.maxm(root.right)\n",
    "        \n",
    "Array=[10,5,1,7,25,30]\n",
    "\n",
    "obBst=BST()\n",
    "\n",
    "root=None\n",
    "\n",
    "for element in Array:\n",
    "    root=obBst.buildBst(root,element)\n",
    "\n",
    "#obBst.inorder(root)    \n",
    "(obBst.minm(root))\n",
    "print(obBst.maxm(root))\n",
    "#obBst.minv(root)\n",
    "\n",
    "    \n",
    "\n",
    "        \n",
    "        \n",
    "        "
   ]
  },
  {
   "cell_type": "code",
   "execution_count": null,
   "metadata": {},
   "outputs": [],
   "source": []
  },
  {
   "cell_type": "code",
   "execution_count": null,
   "metadata": {},
   "outputs": [],
   "source": []
  }
 ],
 "metadata": {
  "kernelspec": {
   "display_name": "Python 3",
   "language": "python",
   "name": "python3"
  },
  "language_info": {
   "codemirror_mode": {
    "name": "ipython",
    "version": 3
   },
   "file_extension": ".py",
   "mimetype": "text/x-python",
   "name": "python",
   "nbconvert_exporter": "python",
   "pygments_lexer": "ipython3",
   "version": "3.8.5"
  }
 },
 "nbformat": 4,
 "nbformat_minor": 4
}
