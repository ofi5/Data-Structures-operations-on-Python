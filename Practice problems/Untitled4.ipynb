{
 "cells": [
  {
   "cell_type": "code",
   "execution_count": 17,
   "metadata": {},
   "outputs": [
    {
     "name": "stdout",
     "output_type": "stream",
     "text": [
      "6\n"
     ]
    }
   ],
   "source": [
    "def bS(Ar,target):\n",
    "    \n",
    "    l=0\n",
    "    h=len(Ar)-1\n",
    "    result=-1\n",
    "    while l<=h:\n",
    "        m = int((l+h)/2)\n",
    "        if A[m]==target:\n",
    "            result = m \n",
    "            break\n",
    "       \n",
    "        elif Ar[m]<target:\n",
    "            l=m+1\n",
    "       \n",
    "\n",
    "        \n",
    "        else:\n",
    "            h=m-1\n",
    "          \n",
    "         \n",
    "            \n",
    "        \n",
    "    return result  \n",
    "\n",
    "A=[1,2,3,4,5,6,7,8]\n",
    "\n",
    "y=bS(A,7)\n",
    "print(y)"
   ]
  },
  {
   "cell_type": "code",
   "execution_count": null,
   "metadata": {},
   "outputs": [],
   "source": []
  }
 ],
 "metadata": {
  "kernelspec": {
   "display_name": "Python 3",
   "language": "python",
   "name": "python3"
  },
  "language_info": {
   "codemirror_mode": {
    "name": "ipython",
    "version": 3
   },
   "file_extension": ".py",
   "mimetype": "text/x-python",
   "name": "python",
   "nbconvert_exporter": "python",
   "pygments_lexer": "ipython3",
   "version": "3.8.5"
  }
 },
 "nbformat": 4,
 "nbformat_minor": 4
}
