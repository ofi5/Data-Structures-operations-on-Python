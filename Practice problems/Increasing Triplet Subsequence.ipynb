{
 "cells": [
  {
   "cell_type": "code",
   "execution_count": 2,
   "id": "99f611ce",
   "metadata": {},
   "outputs": [
    {
     "name": "stdout",
     "output_type": "stream",
     "text": [
      "(2, 4, 6)\n"
     ]
    }
   ],
   "source": [
    "'''\n",
    "Given an unsorted array return whether an increasing subsequence of length 3 exists or not in the array.\n",
    "\n",
    "\n",
    "Formally the function should:\n",
    "\n",
    "\n",
    "    Return true if there exists i, j, k\n",
    "\n",
    "    such that arr[i] < arr[j] < arr[k] given 0 ≤ i < j < k ≤ n-1 else return false.'''\n",
    "\n",
    "\n",
    "def findTriplet(arr,n):\n",
    "    if(n<3):\n",
    "        return False\n",
    "    mid,low=-1,-1\n",
    "    min_index=0\n",
    "    for i in range(n):\n",
    "        if(arr[i]<=arr[min_index]):\n",
    "            min_index=i\n",
    "        elif(mid==-1):\n",
    "            low=min_index\n",
    "            mid=i\n",
    "        elif(arr[i] <= arr[mid]):\n",
    "            low=min_index\n",
    "            mid=i\n",
    "        else:\n",
    "            return arr[low],arr[mid],arr[i]\n",
    "\n",
    "        \n",
    "arr=[5, 3, 2, 7, 4, 1, 6]\n",
    "print(findTriplet(arr,len(arr)))"
   ]
  },
  {
   "cell_type": "code",
   "execution_count": null,
   "id": "c990f68d",
   "metadata": {},
   "outputs": [],
   "source": []
  }
 ],
 "metadata": {
  "kernelspec": {
   "display_name": "Python 3 (ipykernel)",
   "language": "python",
   "name": "python3"
  },
  "language_info": {
   "codemirror_mode": {
    "name": "ipython",
    "version": 3
   },
   "file_extension": ".py",
   "mimetype": "text/x-python",
   "name": "python",
   "nbconvert_exporter": "python",
   "pygments_lexer": "ipython3",
   "version": "3.9.7"
  }
 },
 "nbformat": 4,
 "nbformat_minor": 5
}
