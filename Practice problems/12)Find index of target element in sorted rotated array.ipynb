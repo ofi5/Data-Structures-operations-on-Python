{
 "cells": [
  {
   "cell_type": "code",
   "execution_count": 6,
   "metadata": {
    "scrolled": true
   },
   "outputs": [
    {
     "name": "stdout",
     "output_type": "stream",
     "text": [
      "6\n"
     ]
    }
   ],
   "source": [
    "'''\n",
    "Suppose an array sorted in ascending order is rotated at some pivot unknown to you beforehand.\n",
    "\n",
    "(i.e., [0,1,2,4,5,6,7] might become [4,5,6,7,0,1,2]).\n",
    "\n",
    "You are given a target value to search. If found in the array return its index, otherwise return -1.\n",
    "\n",
    "You may assume no duplicate exists in the array.\n",
    "\n",
    "'''\n",
    "\n",
    "# traverse the array to find the element and return the index.\n",
    "\n",
    "#Time Complexity = O(n)\n",
    "#Space Complexity = O(1)\n",
    "\n",
    "A=[10,11,12,13,6,8,7,9]\n",
    "\n",
    "target = 7\n",
    "index=-1\n",
    "\n",
    "for i in range(0,len(A)):\n",
    "    if A[i]==target:\n",
    "        index=i\n",
    "print(index)\n",
    "        \n",
    "        "
   ]
  },
  {
   "cell_type": "code",
   "execution_count": 31,
   "metadata": {},
   "outputs": [
    {
     "name": "stdout",
     "output_type": "stream",
     "text": [
      "6\n"
     ]
    }
   ],
   "source": [
    "#Approach2\n",
    "\n",
    "# We find the pivot point.\n",
    "\n",
    "\n",
    "A=[10,11,12,13,14,6,7,8,9]\n",
    "n = len(A)\n",
    "target = 7\n",
    "index=-1\n",
    "\n",
    "for i in range(len(A)-1):\n",
    "    if A[i]>A[i+1]:\n",
    "        r=i\n",
    "        l=(i+1)\n",
    "        break\n",
    "        \n",
    "        \n",
    "while (l!=r):\n",
    "    if A[l]==target:\n",
    "        index=l\n",
    "        break\n",
    "       \n",
    "    elif A[r]==target:\n",
    "        index=r\n",
    "        break\n",
    "    else:\n",
    "        l=(l+1)%n\n",
    "        r=(n+r-1)%n\n",
    "if index==-1:\n",
    "    print(-1)\n",
    "else:\n",
    "    print(index)\n",
    "            \n"
   ]
  },
  {
   "cell_type": "code",
   "execution_count": 7,
   "metadata": {},
   "outputs": [
    {
     "name": "stdout",
     "output_type": "stream",
     "text": [
      "[12, 13, 14, 15, 16, 17]\n",
      "[7, 8, 9, 10, 11]\n",
      "3\n",
      "-1\n"
     ]
    }
   ],
   "source": [
    "#Approach 3\n",
    "# we find the pivot element.\n",
    "# the number of rotations gives the index of least element.\n",
    "# the least element/ pivot point is found out using Binary search.\n",
    "# Binary search is then applied to arrays on either side of pivot element to find the target element.\n",
    "\n",
    "# Time Complexity = O(logn)\n",
    "# Space complexity = O(1)\n",
    "\n",
    "\n",
    "A=[12,13,14,15,16,17,7,8,9,10,11]\n",
    "n = len(A)\n",
    "t=15\n",
    "s = 0\n",
    "e = n-1\n",
    "\n",
    "def bS(Ar,target): # binary Search function\n",
    "    \n",
    "    l=0\n",
    "    h=len(Ar)-1\n",
    "    result=-1\n",
    "    while l<=h:\n",
    "        m = (l+h)//2\n",
    "        if Ar[m]==target:\n",
    "            result=m\n",
    "       \n",
    "        if Ar[m]<target:\n",
    "            l=m+1\n",
    "            \n",
    "        else:\n",
    "            h=m-1\n",
    "        \n",
    "    return result   \n",
    "    \n",
    "\n",
    "def small(A,start,end): # Function to find the pivot element in the array. Index of least element is returned.\n",
    "    while start<end:\n",
    "        if A[0]<A[-1]:\n",
    "            return 0\n",
    "        mid = (end+start)//2\n",
    "        if A[mid] < A[mid+1] and A[mid] < A[mid-1]:\n",
    "            return mid\n",
    "        if A[mid] > A[mid+1] and A[mid] > A[mid-1]:\n",
    "            return mid+1\n",
    "        elif A[mid]>A[end]:\n",
    "            return small(A,mid+1,end)\n",
    "        else:\n",
    "            return small(A,start,mid-1)\n",
    "        \n",
    "        \n",
    "def targetFinder(A): # function finds the target element in the array.\n",
    "    smallest = small(A,s,e)\n",
    "    arr1=A[:smallest]\n",
    "    arr2=A[smallest:]\n",
    "    print(arr1)\n",
    "    print(arr2)\n",
    "    k=(bS(arr1,t))\n",
    "    l=(bS(arr2,t))\n",
    "    print(k)\n",
    "    print(l)\n",
    "  \n",
    "\n",
    "\n",
    "targetFinder(A)   \n",
    "        \n",
    "        \n",
    "    \n",
    "        "
   ]
  },
  {
   "cell_type": "code",
   "execution_count": null,
   "metadata": {},
   "outputs": [],
   "source": [
    "\n"
   ]
  },
  {
   "cell_type": "code",
   "execution_count": null,
   "metadata": {},
   "outputs": [],
   "source": []
  }
 ],
 "metadata": {
  "kernelspec": {
   "display_name": "Python 3",
   "language": "python",
   "name": "python3"
  },
  "language_info": {
   "codemirror_mode": {
    "name": "ipython",
    "version": 3
   },
   "file_extension": ".py",
   "mimetype": "text/x-python",
   "name": "python",
   "nbconvert_exporter": "python",
   "pygments_lexer": "ipython3",
   "version": "3.8.5"
  }
 },
 "nbformat": 4,
 "nbformat_minor": 4
}
