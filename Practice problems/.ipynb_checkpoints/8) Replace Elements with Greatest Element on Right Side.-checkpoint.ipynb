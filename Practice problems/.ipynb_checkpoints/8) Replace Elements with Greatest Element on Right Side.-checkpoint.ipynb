{
 "cells": [
  {
   "cell_type": "code",
   "execution_count": 30,
   "metadata": {},
   "outputs": [
    {
     "name": "stdout",
     "output_type": "stream",
     "text": [
      "[7, 4, 3, 3, 2, -1]\n"
     ]
    }
   ],
   "source": [
    "#Given an array a, replace every element in that array with the greatest element among the elements to its right, \n",
    "#and replace the last element with -1.\n",
    "\n",
    "#After doing so, return the array.\n",
    "\n",
    "#Approach 1\n",
    "\n",
    "# Run 2 loops and compare each element to find the greatest element to the right. Add the element to the same Array in the \n",
    "# previous position.\n",
    "\n",
    "#Time Complexity=O(n^2)\n",
    "#Space Complexity=O(1)\n",
    "a=[19,7,4,1,3,2]\n",
    "\n",
    "\n",
    "for i in range(len(a)-1):\n",
    "    \n",
    "    high=a[i+1]\n",
    "    for j in range(i+1,len(a)):\n",
    "        if high<a[j]:\n",
    "            high=a[j]\n",
    "    a[i]=high     \n",
    "a[-1]=-1    \n",
    "print(a)    "
   ]
  },
  {
   "cell_type": "code",
   "execution_count": 31,
   "metadata": {},
   "outputs": [
    {
     "name": "stdout",
     "output_type": "stream",
     "text": [
      "[18, 6, 6, 6, 1, -1]\n"
     ]
    }
   ],
   "source": [
    "#Approach 2\n",
    "\n",
    "# Run 1 loop and iterate in reverse.\n",
    "# Assume the last element(i) as greatest and store it in a variable \"max\".\n",
    "# Change the (i-1)th element with max after storing the (i-1)th element in temp variable. \n",
    "# Compare the (i-1)th element with max and if (i-1)th element is greater, store it in variable max.\n",
    "# After loop ends, change the last element as -1. \n",
    "\n",
    "#Time Complexity=O(n)\n",
    "#Space Complexity=O(1)\n",
    "\n",
    "a=[17,18,5,4,6,1]\n",
    "max=a[-1]\n",
    "for i in range(len(a)-1,0,-1):\n",
    "   \n",
    "    temp=a[i-1]\n",
    "    a[i-1]=max\n",
    "    if max<temp:\n",
    "        max=temp\n",
    "    \n",
    "a[-1]=-1    \n",
    "    \n",
    "print(a)        "
   ]
  },
  {
   "cell_type": "code",
   "execution_count": null,
   "metadata": {},
   "outputs": [],
   "source": []
  },
  {
   "cell_type": "code",
   "execution_count": null,
   "metadata": {},
   "outputs": [],
   "source": []
  }
 ],
 "metadata": {
  "kernelspec": {
   "display_name": "Python 3",
   "language": "python",
   "name": "python3"
  },
  "language_info": {
   "codemirror_mode": {
    "name": "ipython",
    "version": 3
   },
   "file_extension": ".py",
   "mimetype": "text/x-python",
   "name": "python",
   "nbconvert_exporter": "python",
   "pygments_lexer": "ipython3",
   "version": "3.8.5"
  }
 },
 "nbformat": 4,
 "nbformat_minor": 4
}
