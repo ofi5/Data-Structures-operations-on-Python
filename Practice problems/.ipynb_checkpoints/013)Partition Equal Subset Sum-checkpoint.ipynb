{
 "cells": [
  {
   "cell_type": "code",
   "execution_count": null,
   "id": "ed7a01bd",
   "metadata": {},
   "outputs": [],
   "source": [
    "'''\n",
    "Given a non-empty array containing only positive integers, find if the array can be partitioned into \n",
    "two subsets such that the sum of elements in both subsets is equal.(Continuous subsets)\n",
    "\n",
    "Note:\n",
    "    Each of the array element will not exceed 100.\n",
    "    The array size will not exceed 200.\n",
    "'''\n",
    "\n",
    "        "
   ]
  },
  {
   "cell_type": "code",
   "execution_count": 2,
   "id": "c8c61ef3",
   "metadata": {},
   "outputs": [
    {
     "name": "stdout",
     "output_type": "stream",
     "text": [
      "10\n",
      "10\n",
      "True\n"
     ]
    }
   ],
   "source": [
    "def sum(A,mid):\n",
    "    suml=0\n",
    "    sumr=0\n",
    "    partition=True\n",
    "    count=0\n",
    "   \n",
    "    for j in range(mid,-1,-1):\n",
    "        suml=suml+A[j]\n",
    "    print(suml)\n",
    "     \n",
    "    for i in range(mid+1,len(A)):\n",
    "        sumr=sumr+A[i]\n",
    "    print(sumr)\n",
    "    \n",
    "     \n",
    "    if sumr == suml:\n",
    "        partition=True     \n",
    "       \n",
    "    elif sumr<suml:\n",
    "        return sum(A,mid-1)\n",
    "    elif sumr>suml:\n",
    "        return sum(A,mid+1)\n",
    "   \n",
    "    \n",
    "A = [1,2,3,4,5,5]\n",
    "mid=len(A)//2\n",
    "  \n",
    "b=sum(A,mid)\n",
    "\n",
    "print(b)\n",
    "\n",
    "\n"
   ]
  },
  {
   "cell_type": "code",
   "execution_count": 4,
   "id": "d61e6b42",
   "metadata": {},
   "outputs": [
    {
     "name": "stdout",
     "output_type": "stream",
     "text": [
      "True\n"
     ]
    }
   ],
   "source": [
    "#Approach1\n",
    "\n",
    "#time complexity = O(n^2)\n",
    "#Space complexity = O(1)\n",
    "\n",
    "A = [1,2,3,4,5,5]\n",
    "\n",
    "suml=0\n",
    "result=False\n",
    "for i in range(len(A)):\n",
    "    suml=suml+A[i]\n",
    "    sumr=0\n",
    "    for j in range(i+1,len(A)):\n",
    "        sumr=sumr+A[j]\n",
    "    if suml==sumr:\n",
    "        result=True\n",
    "        break\n",
    "print(result)        \n",
    "        \n",
    "        "
   ]
  },
  {
   "cell_type": "code",
   "execution_count": 8,
   "id": "22dcc17a",
   "metadata": {},
   "outputs": [
    {
     "name": "stdout",
     "output_type": "stream",
     "text": [
      "True\n"
     ]
    }
   ],
   "source": [
    "#Approach2\n",
    "\n",
    "#time complexity = O(n)\n",
    "#Space complexity = O(1)\n",
    "\n",
    "#We are creating sub array from end of array. initally suml is total sum and as the loop runs in reverse element is removed\n",
    "#from suml subarray and added to sumr subarray. If any cases arises where suml=sumr we return true.\n",
    "\n",
    "A = [1,2,3,4,5,5]\n",
    "\n",
    "result=False\n",
    "sumr=0\n",
    "total=0\n",
    "for i in range(len(A)):\n",
    "    total=total+A[i]\n",
    "    \n",
    "suml=total\n",
    "\n",
    "for j in range(len(A)-1,-1,-1):\n",
    "    sumr=sumr+A[j] # sumr is intially 0.\n",
    "    suml=suml-A[j] # suml is intially = total. as the loop runs ,A[j] is added to sumr and subtracted from suml.\n",
    "    if sumr==suml:\n",
    "        result=True\n",
    "        \n",
    "print(result)        \n",
    "    \n",
    "    \n",
    "    \n",
    "    \n",
    "    \n",
    "    "
   ]
  },
  {
   "cell_type": "code",
   "execution_count": null,
   "id": "a64f9d7c",
   "metadata": {},
   "outputs": [],
   "source": []
  }
 ],
 "metadata": {
  "kernelspec": {
   "display_name": "Python 3 (ipykernel)",
   "language": "python",
   "name": "python3"
  },
  "language_info": {
   "codemirror_mode": {
    "name": "ipython",
    "version": 3
   },
   "file_extension": ".py",
   "mimetype": "text/x-python",
   "name": "python",
   "nbconvert_exporter": "python",
   "pygments_lexer": "ipython3",
   "version": "3.9.7"
  }
 },
 "nbformat": 4,
 "nbformat_minor": 5
}
