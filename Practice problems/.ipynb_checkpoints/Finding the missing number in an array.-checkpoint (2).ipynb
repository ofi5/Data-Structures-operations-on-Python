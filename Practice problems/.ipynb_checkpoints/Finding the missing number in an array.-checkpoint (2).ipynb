{
 "cells": [
  {
   "cell_type": "code",
   "execution_count": 14,
   "metadata": {},
   "outputs": [
    {
     "name": "stdout",
     "output_type": "stream",
     "text": [
      "The missing element is: 5\n"
     ]
    }
   ],
   "source": [
    "'''Finding the missing number in an array of first n numbers.'''\n",
    "#Approach 1\n",
    "# 2 loops are run. Each element of array is compared with counter and then counter is incremented \n",
    "# and again elements are compared. K is initialised to false, if any element is matched with counter, \n",
    "# k value is changed to True. At the end of inner loop if k is false, it means that the counter element \n",
    "# did not match with any element in array hence it should be the missing element.\n",
    "\n",
    "#Time Complexity is O(n^2)\n",
    "\n",
    "a=[1,2,4,3,6,7,9,8,10]  # for n=10\n",
    "\n",
    "j=0    \n",
    "for j in range(1,11):\n",
    "    k=False\n",
    "    for i in range(0,len(a)):\n",
    "        if j==a[i]:\n",
    "            k=True\n",
    "            break \n",
    "    if k==False:\n",
    "        print(\"The missing element is:\",j)\n",
    "\n",
    "    \n"
   ]
  },
  {
   "cell_type": "code",
   "execution_count": 13,
   "metadata": {},
   "outputs": [
    {
     "name": "stdout",
     "output_type": "stream",
     "text": [
      "Missing Number= 5.0\n"
     ]
    }
   ],
   "source": [
    "a=[3,4,7,10,1,2,6,8,9]\n",
    "#Approach 2\n",
    "\n",
    "#We know the no. of elements n. The SUM of first n digits is (n*(n+1)/2).\n",
    "#We add all the elements of array using a loop.\n",
    "# SUM-sum of all elements of array will give us the missing number in the array of first n numbers. \n",
    "\n",
    "sum=(10*11/2)\n",
    "k=0\n",
    "for i in range(0,len(a)):\n",
    "    k=k+a[i]\n",
    "    \n",
    "print(\"Missing Number=\",(sum-k))    "
   ]
  },
  {
   "cell_type": "code",
   "execution_count": null,
   "metadata": {},
   "outputs": [],
   "source": []
  }
 ],
 "metadata": {
  "kernelspec": {
   "display_name": "Python 3",
   "language": "python",
   "name": "python3"
  },
  "language_info": {
   "codemirror_mode": {
    "name": "ipython",
    "version": 3
   },
   "file_extension": ".py",
   "mimetype": "text/x-python",
   "name": "python",
   "nbconvert_exporter": "python",
   "pygments_lexer": "ipython3",
   "version": "3.8.5"
  }
 },
 "nbformat": 4,
 "nbformat_minor": 4
}
