{
 "cells": [
  {
   "cell_type": "code",
   "execution_count": 19,
   "metadata": {},
   "outputs": [
    {
     "name": "stdout",
     "output_type": "stream",
     "text": [
      "Majority element is: 1 ,and has a total count of: 6\n"
     ]
    }
   ],
   "source": [
    "#Finding majority element in an Array.\n",
    "\n",
    "#Majority element is an element which is present in Array(of size n) more than n/2 times.\n",
    "\n",
    "#Approach 1\n",
    "\n",
    "# Each element in the array is counted for how many times it is present in the array. If the element is present more than n/2\n",
    "# times the length of the array, it will be returned. \n",
    "\n",
    "#Time Complexity = O(n^2)\n",
    "\n",
    "A=[1,2,1,2,1,2,1,2,1,2,1]\n",
    "count=1\n",
    "n=0\n",
    "for i in range(0,len(A)):\n",
    "    n=n+1 #counting the length of array.(Len(A) can be used as well.)\n",
    "    k=1\n",
    "    for j in range(i+1,len(A)):\n",
    "        if A[i]==A[j]:\n",
    "            k=k+1\n",
    "    if k>count:\n",
    "        M=A[i]\n",
    "        count=k\n",
    "if (count>(n/2)):\n",
    "    print(\"Majority element is:\",M ,\",and has a total count of:\", count)    \n",
    "else:\n",
    "    print(\"No Majority element present\")\n",
    " "
   ]
  },
  {
   "cell_type": "code",
   "execution_count": 8,
   "metadata": {},
   "outputs": [
    {
     "name": "stdout",
     "output_type": "stream",
     "text": [
      "Majority element is: 2 ,and has a total count of: 4\n"
     ]
    }
   ],
   "source": [
    "#Finding majority element in an Array.\n",
    "\n",
    "#Majority element is an element which is present in Array(of size n) more than n/2 times.\n",
    "\n",
    "#Approach 2\n",
    "\n",
    "#Boyer Moore Algorithm\n",
    "\n",
    "#Set count to 0 and assume majority element to be the first element.\n",
    "#Run the loop from start to end of Array, When Count is 0, you make the majority element to a[i] and increase the count.\n",
    "#When count != 0, you compare the majority element to a[i], if it is equal then count+1 else count-1.\n",
    "#After the loop, you will get an element(m) which may or may not be in majority in the Array.\n",
    "#Run the loop and count the occurence of m in Array and if it is greater than n/2(n is length of array),\n",
    "#then m is majority element else no majority element is present in Array.\n",
    "\n",
    "#Boyer Moore Algo gives us an element which has a probability of being a majority element in O(n) time complexity and\n",
    "# O(1) space Complexity.\n",
    "\n",
    "#Time Complexity = O(n)\n",
    "\n",
    "A=[1,8,7,2,2,2,2]\n",
    "count=0\n",
    "m=None\n",
    "\n",
    "for i in range(0,len(A)):\n",
    "    if count==0:\n",
    "        m=A[i]\n",
    "        count+=1\n",
    "         \n",
    "    else:\n",
    "        if m==A[i]:\n",
    "            count+=1\n",
    "        else: \n",
    "            count-=1\n",
    "occurs=0            \n",
    "for j in range(0,len(A)):\n",
    "    if A[j]==m:\n",
    "        occurs+=1\n",
    "if occurs>(len(A)/2):\n",
    "     print(\"Majority element is:\",m ,\",and has a total count of:\", occurs)  \n",
    "else:\n",
    "    print(\"No Majority element present\")\n",
    "    \n",
    "        \n",
    "    \n",
    "    \n",
    "    \n"
   ]
  },
  {
   "cell_type": "code",
   "execution_count": null,
   "metadata": {},
   "outputs": [],
   "source": []
  }
 ],
 "metadata": {
  "kernelspec": {
   "display_name": "Python 3 (ipykernel)",
   "language": "python",
   "name": "python3"
  },
  "language_info": {
   "codemirror_mode": {
    "name": "ipython",
    "version": 3
   },
   "file_extension": ".py",
   "mimetype": "text/x-python",
   "name": "python",
   "nbconvert_exporter": "python",
   "pygments_lexer": "ipython3",
   "version": "3.9.7"
  }
 },
 "nbformat": 4,
 "nbformat_minor": 4
}
