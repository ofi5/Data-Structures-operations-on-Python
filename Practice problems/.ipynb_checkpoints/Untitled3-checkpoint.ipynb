{
 "cells": [
  {
   "cell_type": "code",
   "execution_count": null,
   "metadata": {},
   "outputs": [],
   "source": [
    "A=[10,11,12,13,14,6,8,7,9]\n",
    "n = len(A)\n",
    "target = 7\n",
    "index=-1\n",
    "\n",
    "for i in range(len(A)):\n",
    "    if A[i]>A[i+1]:\n",
    "        r=i\n",
    "        l=(i+1)\n",
    "        print(r)\n",
    "        break\n",
    "while l!=r:\n",
    "    if A[l]==target or A[r]==target:\n",
    "        index=i\n",
    "    else:\n",
    "        l=(l+1)%n\n",
    "        r=(n+r-1)%n\n",
    "if index==-1:\n",
    "    print(-1)\n",
    "else:\n",
    "    print(index)\n",
    "            \n"
   ]
  },
  {
   "cell_type": "code",
   "execution_count": null,
   "metadata": {},
   "outputs": [],
   "source": []
  }
 ],
 "metadata": {
  "kernelspec": {
   "display_name": "Python 3",
   "language": "python",
   "name": "python3"
  },
  "language_info": {
   "codemirror_mode": {
    "name": "ipython",
    "version": 3
   },
   "file_extension": ".py",
   "mimetype": "text/x-python",
   "name": "python",
   "nbconvert_exporter": "python",
   "pygments_lexer": "ipython3",
   "version": "3.8.5"
  }
 },
 "nbformat": 4,
 "nbformat_minor": 4
}
