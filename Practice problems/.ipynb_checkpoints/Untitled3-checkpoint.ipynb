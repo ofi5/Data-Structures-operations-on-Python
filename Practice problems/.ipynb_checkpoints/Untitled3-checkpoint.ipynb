{
 "cells": [
  {
   "cell_type": "code",
   "execution_count": null,
   "metadata": {},
   "outputs": [],
   "source": [
    "def mergesort(A,l,h):\n",
    "    if l>=h:\n",
    "        return 0\n",
    "\n",
    "    m=(l+(h-l))//2\n",
    "   \n",
    "    o=mergesort(A,l,m)\n",
    "    f=mergesort(A,m+1,h)\n",
    "    g=merge(A,l,m,h)\n",
    "    return (o+f+g)\n",
    "        \n",
    "        \n",
    "def merge(A,l,mid,h):\n",
    "    i=l\n",
    "    j=mid+1\n",
    "    k=0\n",
    "    count=0\n",
    "    temp=A\n",
    "    \n",
    "    while i<=mid and j<=h:\n",
    "        if A[i]<A[j]:\n",
    "            count=count+(mid-i+1)\n",
    "            temp[k]=A[j]\n",
    "            k=k+1\n",
    "            j=j+1\n",
    "        else:\n",
    "            temp[k]=A[j]\n",
    "            k=k+1\n",
    "            j=j+1\n",
    "    \n",
    "    while i<=mid:\n",
    "        temp[k]=A[i]\n",
    "        k=k+1\n",
    "        i=i+1\n",
    "       \n",
    "    while j<=h:\n",
    "        temp[k]=A[j]\n",
    "        k=k+1\n",
    "        j=j+1\n",
    "            \n",
    "    A=temp\n",
    "    return count\n",
    "\n",
    "\n",
    "A = [2,5,1,7,9]\n",
    "     \n",
    "\n",
    "b=mergesort(A,0,len(A)-1)\n",
    "\n",
    "\n",
    "print(b)\n",
    "\n",
    "            \n"
   ]
  },
  {
   "cell_type": "code",
   "execution_count": null,
   "metadata": {},
   "outputs": [],
   "source": []
  }
 ],
 "metadata": {
  "kernelspec": {
   "display_name": "Python 3 (ipykernel)",
   "language": "python",
   "name": "python3"
  },
  "language_info": {
   "codemirror_mode": {
    "name": "ipython",
    "version": 3
   },
   "file_extension": ".py",
   "mimetype": "text/x-python",
   "name": "python",
   "nbconvert_exporter": "python",
   "pygments_lexer": "ipython3",
   "version": "3.9.7"
  }
 },
 "nbformat": 4,
 "nbformat_minor": 4
}
