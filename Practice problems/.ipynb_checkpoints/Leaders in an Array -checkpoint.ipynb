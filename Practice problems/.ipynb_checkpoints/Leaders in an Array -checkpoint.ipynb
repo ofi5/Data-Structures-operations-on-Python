{
 "cells": [
  {
   "cell_type": "code",
   "execution_count": 11,
   "metadata": {},
   "outputs": [
    {
     "name": "stdout",
     "output_type": "stream",
     "text": [
      "[8, 5, 4, 2]\n"
     ]
    }
   ],
   "source": [
    "'''\n",
    "Find leaders of array.\n",
    "A = [8,1,2,4,5,4,2]\n",
    "In Array A , 8 is a leader as all the elements after it are smaller than 8.\n",
    "Similarly 5 is leader of 4 and 2.\n",
    "4 is leader of 2.\n",
    "2 is leader on its own.\n",
    "\n",
    "\n",
    "\n",
    "'''\n",
    "\n",
    "#Approach1\n",
    "#2 loops are run, and index element is compared with the following elements.\n",
    "#time Complexity = O(n^2)\n",
    "#space Complexity = O(n)\n",
    "\n",
    "\n",
    "A = [8,1,2,4,5,4,2]\n",
    "\n",
    "B=[]\n",
    "\n",
    "for i in range(0,len(A)-1):\n",
    "    lead = A[i]\n",
    "    for j in range(i+1,len(A)):\n",
    "        if lead<A[j]:\n",
    "            lead=None\n",
    "            break\n",
    "            \n",
    "    if lead:\n",
    "        B.append(lead)\n",
    "B.append(A[-1])        \n",
    "print(B)        \n",
    "            \n",
    "            \n",
    "            "
   ]
  },
  {
   "cell_type": "code",
   "execution_count": 18,
   "metadata": {},
   "outputs": [
    {
     "name": "stdout",
     "output_type": "stream",
     "text": [
      "[8, 5, 4, 2]\n"
     ]
    }
   ],
   "source": [
    "#Approach2\n",
    "\n",
    "#Run the loop from reverse and have a max variable.\n",
    "#While running from reverse, the max element will be leader from front.\n",
    "#if any element more than max is visited, then max value is changed to that element and it is added to leaders list.\n",
    "\n",
    "#time complexity = O(n^2)\n",
    "#Space Complexity = O(n)\n",
    "\n",
    "\n",
    "A = [8,1,2,4,5,4,2]\n",
    "\n",
    "maxi=A[-1]\n",
    "\n",
    "\n",
    "\n",
    "for i in range(len(A)-2,-1,-1):\n",
    "    if A[i]>maxi:\n",
    "        maxi=A[i]\n",
    "        print(maxi)\n",
    "\n",
    "(b.reverse())\n",
    "print(b)\n",
    "        \n",
    "    \n",
    "\n",
    "            "
   ]
  },
  {
   "cell_type": "code",
   "execution_count": null,
   "metadata": {},
   "outputs": [],
   "source": []
  }
 ],
 "metadata": {
  "kernelspec": {
   "display_name": "Python 3",
   "language": "python",
   "name": "python3"
  },
  "language_info": {
   "codemirror_mode": {
    "name": "ipython",
    "version": 3
   },
   "file_extension": ".py",
   "mimetype": "text/x-python",
   "name": "python",
   "nbconvert_exporter": "python",
   "pygments_lexer": "ipython3",
   "version": "3.8.5"
  }
 },
 "nbformat": 4,
 "nbformat_minor": 4
}
