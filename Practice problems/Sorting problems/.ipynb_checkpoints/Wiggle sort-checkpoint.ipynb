{
 "cells": [
  {
   "cell_type": "code",
   "execution_count": null,
   "metadata": {},
   "outputs": [],
   "source": [
    "        "
   ]
  },
  {
   "cell_type": "code",
   "execution_count": 14,
   "metadata": {},
   "outputs": [
    {
     "name": "stdout",
     "output_type": "stream",
     "text": [
      "[1, 3, 2, 5, 4, 7, 6, 9, 8, 11, 10, 13, 12, 15, 14, 16]\n"
     ]
    }
   ],
   "source": [
    "'''Given an unsorted array nums, reorder it in-place such that nums[0] <= nums[1] >= nums[2] <= nums[3]....'''\n",
    "\n",
    "\n",
    "\n",
    "#Approach1\n",
    "\n",
    "#Sort the array, and then swap every odd indexed element with the next element. \n",
    "#Time Complexity=O(nlogn)\n",
    "#Space Complexity=O(1)\n",
    "\n",
    "def wiggle(A):\n",
    "    mergesort(A)\n",
    "    for i in range(1,len(A)-1):\n",
    "        if i%2==1:\n",
    "            A[i],A[i+1]=A[i+1],A[i]\n",
    "            \n",
    "\n",
    "def mergesort(A):\n",
    "    \n",
    "    if len(A)>1:\n",
    "        mid = len(A)//2\n",
    "        left =A[:mid]\n",
    "        right =A[mid:]\n",
    "        mergesort(left)\n",
    "        mergesort(right)\n",
    "        merge(A,left,right)\n",
    "\n",
    "def merge(A,l,r):\n",
    "    i=0\n",
    "    j=0\n",
    "    k=0\n",
    "    \n",
    "    while i<len(l) and j<len(r):\n",
    "        \n",
    "        if l[i]<r[j]:\n",
    "            A[k]=l[i]\n",
    "            i=i+1\n",
    "            k=k+1\n",
    "        else:\n",
    "            A[k]=r[j]\n",
    "            j=j+1\n",
    "            k=k+1\n",
    "    while i<len(l):\n",
    "        A[k]=l[i]\n",
    "        i=i+1\n",
    "        k=k+1\n",
    "    while j<len(r):\n",
    "        A[k]=r[j]\n",
    "        j=j+1\n",
    "        k=k+1\n",
    "        \n",
    "A=[10,11,12,13,14,15,16,1,2,3,4,5,6,7,8,9]        \n",
    "wiggle(A)\n",
    "print(A)\n",
    "    "
   ]
  },
  {
   "cell_type": "code",
   "execution_count": 37,
   "metadata": {},
   "outputs": [
    {
     "name": "stdout",
     "output_type": "stream",
     "text": [
      "[1, 1, 1, 1, 1, 10, 0, 1, 0]\n"
     ]
    }
   ],
   "source": [
    "#Approach2\n",
    "#Every odd indexed element is to be max according to question. We pick that odd indexed element and make it greater than \n",
    "#previous and next element.\n",
    "\n",
    "#Time Complexity=O(n)\n",
    "#space Complexity=O(1)\n",
    "\n",
    "A=[2,8,4,5,0,6,7,11,9]\n",
    "for i in range(1,len(A)-1):\n",
    "    if i%2==1:\n",
    "        if A[i]<A[i-1]:\n",
    "            A[i],A[i-1]=A[i-1],A[i]\n",
    "            if A[i]<A[i+1]:\n",
    "                 A[i],A[i+1]=A[i+1],A[i]\n",
    "            \n",
    "        elif A[i]<A[i+1]:    \n",
    "            A[i],A[i+1]=A[i+1],A[i]\n",
    "print(A)            \n",
    "    "
   ]
  },
  {
   "cell_type": "code",
   "execution_count": null,
   "metadata": {},
   "outputs": [],
   "source": []
  }
 ],
 "metadata": {
  "kernelspec": {
   "display_name": "Python 3",
   "language": "python",
   "name": "python3"
  },
  "language_info": {
   "codemirror_mode": {
    "name": "ipython",
    "version": 3
   },
   "file_extension": ".py",
   "mimetype": "text/x-python",
   "name": "python",
   "nbconvert_exporter": "python",
   "pygments_lexer": "ipython3",
   "version": "3.8.5"
  }
 },
 "nbformat": 4,
 "nbformat_minor": 4
}
