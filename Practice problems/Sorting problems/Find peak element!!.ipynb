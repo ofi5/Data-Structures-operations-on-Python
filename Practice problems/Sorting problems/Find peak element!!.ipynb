{
 "cells": [
  {
   "cell_type": "code",
   "execution_count": 2,
   "metadata": {},
   "outputs": [
    {
     "name": "stdout",
     "output_type": "stream",
     "text": [
      "5\n"
     ]
    }
   ],
   "source": [
    "'''\n",
    "A peak element is an element that is greater than its neighbors.\n",
    "\n",
    "Given an input array nums, where nums[i] ≠ nums[i+1], find a peak element and return its index.\n",
    "\n",
    "The array may contain multiple peaks, in that case return the index to any one of the peaks is fine.\n",
    "\n",
    "You may imagine that nums[-1] = nums[n] = -∞.\\\n",
    "\n",
    "'''\n",
    "\n",
    "A= [1,2,1,3,5,6,4]\n",
    "\n",
    "for i in range(1,len(A)-2):\n",
    "    if A[i]>A[i-1] and A[i]<A[i+1]:\n",
    "        peakIndex=i\n",
    "        peakElement=A[i]\n",
    "        \n",
    "if A[0]>peakElement and A[0]>A[-1]:\n",
    "    peakElement=A[0]\n",
    "    \n",
    "if A[-1]>peakElement and A[-1]>A[0]:\n",
    "    peakElement=A[-1]\n",
    "    \n",
    "print(peakElement)    "
   ]
  },
  {
   "cell_type": "code",
   "execution_count": null,
   "metadata": {},
   "outputs": [],
   "source": []
  }
 ],
 "metadata": {
  "kernelspec": {
   "display_name": "Python 3",
   "language": "python",
   "name": "python3"
  },
  "language_info": {
   "codemirror_mode": {
    "name": "ipython",
    "version": 3
   },
   "file_extension": ".py",
   "mimetype": "text/x-python",
   "name": "python",
   "nbconvert_exporter": "python",
   "pygments_lexer": "ipython3",
   "version": "3.8.5"
  }
 },
 "nbformat": 4,
 "nbformat_minor": 4
}
