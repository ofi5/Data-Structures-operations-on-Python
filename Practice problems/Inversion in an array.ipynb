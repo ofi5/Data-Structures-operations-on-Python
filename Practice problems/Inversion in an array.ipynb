{
 "cells": [
  {
   "cell_type": "code",
   "execution_count": 5,
   "id": "d00c4f1f",
   "metadata": {},
   "outputs": [
    {
     "name": "stdout",
     "output_type": "stream",
     "text": [
      "false\n",
      "1\n",
      "2\n"
     ]
    }
   ],
   "source": [
    "'''\n",
    "\n",
    "We have some permutation A of [0, 1, ..., N - 1], where N is the length of A.\n",
    "\n",
    "The number of (global) inversions is the number of i < j with 0 <= i < j < N and A[i] > A[j].\n",
    "\n",
    "The number of local inversions is the number of i with 0 <= i < N and A[i] > A[i+1].\n",
    "\n",
    "Return true if and only if the number of global inversions is equal to the number of local inversions.'''\n",
    "\n",
    "\n",
    "A=[2,5,1,7,9]\n",
    "local=0\n",
    "glob=0\n",
    "\n",
    "for i in range(0,len(A)-1):\n",
    "    for j in range(i+1,len(A)):\n",
    "        if A[i]>A[j]:\n",
    "            glob=glob+1\n",
    "            \n",
    "for i in range(0,len(A)-1):\n",
    "        if A[i]>A[i+1]:\n",
    "            local=local+1     \n",
    "if local==glob:\n",
    "    print(\"true\")\n",
    "else:\n",
    "    print(\"false\")\n",
    "            \n",
    "print(local)\n",
    "print(glob)\n",
    "\n"
   ]
  },
  {
   "cell_type": "code",
   "execution_count": null,
   "id": "3ae8a7d2",
   "metadata": {},
   "outputs": [],
   "source": []
  }
 ],
 "metadata": {
  "kernelspec": {
   "display_name": "Python 3 (ipykernel)",
   "language": "python",
   "name": "python3"
  },
  "language_info": {
   "codemirror_mode": {
    "name": "ipython",
    "version": 3
   },
   "file_extension": ".py",
   "mimetype": "text/x-python",
   "name": "python",
   "nbconvert_exporter": "python",
   "pygments_lexer": "ipython3",
   "version": "3.9.7"
  }
 },
 "nbformat": 4,
 "nbformat_minor": 5
}
