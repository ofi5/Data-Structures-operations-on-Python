{
 "cells": [
  {
   "cell_type": "code",
   "execution_count": 7,
   "id": "4084317d",
   "metadata": {},
   "outputs": [
    {
     "name": "stdout",
     "output_type": "stream",
     "text": [
      "false\n",
      "1\n",
      "2\n"
     ]
    }
   ],
   "source": [
    "'''\n",
    "\n",
    "We have some permutation A of [0, 1, ..., N - 1], where N is the length of A.\n",
    "\n",
    "The number of (global) inversions is the number of i < j with 0 <= i < j < N and A[i] > A[j].\n",
    "\n",
    "The number of local inversions is the number of i with 0 <= i < N and A[i] > A[i+1].\n",
    "\n",
    "Return true if and only if the number of global inversions is equal to the number of local inversions.'''\n",
    "\n",
    "\n",
    "A=[2,5,1,7,9]\n",
    "local=0\n",
    "glob=0\n",
    "\n",
    "for i in range(0,len(A)-1):\n",
    "    for j in range(i+1,len(A)):\n",
    "        if A[i]>A[j]:\n",
    "            glob=glob+1\n",
    "            \n",
    "for i in range(0,len(A)-1):\n",
    "        if A[i]>A[i+1]:\n",
    "            local=local+1     \n",
    "if local==glob:\n",
    "    print(\"true\")\n",
    "else:\n",
    "    print(\"false\")\n",
    "            \n",
    "print(local)\n",
    "print(glob)\n",
    "\n"
   ]
  },
  {
   "cell_type": "code",
   "execution_count": 18,
   "id": "9b4815c1",
   "metadata": {},
   "outputs": [
    {
     "name": "stdout",
     "output_type": "stream",
     "text": [
      "None\n"
     ]
    }
   ],
   "source": [
    "\n",
    "\n",
    "\n",
    "\n",
    "def mergesort(A,l,h):\n",
    "    if l>=h:\n",
    "        return 0\n",
    "\n",
    "    m=len(A)//2\n",
    "    l=A[0:m]\n",
    "            r=A[m:]\n",
    "            mergesort(l)\n",
    "            mergesort(r)\n",
    "            merge(A,l,r)        \n",
    "        \n",
    "        \n",
    "def merge(A,l,mid,high):\n",
    "    i=l\n",
    "    j=mid+1\n",
    "    k=0\n",
    "    count=0\n",
    "    temp=A[l:h]\n",
    "    \n",
    "    while i<=len(l) and j<=len(r):\n",
    "        if A[i]>A[j]:\n",
    "            count=count+(mid-i+1)\n",
    "            temp[k++]=A[j++]\n",
    "        else:\n",
    "            temp[k++]=A[j++]\n",
    "        k=k+1\n",
    "    while i<=mid:\n",
    "        temp[k++]=A[i++]\n",
    "       \n",
    "    while j<=h:\n",
    "        temp[k++]=A[j++]\n",
    "            \n",
    "    A=temp\n",
    "    return count\n",
    "\n",
    "\n",
    "A = [2,5,1,7,9]\n",
    "     \n",
    "\n",
    "b=mergesort(A,glob)\n",
    "\n",
    "\n",
    "print(b)\n",
    "           \n",
    "            \n"
   ]
  },
  {
   "cell_type": "code",
   "execution_count": null,
   "id": "786259be",
   "metadata": {},
   "outputs": [],
   "source": []
  }
 ],
 "metadata": {
  "kernelspec": {
   "display_name": "Python 3 (ipykernel)",
   "language": "python",
   "name": "python3"
  },
  "language_info": {
   "codemirror_mode": {
    "name": "ipython",
    "version": 3
   },
   "file_extension": ".py",
   "mimetype": "text/x-python",
   "name": "python",
   "nbconvert_exporter": "python",
   "pygments_lexer": "ipython3",
   "version": "3.9.7"
  }
 },
 "nbformat": 4,
 "nbformat_minor": 5
}
