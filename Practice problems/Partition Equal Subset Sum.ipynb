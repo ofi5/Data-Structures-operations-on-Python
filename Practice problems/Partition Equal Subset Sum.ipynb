{
 "cells": [
  {
   "cell_type": "code",
   "execution_count": 1,
   "id": "ed7a01bd",
   "metadata": {},
   "outputs": [
    {
     "ename": "NameError",
     "evalue": "name 'partition' is not defined",
     "output_type": "error",
     "traceback": [
      "\u001b[1;31m---------------------------------------------------------------------------\u001b[0m",
      "\u001b[1;31mNameError\u001b[0m                                 Traceback (most recent call last)",
      "\u001b[1;32m~\\AppData\\Local\\Temp/ipykernel_8212/323008090.py\u001b[0m in \u001b[0;36m<module>\u001b[1;34m\u001b[0m\n\u001b[0;32m     27\u001b[0m \u001b[0msum\u001b[0m\u001b[1;33m(\u001b[0m\u001b[0mA\u001b[0m\u001b[1;33m,\u001b[0m\u001b[0mmid\u001b[0m\u001b[1;33m)\u001b[0m\u001b[1;33m\u001b[0m\u001b[1;33m\u001b[0m\u001b[0m\n\u001b[0;32m     28\u001b[0m \u001b[1;33m\u001b[0m\u001b[0m\n\u001b[1;32m---> 29\u001b[1;33m \u001b[0mprint\u001b[0m\u001b[1;33m(\u001b[0m\u001b[0mpartition\u001b[0m\u001b[1;33m)\u001b[0m\u001b[1;33m\u001b[0m\u001b[1;33m\u001b[0m\u001b[0m\n\u001b[0m\u001b[0;32m     30\u001b[0m \u001b[1;33m\u001b[0m\u001b[0m\n\u001b[0;32m     31\u001b[0m \u001b[1;33m\u001b[0m\u001b[0m\n",
      "\u001b[1;31mNameError\u001b[0m: name 'partition' is not defined"
     ]
    }
   ],
   "source": [
    "\n",
    "\n",
    "def sum(A,mid):\n",
    "    suml=0\n",
    "    sumr=0\n",
    "    partition=1\n",
    "   \n",
    "    for j in range(mid,-1,-1):\n",
    "        suml=suml+A[j]\n",
    "     \n",
    "    for i in range(mid+1,len(A)):\n",
    "        sumr=sumr+A[i]\n",
    "        \n",
    "    if sumr == suml:\n",
    "        partition=True \n",
    "        return\n",
    "    elif sumr<suml:\n",
    "        mid=mid-1\n",
    "        return sum(A,mid)\n",
    "    elif sumr>suml:\n",
    "        \n",
    "        mid=mid+1\n",
    "        return sum(A,mid)\n",
    "   \n",
    "    \n",
    "A = [1,2,3,4,5,5]\n",
    "mid=len(A)//2\n",
    "  \n",
    "sum(A,mid)\n",
    "\n",
    "print(partition)\n",
    "\n",
    "\n",
    "        \n",
    "        "
   ]
  },
  {
   "cell_type": "code",
   "execution_count": 2,
   "id": "c8c61ef3",
   "metadata": {},
   "outputs": [
    {
     "name": "stdout",
     "output_type": "stream",
     "text": [
      "10\n",
      "10\n",
      "True\n"
     ]
    }
   ],
   "source": [
    "def sum(A,mid):\n",
    "    suml=0\n",
    "    sumr=0\n",
    "    partition=True\n",
    "    count=0\n",
    "   \n",
    "    for j in range(mid,-1,-1):\n",
    "        suml=suml+A[j]\n",
    "    print(suml)\n",
    "     \n",
    "    for i in range(mid+1,len(A)):\n",
    "        sumr=sumr+A[i]\n",
    "    print(sumr)\n",
    "    \n",
    "     \n",
    "    if sumr == suml:\n",
    "        partition=True     \n",
    "       \n",
    "    elif sumr<suml:\n",
    "        return sum(A,mid-1)\n",
    "    elif sumr>suml:\n",
    "        return sum(A,mid+1)\n",
    "   \n",
    "    \n",
    "A = [1,2,3,4,5,5]\n",
    "mid=len(A)//2\n",
    "  \n",
    "b=sum(A,mid)\n",
    "\n",
    "print(b)\n",
    "\n",
    "\n"
   ]
  },
  {
   "cell_type": "code",
   "execution_count": 4,
   "id": "d61e6b42",
   "metadata": {},
   "outputs": [
    {
     "name": "stdout",
     "output_type": "stream",
     "text": [
      "True\n"
     ]
    }
   ],
   "source": [
    "A = [1,2,3,4,5,5]\n",
    "\n",
    "suml=0\n",
    "result=False\n",
    "for i in range(len(A)):\n",
    "    suml=suml+A[i]\n",
    "    sumr=0\n",
    "    for j in range(i+1,len(A)):\n",
    "        sumr=sumr+A[j]\n",
    "    if suml==sumr:\n",
    "        result=True\n",
    "        break\n",
    "print(result)        \n",
    "        \n",
    "        "
   ]
  },
  {
   "cell_type": "code",
   "execution_count": null,
   "id": "e9ae3ded",
   "metadata": {},
   "outputs": [],
   "source": [
    "A = [1,2,3,4,5,5]"
   ]
  }
 ],
 "metadata": {
  "kernelspec": {
   "display_name": "Python 3 (ipykernel)",
   "language": "python",
   "name": "python3"
  },
  "language_info": {
   "codemirror_mode": {
    "name": "ipython",
    "version": 3
   },
   "file_extension": ".py",
   "mimetype": "text/x-python",
   "name": "python",
   "nbconvert_exporter": "python",
   "pygments_lexer": "ipython3",
   "version": "3.9.7"
  }
 },
 "nbformat": 4,
 "nbformat_minor": 5
}
