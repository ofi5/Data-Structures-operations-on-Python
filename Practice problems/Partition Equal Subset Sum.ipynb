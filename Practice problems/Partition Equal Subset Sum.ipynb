{
 "cells": [
  {
   "cell_type": "code",
   "execution_count": 10,
   "id": "ed7a01bd",
   "metadata": {},
   "outputs": [
    {
     "name": "stdout",
     "output_type": "stream",
     "text": [
      "False\n"
     ]
    }
   ],
   "source": [
    "\n",
    "\n",
    "def sum(A,mid):\n",
    "    suml=0\n",
    "    sumr=0\n",
    "    partition=1\n",
    "   \n",
    "    for j in range(mid,-1,-1):\n",
    "        suml=suml+A[j]\n",
    "     \n",
    "    for i in range(mid+1,len(A)):\n",
    "        sumr=sumr+A[i]\n",
    "        \n",
    "    if sumr == suml:\n",
    "        partition=True \n",
    "       \n",
    "    elif sumr<suml:\n",
    "        mid=mid-1\n",
    "        return sum(A,mid)\n",
    "    elif sumr>suml:\n",
    "        \n",
    "        mid=mid+1\n",
    "        return sum(A,mid)\n",
    "   \n",
    "    \n",
    "A = [1,2,3,4,5,5]\n",
    "mid=len(A)//2\n",
    "  \n",
    "sum(A,mid)\n",
    "\n",
    "print(partition)\n",
    "\n",
    "\n",
    "        \n",
    "        "
   ]
  },
  {
   "cell_type": "code",
   "execution_count": 15,
   "id": "c8c61ef3",
   "metadata": {},
   "outputs": [
    {
     "name": "stdout",
     "output_type": "stream",
     "text": [
      "False\n"
     ]
    }
   ],
   "source": [
    "def sum(A,mid):\n",
    "    suml=0\n",
    "    sumr=0\n",
    "    partition=True\n",
    "   \n",
    "    for j in range(mid,-1,-1):\n",
    "        suml=suml+A[j]\n",
    "     \n",
    "    for i in range(mid+1,len(A)):\n",
    "        sumr=sumr+A[i]\n",
    "        \n",
    "    if sumr == suml:\n",
    "        partition=True \n",
    "       \n",
    "    elif sumr<suml:\n",
    "      \n",
    "        return sum(A,mid-1)\n",
    "    elif sumr>suml:\n",
    "        \n",
    "     \n",
    "        return sum(A,mid+1)\n",
    "   \n",
    "    \n",
    "A = [1,2,3,4,5,5]\n",
    "mid=len(A)//2\n",
    "  \n",
    "sum(A,mid)\n",
    "\n",
    "print(partition)\n"
   ]
  },
  {
   "cell_type": "code",
   "execution_count": null,
   "id": "d61e6b42",
   "metadata": {},
   "outputs": [],
   "source": []
  }
 ],
 "metadata": {
  "kernelspec": {
   "display_name": "Python 3 (ipykernel)",
   "language": "python",
   "name": "python3"
  },
  "language_info": {
   "codemirror_mode": {
    "name": "ipython",
    "version": 3
   },
   "file_extension": ".py",
   "mimetype": "text/x-python",
   "name": "python",
   "nbconvert_exporter": "python",
   "pygments_lexer": "ipython3",
   "version": "3.9.7"
  }
 },
 "nbformat": 4,
 "nbformat_minor": 5
}
