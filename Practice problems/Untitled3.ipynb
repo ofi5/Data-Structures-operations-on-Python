{
 "cells": [
  {
   "cell_type": "code",
   "execution_count": 6,
   "metadata": {},
   "outputs": [
    {
     "name": "stdout",
     "output_type": "stream",
     "text": [
      "5\n",
      "4\n"
     ]
    }
   ],
   "source": [
    "A=[10,11,12,13,14,6,7,9]\n",
    "n = len(A)\n",
    "target = 7\n",
    "index=-1\n",
    "\n",
    "for i in range(len(A)-1):\n",
    "    if A[i]>A[i+1]:\n",
    "        r=i\n",
    "        l=(i+1)\n",
    "        print(l)\n",
    "        print(r)\n",
    "        break\n",
    "        \n",
    "\n",
    "            \n"
   ]
  },
  {
   "cell_type": "code",
   "execution_count": null,
   "metadata": {},
   "outputs": [],
   "source": []
  }
 ],
 "metadata": {
  "kernelspec": {
   "display_name": "Python 3",
   "language": "python",
   "name": "python3"
  },
  "language_info": {
   "codemirror_mode": {
    "name": "ipython",
    "version": 3
   },
   "file_extension": ".py",
   "mimetype": "text/x-python",
   "name": "python",
   "nbconvert_exporter": "python",
   "pygments_lexer": "ipython3",
   "version": "3.8.5"
  }
 },
 "nbformat": 4,
 "nbformat_minor": 4
}
