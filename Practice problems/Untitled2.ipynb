{
 "cells": [
  {
   "cell_type": "code",
   "execution_count": 19,
   "metadata": {
    "scrolled": true
   },
   "outputs": [
    {
     "name": "stdout",
     "output_type": "stream",
     "text": [
      "6\n"
     ]
    }
   ],
   "source": [
    "'''\n",
    "Suppose an array sorted in ascending order is rotated at some pivot unknown to you beforehand.\n",
    "\n",
    "(i.e., [0,1,2,4,5,6,7] might become [4,5,6,7,0,1,2]).\n",
    "\n",
    "You are given a target value to search. If found in the array return its index, otherwise return -1.\n",
    "\n",
    "You may assume no duplicate exists in the array.\n",
    "\n",
    "Your algorithm's runtime complexity must be in the order of O(log n).'''\n",
    "\n",
    "A=[10,11,12,13,6,8,7,9]\n",
    "\n",
    "target = 7\n",
    "index=-1\n",
    "\n",
    "for i in range(0,len(A)):\n",
    "    if A[i]==target:\n",
    "        index=i\n",
    "if index==-1:\n",
    "    print(-1)\n",
    "else:\n",
    "    print(index)\n",
    "        \n",
    "        "
   ]
  },
  {
   "cell_type": "code",
   "execution_count": 31,
   "metadata": {},
   "outputs": [
    {
     "name": "stdout",
     "output_type": "stream",
     "text": [
      "6\n"
     ]
    }
   ],
   "source": [
    "A=[10,11,12,13,14,6,7,8,9]\n",
    "n = len(A)\n",
    "target = 7\n",
    "index=-1\n",
    "\n",
    "for i in range(len(A)-1):\n",
    "    if A[i]>A[i+1]:\n",
    "        r=i\n",
    "        l=(i+1)\n",
    "        break\n",
    "        \n",
    "        \n",
    "while (l!=r):\n",
    "    if A[l]==target:\n",
    "        index=l\n",
    "        break\n",
    "       \n",
    "    elif A[r]==target:\n",
    "        index=r\n",
    "        break\n",
    "    else:\n",
    "        l=(l+1)%n\n",
    "        r=(n+r-1)%n\n",
    "if index==-1:\n",
    "    print(-1)\n",
    "else:\n",
    "    print(index)\n",
    "            \n"
   ]
  },
  {
   "cell_type": "code",
   "execution_count": 52,
   "metadata": {},
   "outputs": [
    {
     "ename": "SyntaxError",
     "evalue": "invalid syntax (<ipython-input-52-90dd6153e0dd>, line 15)",
     "output_type": "error",
     "traceback": [
      "\u001b[1;36m  File \u001b[1;32m\"<ipython-input-52-90dd6153e0dd>\"\u001b[1;36m, line \u001b[1;32m15\u001b[0m\n\u001b[1;33m    return bS(A,start,mid-1):\u001b[0m\n\u001b[1;37m                            ^\u001b[0m\n\u001b[1;31mSyntaxError\u001b[0m\u001b[1;31m:\u001b[0m invalid syntax\n"
     ]
    }
   ],
   "source": [
    "A=[12,13,14,15,16,17,7,8,9,10,11]\n",
    "n = len(A)\n",
    "target=11\n",
    "start = 0\n",
    "end = n-1\n",
    "\n",
    "def bS(A,l,h):  \n",
    "    \n",
    "    while l<h:\n",
    "        mid = l+h//2\n",
    "        \n",
    "        if A[mid] == target:\n",
    "            return mid\n",
    "        elif A[mid]>target:\n",
    "            return bS(A,start,mid-1)\n",
    "        elif A[mid]<target:\n",
    "            return bS(A,mid+1,end)\n",
    "        else:\n",
    "            return -1\n",
    "    \n",
    "\n",
    "def small(A,start,end):\n",
    "    while start<end:\n",
    "        if A[0]<A[-1]:\n",
    "            return 0\n",
    "        mid = (end+start)//2\n",
    "        if A[mid] < A[mid+1] and A[mid] < A[mid-1]:\n",
    "            return mid\n",
    "        if A[mid] > A[mid+1] and A[mid] > A[mid-1]:\n",
    "            return mid+1\n",
    "        elif A[mid]>A[end]:\n",
    "            return small(A,mid+1,end)\n",
    "        else:\n",
    "            return small(A,start,mid-1)\n",
    "        \n",
    "        \n",
    "def targetfinder(A,l):\n",
    "    smallest = small(A,start,end)\n",
    "    return bS(A,small+1,end)\n",
    "    return bS(A,start,small-1)\n",
    "   \n",
    "        \n",
    "        \n",
    "    \n",
    "        "
   ]
  },
  {
   "cell_type": "code",
   "execution_count": null,
   "metadata": {},
   "outputs": [],
   "source": []
  }
 ],
 "metadata": {
  "kernelspec": {
   "display_name": "Python 3",
   "language": "python",
   "name": "python3"
  },
  "language_info": {
   "codemirror_mode": {
    "name": "ipython",
    "version": 3
   },
   "file_extension": ".py",
   "mimetype": "text/x-python",
   "name": "python",
   "nbconvert_exporter": "python",
   "pygments_lexer": "ipython3",
   "version": "3.8.5"
  }
 },
 "nbformat": 4,
 "nbformat_minor": 4
}
