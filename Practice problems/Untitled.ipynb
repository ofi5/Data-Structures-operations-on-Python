{
 "cells": [
  {
   "cell_type": "code",
   "execution_count": 21,
   "metadata": {},
   "outputs": [
    {
     "name": "stdout",
     "output_type": "stream",
     "text": [
      "[[3, 4], [1, 3], [2, 6], [2, 2], [1, 8], [0, 5]]\n",
      "[[0, 5], [2, 8], [3, 3], [4, 2], [5, 6], [8, 4]]\n"
     ]
    },
    {
     "ename": "IndexError",
     "evalue": "list assignment index out of range",
     "output_type": "error",
     "traceback": [
      "\u001b[1;31m---------------------------------------------------------------------------\u001b[0m",
      "\u001b[1;31mIndexError\u001b[0m                                Traceback (most recent call last)",
      "\u001b[1;32m<ipython-input-21-e2dcbd1bbb28>\u001b[0m in \u001b[0;36m<module>\u001b[1;34m\u001b[0m\n\u001b[0;32m     52\u001b[0m \u001b[0mprint\u001b[0m\u001b[1;33m(\u001b[0m\u001b[0marr\u001b[0m\u001b[1;33m)\u001b[0m\u001b[1;33m\u001b[0m\u001b[1;33m\u001b[0m\u001b[0m\n\u001b[0;32m     53\u001b[0m \u001b[1;32mfor\u001b[0m \u001b[0mx\u001b[0m \u001b[1;32min\u001b[0m \u001b[0marr\u001b[0m\u001b[1;33m:\u001b[0m\u001b[1;33m\u001b[0m\u001b[1;33m\u001b[0m\u001b[0m\n\u001b[1;32m---> 54\u001b[1;33m     \u001b[0mnums\u001b[0m\u001b[1;33m[\u001b[0m\u001b[0mx\u001b[0m\u001b[1;33m[\u001b[0m\u001b[1;36m0\u001b[0m\u001b[1;33m]\u001b[0m\u001b[1;33m]\u001b[0m \u001b[1;33m=\u001b[0m \u001b[0mx\u001b[0m\u001b[1;33m[\u001b[0m\u001b[1;36m1\u001b[0m\u001b[1;33m]\u001b[0m\u001b[1;33m\u001b[0m\u001b[1;33m\u001b[0m\u001b[0m\n\u001b[0m\u001b[0;32m     55\u001b[0m \u001b[0mprint\u001b[0m\u001b[1;33m(\u001b[0m\u001b[0mnums\u001b[0m\u001b[1;33m)\u001b[0m\u001b[1;33m\u001b[0m\u001b[1;33m\u001b[0m\u001b[0m\n\u001b[0;32m     56\u001b[0m \u001b[1;33m\u001b[0m\u001b[0m\n",
      "\u001b[1;31mIndexError\u001b[0m: list assignment index out of range"
     ]
    }
   ],
   "source": [
    "def mergesort(array):\n",
    "    '''\n",
    "    Description: Function Merge Sorts an unsorted Array.\n",
    "    Input: Unsorted Array from user.\n",
    "    Output: Sorted Array in ascending order.\n",
    "\n",
    "    '''\n",
    "    \n",
    "    if len(array)>1:\n",
    "        m=len(array)//2\n",
    "        l=array[ :m]\n",
    "        r=array[m:]\n",
    "        mergesort(l)\n",
    "        mergesort(r)\n",
    "        merge(array,l,r)\n",
    "        \n",
    "def merge(array,l,r):\n",
    "    '''\n",
    "    Description: Function merges two Arrays into one.\n",
    "    Input: \n",
    "    '''\n",
    "    \n",
    "    i=0\n",
    "    j=0\n",
    "    k=0\n",
    "    \n",
    "    while i<len(l) and j<len(r):\n",
    "        if l[i][0]+j<r[j][0]:\n",
    "            l[i][0]+=j\n",
    "            array[k]=l[i]\n",
    "            i=i+1\n",
    "        else:\n",
    "            array[k]=r[j]\n",
    "            j=j+1\n",
    "        k=k+1\n",
    "    while i<len(l):\n",
    "        l[i][0]+=j\n",
    "        array[k]=l[i]\n",
    "        i=i+1\n",
    "        k=k+1\n",
    "    while j<len(r):\n",
    "        array[k]=r[j]\n",
    "        j=j+1\n",
    "        k=k+1    \n",
    "        \n",
    "                \n",
    "nums=[4,3,6,2,8,5]\n",
    "index=[3,1,2,2,1,0]                   \n",
    "arr = [[index[i], nums[i]] for i in range(len(nums))]\n",
    "print(arr)\n",
    "mergesort(arr)\n",
    "print(arr)\n",
    "for x in arr:\n",
    "    nums[x[0]] = x[1]\n",
    "print(nums)\n",
    "        "
   ]
  },
  {
   "cell_type": "code",
   "execution_count": 20,
   "metadata": {},
   "outputs": [
    {
     "name": "stdout",
     "output_type": "stream",
     "text": [
      "[0, 4, 1, 3, 2]\n",
      "[0, 1, 2, 3, 4]\n",
      "[5, 4, 8, 3, 2, 6]\n"
     ]
    }
   ],
   "source": [
    "class Solution:\n",
    "    def createTargetArray(self, nums, index):\n",
    "        \n",
    "        target = []\n",
    "        \n",
    "        for i in range(len(index)):\n",
    "            \n",
    "            targetSize = len(target)\n",
    "            number = nums[i]\n",
    "            idx = index[i]\n",
    "            #print(number)\n",
    "            #print(targetSize)\n",
    "            if( (targetSize == 0)  ):\n",
    "                #print(\"inside if\")\n",
    "                target += [number]\n",
    "                #print(target)\n",
    "            elif (i <= targetSize):\n",
    "                #print(\"inside else\")\n",
    "                arrayFirstPart = target[:idx]\n",
    "                arraySecondPart = target[idx:]\n",
    "                target = arrayFirstPart + [number] + arraySecondPart\n",
    "                #print(target)\n",
    "                \n",
    "        return target\n",
    "            \n",
    "            \n",
    "        \n",
    "        \n",
    "        \n",
    "obj = Solution()\n",
    "print(obj.createTargetArray([0,1,2,3,4], [0,1,2,2,1]))\n",
    "print(obj.createTargetArray([1,2,3,4,0], [0,1,2,3,0]))\n",
    "print(obj.createTargetArray([4,3,6,2,8,5], [3,1,2,2,1,0]))"
   ]
  },
  {
   "cell_type": "code",
   "execution_count": null,
   "metadata": {},
   "outputs": [],
   "source": []
  }
 ],
 "metadata": {
  "kernelspec": {
   "display_name": "Python 3",
   "language": "python",
   "name": "python3"
  },
  "language_info": {
   "codemirror_mode": {
    "name": "ipython",
    "version": 3
   },
   "file_extension": ".py",
   "mimetype": "text/x-python",
   "name": "python",
   "nbconvert_exporter": "python",
   "pygments_lexer": "ipython3",
   "version": "3.8.5"
  }
 },
 "nbformat": 4,
 "nbformat_minor": 4
}
