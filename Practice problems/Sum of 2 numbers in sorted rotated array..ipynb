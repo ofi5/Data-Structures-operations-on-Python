{
 "cells": [
  {
   "cell_type": "code",
   "execution_count": 24,
   "metadata": {},
   "outputs": [
    {
     "name": "stdout",
     "output_type": "stream",
     "text": [
      "False\n"
     ]
    }
   ],
   "source": [
    "'''\n",
    "Suppose an array sorted in ascending order is rotated at some pivot unknown to you beforehand.\n",
    "\n",
    "(i.e., [0,1,2,4,5,6,7] might become [4,5,6,7,0,1,2]).\n",
    "\n",
    "You are given a target value to search. If sum of 2 numbers in array is equal to that target element you \n",
    "return True, otherwise return -1.\n",
    "\n",
    "You may assume no duplicate exists in the array.\n",
    "\n",
    "'''\n",
    "\n",
    "A = [11,12,13,14,15,7,8,9,10]\n",
    "target = 6\n",
    "result=False\n",
    "for i in range(len(A)):\n",
    "    for j in range(i,len(A)):\n",
    "        if A[i]+A[j]==target:\n",
    "            result=True\n",
    "            \n",
    "print(result)            "
   ]
  },
  {
   "cell_type": "code",
   "execution_count": 31,
   "metadata": {},
   "outputs": [
    {
     "name": "stdout",
     "output_type": "stream",
     "text": [
      "True\n"
     ]
    }
   ],
   "source": [
    "\n",
    "A = [11,12,13,14,15,7,8,9,10]\n",
    "target = 27\n",
    "n=len(A)\n",
    "result=False\n",
    "\n",
    "for i in range(len(A)):\n",
    "    if A[i]>A[i+1]:\n",
    "        r=i\n",
    "        l=(i+1)%n\n",
    "        break\n",
    "while l!=r:\n",
    "    if A[l]+A[r]==target:\n",
    "        result=True\n",
    "        break\n",
    "        \n",
    "    elif A[l]+A[r]>target:\n",
    "        r=(n+r-1)%n\n",
    "    else:\n",
    "        l=(l+1)%n\n",
    "        \n",
    "print(result)        \n",
    "        \n",
    "        \n",
    "            \n",
    "        \n",
    "        \n",
    "    "
   ]
  },
  {
   "cell_type": "code",
   "execution_count": null,
   "metadata": {},
   "outputs": [],
   "source": []
  }
 ],
 "metadata": {
  "kernelspec": {
   "display_name": "Python 3",
   "language": "python",
   "name": "python3"
  },
  "language_info": {
   "codemirror_mode": {
    "name": "ipython",
    "version": 3
   },
   "file_extension": ".py",
   "mimetype": "text/x-python",
   "name": "python",
   "nbconvert_exporter": "python",
   "pygments_lexer": "ipython3",
   "version": "3.8.5"
  }
 },
 "nbformat": 4,
 "nbformat_minor": 4
}
