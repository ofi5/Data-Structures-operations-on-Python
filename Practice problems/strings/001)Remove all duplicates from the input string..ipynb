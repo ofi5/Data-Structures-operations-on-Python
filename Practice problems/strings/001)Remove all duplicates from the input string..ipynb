{
 "cells": [
  {
   "cell_type": "code",
   "execution_count": 14,
   "id": "edccfe00",
   "metadata": {},
   "outputs": [
    {
     "name": "stdout",
     "output_type": "stream",
     "text": [
      "['b', 'b', 'b', 'a', 'f', 'c', 'd', 'f', 'd', 'a', 'f', 'e', 'd', 'c', 'c']\n",
      "['b', 'a', 'f', 'c', 'd', 'e']\n"
     ]
    }
   ],
   "source": [
    "A=\"bbbafcdfdafedcc\"\n",
    "b=[]\n",
    "c=[]\n",
    "for i in range(0,len(A)):\n",
    "    b.append(A[i])\n",
    "    \n",
    "print(b)    \n",
    "\n",
    "for i in range(len(b)):\n",
    "    if b[i] not in c:\n",
    "        c.append(b[i])\n",
    "        \n",
    "print(c)        \n",
    "        \n",
    "    "
   ]
  },
  {
   "cell_type": "code",
   "execution_count": null,
   "id": "0321bd63",
   "metadata": {},
   "outputs": [],
   "source": []
  }
 ],
 "metadata": {
  "kernelspec": {
   "display_name": "Python 3 (ipykernel)",
   "language": "python",
   "name": "python3"
  },
  "language_info": {
   "codemirror_mode": {
    "name": "ipython",
    "version": 3
   },
   "file_extension": ".py",
   "mimetype": "text/x-python",
   "name": "python",
   "nbconvert_exporter": "python",
   "pygments_lexer": "ipython3",
   "version": "3.9.7"
  }
 },
 "nbformat": 4,
 "nbformat_minor": 5
}
