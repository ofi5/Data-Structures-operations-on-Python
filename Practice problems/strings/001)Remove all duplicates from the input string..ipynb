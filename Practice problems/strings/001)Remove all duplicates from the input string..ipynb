{
 "cells": [
  {
   "cell_type": "code",
   "execution_count": 14,
   "id": "edccfe00",
   "metadata": {},
   "outputs": [
    {
     "name": "stdout",
     "output_type": "stream",
     "text": [
      "['b', 'b', 'b', 'a', 'f', 'c', 'd', 'f', 'd', 'a', 'f', 'e', 'd', 'c', 'c']\n",
      "['b', 'a', 'f', 'c', 'd', 'e']\n"
     ]
    }
   ],
   "source": [
    "'''Given any string, bbacggddtt, remove any duplicates and return only original letters of string, eg:bacgdt. Sort \n",
    "array to be presented.\n",
    "'''\n",
    "\n",
    "#Approach1\n",
    "\n",
    "#Take the string and break it to individual letters. Add them to other array. Loop this array and add elements in another \n",
    "# array if they are not present in them.\n",
    "\n",
    "#time complexity = O(nlogn)\n",
    "#space complexity = O(n)\n",
    "\n",
    "A=\"bbbafcdfdafedcc\"\n",
    "b=[]\n",
    "c=[]\n",
    "for i in range(0,len(A)):\n",
    "    b.append(A[i])\n",
    "    \n",
    "print(b)    \n",
    "\n",
    "for i in range(len(b)):\n",
    "    if b[i] not in c:\n",
    "        c.append(b[i])\n",
    "        \n",
    "print(c)        \n",
    "\n",
    "#After this sort list c using merge sort.\n",
    "    "
   ]
  },
  {
   "cell_type": "code",
   "execution_count": 8,
   "id": "0321bd63",
   "metadata": {},
   "outputs": [
    {
     "name": "stdout",
     "output_type": "stream",
     "text": [
      "bbbafcdfdafedcc\n"
     ]
    }
   ],
   "source": [
    "A=\"bbbafcdfdafedcc\"\n",
    "\n",
    "for i in range(len(A)):\n",
    "    for j in range(i+1,len(A)):\n",
    "        if A[i]==A[j]:\n",
    "            A.replace(A[j],'r')\n",
    "print(A)            \n",
    "        \n",
    "     "
   ]
  },
  {
   "cell_type": "code",
   "execution_count": null,
   "id": "15ab7259",
   "metadata": {},
   "outputs": [],
   "source": []
  }
 ],
 "metadata": {
  "kernelspec": {
   "display_name": "Python 3 (ipykernel)",
   "language": "python",
   "name": "python3"
  },
  "language_info": {
   "codemirror_mode": {
    "name": "ipython",
    "version": 3
   },
   "file_extension": ".py",
   "mimetype": "text/x-python",
   "name": "python",
   "nbconvert_exporter": "python",
   "pygments_lexer": "ipython3",
   "version": "3.9.7"
  }
 },
 "nbformat": 4,
 "nbformat_minor": 5
}
