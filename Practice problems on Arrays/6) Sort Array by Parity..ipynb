{
 "cells": [
  {
   "cell_type": "code",
   "execution_count": 8,
   "metadata": {},
   "outputs": [
    {
     "name": "stdout",
     "output_type": "stream",
     "text": [
      "[2, 4]\n",
      "[1, 3]\n",
      "[2, 4, 1, 3]\n"
     ]
    }
   ],
   "source": [
    "'''#Given an array A of non-negative integers, return an array consisting of all the even elements of A,\n",
    "#followed by all the odd elements of A.'''\n",
    "\n",
    "#Approach 1\n",
    "# loop through each element and use modulus to add even elements in 1 list and odd elements in other list. After the loop\n",
    "#add the odd list at the end of even list. \n",
    "\n",
    "#Time Complexity=O(n)\n",
    "#Space Complexity=O(n)\n",
    "\n",
    "A=[1,2,3,4]\n",
    "\n",
    "output=[]\n",
    "output1=[]\n",
    "\n",
    "for num in range(0,len(A)):\n",
    "    if A[num]%2==0:\n",
    "        output.append(A[num])\n",
    "    else:\n",
    "        output1.append(A[num])\n",
    "print(output)\n",
    "print(output1)\n",
    "(output.extend(output1))        \n",
    "print(output)    "
   ]
  },
  {
   "cell_type": "code",
   "execution_count": 55,
   "metadata": {},
   "outputs": [
    {
     "name": "stdout",
     "output_type": "stream",
     "text": [
      "[2, 4, 4, 4, 2, 1, 3]\n"
     ]
    }
   ],
   "source": [
    "#Approach 2\n",
    "\n",
    "#Use 2 pointers at first and last positions of the Array. If first element is odd, swap it with last element and decrement the\n",
    "#last pointer value by 1. If the first element is even increment the first element pointer and repeat using loop\n",
    "#with condition where (first pointer<last pointer).\n",
    "\n",
    "#Time Complexity=O(n)\n",
    "#Space Complexity=O(1)\n",
    "\n",
    "\n",
    "A=[2,4,4,4,3,2,1]\n",
    "i=0\n",
    "j=len(A)-1\n",
    "while i<j:\n",
    "    if A[i]%2!=0:\n",
    "        A[i],A[j]=A[j],A[i]\n",
    "        j-=1\n",
    "    else:\n",
    "        i+=1\n",
    "print(A)        "
   ]
  },
  {
   "cell_type": "code",
   "execution_count": null,
   "metadata": {},
   "outputs": [],
   "source": []
  }
 ],
 "metadata": {
  "kernelspec": {
   "display_name": "Python 3",
   "language": "python",
   "name": "python3"
  },
  "language_info": {
   "codemirror_mode": {
    "name": "ipython",
    "version": 3
   },
   "file_extension": ".py",
   "mimetype": "text/x-python",
   "name": "python",
   "nbconvert_exporter": "python",
   "pygments_lexer": "ipython3",
   "version": "3.8.5"
  }
 },
 "nbformat": 4,
 "nbformat_minor": 4
}
