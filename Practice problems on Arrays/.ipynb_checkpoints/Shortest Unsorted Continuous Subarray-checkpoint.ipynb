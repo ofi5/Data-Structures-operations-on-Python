{
 "cells": [
  {
   "cell_type": "code",
   "execution_count": 18,
   "metadata": {},
   "outputs": [
    {
     "name": "stdout",
     "output_type": "stream",
     "text": [
      "Length of shortest subarray: 6\n"
     ]
    }
   ],
   "source": [
    "'''\n",
    "Shortest Unsorted Continuous Subarray\n",
    "\n",
    "Given an integer array, you need to find one continuous subarray that if you only sort this subarray in ascending order,\n",
    "then the whole array will be sorted in ascending order, too.\n",
    "\n",
    "'''\n",
    "#Approach 1\n",
    "#run 2 loops across the array, if element of loop1 is larger than element of loop2, then store min of start variable and i in \n",
    "#start variable. Also store max of end variable and j in end vairable. The difference of end and start plus 1 will give the \n",
    "#count of  continous subarray which if sorted will give a complete sorted array as a whole.\n",
    "\n",
    "# Time complexity=O(n^2)\n",
    "# Space complexity=O(1)\n",
    "\n",
    "\n",
    "a=[2,6,4,8,8,10,9,15]\n",
    "start=len(a)\n",
    "end=0\n",
    "for i in range(0,len(a)-1):\n",
    "    for j in range(1,len(a)):\n",
    "        if a[i]>a[j]:\n",
    "            start=min(start,i)\n",
    "            end = max(end,j)\n",
    "            \n",
    "b=(end-start+1)            \n",
    "if b>0:\n",
    "    print(\"Length of shortest subarray:\",b)\n",
    "else:\n",
    "    print(\"Array is already sorted,length is 0 of shortest subarray.\")"
   ]
  },
  {
   "cell_type": "code",
   "execution_count": 21,
   "metadata": {},
   "outputs": [
    {
     "name": "stdout",
     "output_type": "stream",
     "text": [
      "[2, 4, 6, 8, 8, 9, 10, 15]\n",
      "6\n"
     ]
    }
   ],
   "source": [
    "#Approach 2\n",
    "\n",
    "# the array data is copied in another array which is sorted.\n",
    "# Complimentary element of each array is compared, whereever the elements dont match  will give us the \n",
    "# start point of subarray.\n",
    "# Similarly both the arrays are compared in reverse order and where ever the elements do not \n",
    "# match will give us the end of the sub array.\n",
    "\n",
    "\n",
    "# Time complexity=O(nlogn)\n",
    "# Space complexity=O(n)\n",
    "\n",
    "def mergesort(array):\n",
    "    \n",
    "    if len(array)>1:\n",
    "        mod = len(array)//2\n",
    "        l=array[:mod]\n",
    "        r=array[mod:]\n",
    "        mergesort(l)\n",
    "        mergesort(r)\n",
    "        merge(array,l,r)\n",
    "        \n",
    "def merge(array,l,r):\n",
    "    \n",
    "\n",
    "    i=0\n",
    "    j=0\n",
    "    k=0\n",
    "\n",
    "    while i<len(l) and j<len(r):\n",
    "        if l[i]<r[j]:\n",
    "            array[k]=l[i]\n",
    "            i=i+1\n",
    "        else:\n",
    "            array[k]=r[j]\n",
    "            j=j+1\n",
    "        k=k+1\n",
    "    while i<len(l):\n",
    "        array[k]=l[i]\n",
    "        i=i+1\n",
    "        k=k+1\n",
    "    while j<len(r):\n",
    "        array[k]=r[j]\n",
    "        j=j+1\n",
    "        k=k+1\n",
    "        \n",
    "\n",
    "\n",
    "a=[2,6,4,8,8,10,9,15]\n",
    "start=len(a)\n",
    "end=0\n",
    "b=[2,6,4,8,8,10,9,15]\n",
    "mergesort(b)\n",
    "print(b)\n",
    "\n",
    "\n",
    "for i in range(0, len(a)):\n",
    "    if a[i]!=b[i]:\n",
    "        start=min(start,i)\n",
    "for j in range(len(a)-1,0,-1):\n",
    "    if a[j]!=b[j]:\n",
    "        end=max(end,j)\n",
    "        \n",
    "if (end-start+1)>1:\n",
    "    print((end-start+1))\n",
    "else:\n",
    "    print(\"array already sorted\")\n",
    "         \n",
    "        \n"
   ]
  },
  {
   "cell_type": "code",
   "execution_count": null,
   "metadata": {},
   "outputs": [],
   "source": []
  }
 ],
 "metadata": {
  "kernelspec": {
   "display_name": "Python 3",
   "language": "python",
   "name": "python3"
  },
  "language_info": {
   "codemirror_mode": {
    "name": "ipython",
    "version": 3
   },
   "file_extension": ".py",
   "mimetype": "text/x-python",
   "name": "python",
   "nbconvert_exporter": "python",
   "pygments_lexer": "ipython3",
   "version": "3.8.5"
  }
 },
 "nbformat": 4,
 "nbformat_minor": 4
}
