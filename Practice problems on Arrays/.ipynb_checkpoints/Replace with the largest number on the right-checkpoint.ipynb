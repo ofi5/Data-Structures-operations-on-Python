{
 "cells": [
  {
   "cell_type": "code",
   "execution_count": 16,
   "metadata": {},
   "outputs": [
    {
     "name": "stdout",
     "output_type": "stream",
     "text": [
      "[7, 4, 2, 2, 1, -1]\n"
     ]
    }
   ],
   "source": [
    "A=[19,7,4,1,2,1]\n",
    "output=[]\n",
    "\n",
    "for i in range(len(A)-1):\n",
    "    \n",
    "    high=A[i+1]\n",
    "    for j in range(i+1,len(A)-1):\n",
    "        if high<A[j]:\n",
    "            high=A[j]\n",
    "    output.append(high)     \n",
    "output.append(-1)    \n",
    "print(output)    "
   ]
  },
  {
   "cell_type": "code",
   "execution_count": null,
   "metadata": {},
   "outputs": [],
   "source": []
  }
 ],
 "metadata": {
  "kernelspec": {
   "display_name": "Python 3",
   "language": "python",
   "name": "python3"
  },
  "language_info": {
   "codemirror_mode": {
    "name": "ipython",
    "version": 3
   },
   "file_extension": ".py",
   "mimetype": "text/x-python",
   "name": "python",
   "nbconvert_exporter": "python",
   "pygments_lexer": "ipython3",
   "version": "3.8.5"
  }
 },
 "nbformat": 4,
 "nbformat_minor": 4
}
