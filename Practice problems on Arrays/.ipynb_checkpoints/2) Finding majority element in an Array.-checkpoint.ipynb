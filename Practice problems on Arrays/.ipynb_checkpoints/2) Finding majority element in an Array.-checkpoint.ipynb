{
 "cells": [
  {
   "cell_type": "code",
   "execution_count": 6,
   "metadata": {},
   "outputs": [
    {
     "name": "stdout",
     "output_type": "stream",
     "text": [
      "2 5\n"
     ]
    }
   ],
   "source": [
    "#Finding majority element in an Array.\n",
    "\n",
    "#Majority element is an element which is present in Array(of size n) more than n/2 times.\n",
    "\n",
    "#Approach 1\n",
    "\n",
    "A=[2,8,7,2,1,2,2,7,2]\n",
    "count=1\n",
    "for i in range(0,len(A)):\n",
    "    k=1\n",
    "    for j in range(i+1,len(A)-i):\n",
    "        if A[i]==A[j]:\n",
    "            k=k+1\n",
    "    if k>count:\n",
    "        M=A[i]\n",
    "        count=k\n",
    "print(M,count)        \n",
    " "
   ]
  },
  {
   "cell_type": "code",
   "execution_count": null,
   "metadata": {},
   "outputs": [],
   "source": []
  }
 ],
 "metadata": {
  "kernelspec": {
   "display_name": "Python 3",
   "language": "python",
   "name": "python3"
  },
  "language_info": {
   "codemirror_mode": {
    "name": "ipython",
    "version": 3
   },
   "file_extension": ".py",
   "mimetype": "text/x-python",
   "name": "python",
   "nbconvert_exporter": "python",
   "pygments_lexer": "ipython3",
   "version": "3.8.5"
  }
 },
 "nbformat": 4,
 "nbformat_minor": 4
}
