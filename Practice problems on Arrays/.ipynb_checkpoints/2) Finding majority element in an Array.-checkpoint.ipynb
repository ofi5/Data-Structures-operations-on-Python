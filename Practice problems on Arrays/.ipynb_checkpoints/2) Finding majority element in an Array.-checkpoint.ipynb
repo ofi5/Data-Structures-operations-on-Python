{
 "cells": [
  {
   "cell_type": "code",
   "execution_count": 19,
   "metadata": {},
   "outputs": [
    {
     "name": "stdout",
     "output_type": "stream",
     "text": [
      "Majority element is: 1 ,and has a total count of: 6\n"
     ]
    }
   ],
   "source": [
    "#Finding majority element in an Array.\n",
    "\n",
    "#Majority element is an element which is present in Array(of size n) more than n/2 times.\n",
    "\n",
    "#Approach 1\n",
    "\n",
    "# Each element in the array is counted for how many times it is present in the array. If the element is present more than n/2\n",
    "# times the length of the array, it will be returned. \n",
    "\n",
    "A=[1,2,1,2,1,2,1,2,1,2,1]\n",
    "count=1\n",
    "n=0\n",
    "for i in range(0,len(A)):\n",
    "    n=n+1 #counting the length of array.(Len(A) can be used as well.)\n",
    "    k=1\n",
    "    for j in range(i+1,len(A)):\n",
    "        if A[i]==A[j]:\n",
    "            k=k+1\n",
    "    if k>count:\n",
    "        M=A[i]\n",
    "        count=k\n",
    "if (count>(n/2)):\n",
    "    print(\"Majority element is:\",M ,\",and has a total count of:\", count)    \n",
    "else:\n",
    "    print(\"No Majority element present\")\n",
    " "
   ]
  },
  {
   "cell_type": "code",
   "execution_count": null,
   "metadata": {},
   "outputs": [],
   "source": []
  }
 ],
 "metadata": {
  "kernelspec": {
   "display_name": "Python 3",
   "language": "python",
   "name": "python3"
  },
  "language_info": {
   "codemirror_mode": {
    "name": "ipython",
    "version": 3
   },
   "file_extension": ".py",
   "mimetype": "text/x-python",
   "name": "python",
   "nbconvert_exporter": "python",
   "pygments_lexer": "ipython3",
   "version": "3.8.5"
  }
 },
 "nbformat": 4,
 "nbformat_minor": 4
}
