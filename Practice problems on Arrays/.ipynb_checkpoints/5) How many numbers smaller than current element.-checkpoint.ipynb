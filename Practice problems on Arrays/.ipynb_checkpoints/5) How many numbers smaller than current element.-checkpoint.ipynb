{
 "cells": [
  {
   "cell_type": "code",
   "execution_count": 2,
   "metadata": {},
   "outputs": [
    {
     "name": "stdout",
     "output_type": "stream",
     "text": [
      "[4, 0, 1, 1, 3]\n"
     ]
    }
   ],
   "source": [
    "#Given the array nums, for each nums[i] find out how many numbers in the array are smaller than it. \n",
    "#That is, for each nums[i] you have to count the number of valid j's such that j != i and nums[j] < nums[i].\n",
    "\n",
    "#Approach 1\n",
    "\n",
    "#Each element will be compared with all the numbers and counter will be used to keep track of how many numbers are smaller than \n",
    "#the element.\n",
    "\n",
    "#Time Complexity= O(n^2)\n",
    "#Space Complexity=O(n)\n",
    "\n",
    "\n",
    "\n",
    "nums=[8,1,2,2,3]\n",
    "output=[]\n",
    "for i in range(0,len(nums)):\n",
    "    count=0\n",
    "    for j in range(0,len(nums)):\n",
    "        if i!=j:\n",
    "            if nums[i]>nums[j]:\n",
    "                count+=1\n",
    "    output.append(count)   \n",
    "    \n",
    "print(output)    \n",
    "\n",
    "\n",
    "\n",
    "\n"
   ]
  },
  {
   "cell_type": "code",
   "execution_count": 14,
   "metadata": {},
   "outputs": [
    {
     "name": "stdout",
     "output_type": "stream",
     "text": [
      "[4, 0, 1, 1, 3]\n"
     ]
    }
   ],
   "source": [
    "A=[8,1,2,2,3]\n",
    "\n",
    "count={}\n",
    "output=[]\n",
    "\n",
    "for k, v in (enumerate(sorted(A))):\n",
    "    if v not in count:\n",
    "        count[v]=k\n",
    "for i in A:\n",
    "    output.append(count[i])\n",
    "    \n",
    "print(output)    \n"
   ]
  },
  {
   "cell_type": "code",
   "execution_count": null,
   "metadata": {},
   "outputs": [],
   "source": []
  }
 ],
 "metadata": {
  "kernelspec": {
   "display_name": "Python 3",
   "language": "python",
   "name": "python3"
  },
  "language_info": {
   "codemirror_mode": {
    "name": "ipython",
    "version": 3
   },
   "file_extension": ".py",
   "mimetype": "text/x-python",
   "name": "python",
   "nbconvert_exporter": "python",
   "pygments_lexer": "ipython3",
   "version": "3.8.5"
  }
 },
 "nbformat": 4,
 "nbformat_minor": 4
}
