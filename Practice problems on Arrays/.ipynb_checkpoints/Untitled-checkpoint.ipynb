{
 "cells": [
  {
   "cell_type": "code",
   "execution_count": 14,
   "metadata": {},
   "outputs": [
    {
     "name": "stdout",
     "output_type": "stream",
     "text": [
      "[[0, 4], [1, 3], [2, 6], [2, 2], [1, 8], [3, 5]]\n",
      "[[0, 4], [1, 8], [2, 3], [3, 5], [4, 2], [5, 6]]\n",
      "[4, 8, 3, 5, 2, 6]\n"
     ]
    }
   ],
   "source": [
    "def mergesort(array):\n",
    "    '''\n",
    "    Description: Function Merge Sorts an unsorted Array.\n",
    "    Input: Unsorted Array from user.\n",
    "    Output: Sorted Array in ascending order.\n",
    "\n",
    "    '''\n",
    "    \n",
    "    if len(array)>1:\n",
    "        m=len(array)//2\n",
    "        l=array[ :m]\n",
    "        r=array[m:]\n",
    "        mergesort(l)\n",
    "        mergesort(r)\n",
    "        merge(array,l,r)\n",
    "        \n",
    "def merge(array,l,r):\n",
    "    '''\n",
    "    Description: Function merges two Arrays into one.\n",
    "    Input: \n",
    "    '''\n",
    "    \n",
    "    i=0\n",
    "    j=0\n",
    "    k=0\n",
    "    \n",
    "    while i<len(l) and j<len(r):\n",
    "        if l[i][0]+j<r[j][0]:\n",
    "            l[i][0]+=j\n",
    "            array[k]=l[i]\n",
    "            i=i+1\n",
    "        else:\n",
    "            array[k]=r[j]\n",
    "            j=j+1\n",
    "        k=k+1\n",
    "    while i<len(l):\n",
    "        l[i][0]+=j\n",
    "        array[k]=l[i]\n",
    "        i=i+1\n",
    "        k=k+1\n",
    "    while j<len(r):\n",
    "        array[k]=r[j]\n",
    "        j=j+1\n",
    "        k=k+1    \n",
    "        \n",
    "                \n",
    "nums=[4,3,6,2,8,5]\n",
    "index=[0,1,2,2,1,3]                   \n",
    "arr = [[index[i], nums[i]] for i in range(len(nums))]\n",
    "print(arr)\n",
    "mergesort(arr)\n",
    "print(arr)\n",
    "for x in arr:\n",
    "    nums[x[0]] = x[1]\n",
    "print(nums)\n",
    "        "
   ]
  },
  {
   "cell_type": "code",
   "execution_count": null,
   "metadata": {},
   "outputs": [],
   "source": []
  }
 ],
 "metadata": {
  "kernelspec": {
   "display_name": "Python 3",
   "language": "python",
   "name": "python3"
  },
  "language_info": {
   "codemirror_mode": {
    "name": "ipython",
    "version": 3
   },
   "file_extension": ".py",
   "mimetype": "text/x-python",
   "name": "python",
   "nbconvert_exporter": "python",
   "pygments_lexer": "ipython3",
   "version": "3.8.5"
  }
 },
 "nbformat": 4,
 "nbformat_minor": 4
}
