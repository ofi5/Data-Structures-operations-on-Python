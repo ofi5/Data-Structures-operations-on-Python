{
 "cells": [
  {
   "cell_type": "code",
   "execution_count": 11,
   "metadata": {},
   "outputs": [
    {
     "name": "stdout",
     "output_type": "stream",
     "text": [
      "5\n"
     ]
    }
   ],
   "source": [
    "'''\n",
    "Given an integer array, you need to find one continuous subarray that if you only sort this subarray in ascending order,\n",
    "then the whole array will be sorted in ascending order, too.\n",
    "\n",
    "'''\n",
    "#Approach 1\n",
    "#run 2 loops across the array, if element of loop1 is larger than element of loop2, then store min of start variable and i in \n",
    "#start\n",
    "\n",
    "\n",
    "a=[2,6,4,8,10,9,15]\n",
    "start=len(a)\n",
    "end=0\n",
    "for i in range(0,len(a)-2):\n",
    "    for j in range(1,len(a)-1):\n",
    "        if a[i]>a[j]:\n",
    "            start=min(start,i)\n",
    "            end = max(end,j)\n",
    "            \n",
    "print(end-start+1)            \n"
   ]
  },
  {
   "cell_type": "code",
   "execution_count": null,
   "metadata": {},
   "outputs": [],
   "source": []
  }
 ],
 "metadata": {
  "kernelspec": {
   "display_name": "Python 3",
   "language": "python",
   "name": "python3"
  },
  "language_info": {
   "codemirror_mode": {
    "name": "ipython",
    "version": 3
   },
   "file_extension": ".py",
   "mimetype": "text/x-python",
   "name": "python",
   "nbconvert_exporter": "python",
   "pygments_lexer": "ipython3",
   "version": "3.8.5"
  }
 },
 "nbformat": 4,
 "nbformat_minor": 4
}
