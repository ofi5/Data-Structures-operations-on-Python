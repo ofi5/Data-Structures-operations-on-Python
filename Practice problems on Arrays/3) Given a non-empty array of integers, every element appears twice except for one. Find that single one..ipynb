{
 "cells": [
  {
   "cell_type": "code",
   "execution_count": 18,
   "metadata": {},
   "outputs": [
    {
     "name": "stdout",
     "output_type": "stream",
     "text": [
      "Single element is : 1\n"
     ]
    }
   ],
   "source": [
    "#Approach 1\n",
    "#Compare each element using 2 loops check if they occur multiple times. Set value to True if they occur multiple times.\n",
    "#Default value will be set to false. Any element present only once in Array will return value=False and that element is single. \n",
    "#Time complexity=O(n^2)\n",
    "a=[3,2,2,3,3,3,1]\n",
    "\n",
    "for i in range(0,len(a)):\n",
    "    value=False\n",
    "    for j in range(0, len(a)):\n",
    "        if i!=j:\n",
    "            if a[i]==a[j]:\n",
    "                value=True\n",
    "    if value==False:\n",
    "        single=(a[i])\n",
    "        break\n",
    "    else:\n",
    "        single=-1\n",
    "if single!=-1:\n",
    "    print(\"Single element is :\", single)\n",
    "else:\n",
    "    print(\"No single element\")\n",
    "        \n",
    "        "
   ]
  },
  {
   "cell_type": "code",
   "execution_count": null,
   "metadata": {},
   "outputs": [],
   "source": []
  }
 ],
 "metadata": {
  "kernelspec": {
   "display_name": "Python 3",
   "language": "python",
   "name": "python3"
  },
  "language_info": {
   "codemirror_mode": {
    "name": "ipython",
    "version": 3
   },
   "file_extension": ".py",
   "mimetype": "text/x-python",
   "name": "python",
   "nbconvert_exporter": "python",
   "pygments_lexer": "ipython3",
   "version": "3.8.5"
  }
 },
 "nbformat": 4,
 "nbformat_minor": 4
}
