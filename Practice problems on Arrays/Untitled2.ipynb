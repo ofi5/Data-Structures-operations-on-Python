{
 "cells": [
  {
   "cell_type": "code",
   "execution_count": 4,
   "metadata": {},
   "outputs": [
    {
     "name": "stdout",
     "output_type": "stream",
     "text": [
      "Length of shortest subarray: 7\n"
     ]
    }
   ],
   "source": [
    "a=[2,6,4,8,10,9,15,8]\n",
    "start=len(a)\n",
    "end=0\n",
    "for i in range(0,len(a)-1):\n",
    "    for j in range(1,len(a)):\n",
    "        if a[i]>a[j]:\n",
    "            start=min(start,i)\n",
    "            end = max(end,j)\n",
    "            \n",
    "b=(end-start+1)            \n",
    "if b>0:\n",
    "    print(\"Length of shortest subarray:\",b)\n",
    "else:\n",
    "    print(\"Array is already sorted,length is 0 of shortest subarray.\")"
   ]
  },
  {
   "cell_type": "code",
   "execution_count": null,
   "metadata": {},
   "outputs": [],
   "source": []
  }
 ],
 "metadata": {
  "kernelspec": {
   "display_name": "Python 3",
   "language": "python",
   "name": "python3"
  },
  "language_info": {
   "codemirror_mode": {
    "name": "ipython",
    "version": 3
   },
   "file_extension": ".py",
   "mimetype": "text/x-python",
   "name": "python",
   "nbconvert_exporter": "python",
   "pygments_lexer": "ipython3",
   "version": "3.8.5"
  }
 },
 "nbformat": 4,
 "nbformat_minor": 4
}
