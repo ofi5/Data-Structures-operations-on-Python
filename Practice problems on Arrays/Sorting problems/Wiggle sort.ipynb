{
 "cells": [
  {
   "cell_type": "code",
   "execution_count": 13,
   "metadata": {},
   "outputs": [
    {
     "name": "stdout",
     "output_type": "stream",
     "text": [
      "[3, 5, 1, 6, 8, 4, 9, 11, 7, 12, 14, 10, 13, 2, 15, 16]\n"
     ]
    }
   ],
   "source": [
    "A=[1,2,3,4,5,6,7,8,9,10,11,12,13,14,15,16]\n",
    "\n",
    "for i in range(len(A)-4):\n",
    "    if i==0 or i%3==0:\n",
    "        A[i],A[i+2]=A[i+2],A[i]\n",
    "    elif i==1 or i%3==1:\n",
    "            A[i],A[i+3]=A[i+3],A[i]\n",
    "     \n",
    "print(A)            "
   ]
  },
  {
   "cell_type": "code",
   "execution_count": 23,
   "metadata": {},
   "outputs": [
    {
     "name": "stdout",
     "output_type": "stream",
     "text": [
      "[1, 3, 2, 5, 4, 7, 6, 9, 8, 11, 10, 13, 12, 15, 14, 16]\n"
     ]
    }
   ],
   "source": [
    "A=[1,2,3,4,5,6,7,8,9,10,11,12,13,14,15,16]\n",
    "\n",
    "for i in range(1,len(A)-1):\n",
    "    if i%2==1:\n",
    "        A[i],A[i+1]=A[i+1],A[i]\n",
    "print(A)    \n",
    "    \n",
    "    "
   ]
  },
  {
   "cell_type": "code",
   "execution_count": null,
   "metadata": {},
   "outputs": [],
   "source": []
  }
 ],
 "metadata": {
  "kernelspec": {
   "display_name": "Python 3",
   "language": "python",
   "name": "python3"
  },
  "language_info": {
   "codemirror_mode": {
    "name": "ipython",
    "version": 3
   },
   "file_extension": ".py",
   "mimetype": "text/x-python",
   "name": "python",
   "nbconvert_exporter": "python",
   "pygments_lexer": "ipython3",
   "version": "3.8.5"
  }
 },
 "nbformat": 4,
 "nbformat_minor": 4
}
