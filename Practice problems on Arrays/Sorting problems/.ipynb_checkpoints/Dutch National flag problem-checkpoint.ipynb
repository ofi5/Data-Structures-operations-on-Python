{
 "cells": [
  {
   "cell_type": "code",
   "execution_count": 12,
   "metadata": {},
   "outputs": [
    {
     "name": "stdout",
     "output_type": "stream",
     "text": [
      "['R', 'B', 'G', 'R', 'R', 'B', 'B', 'G', 'G', 'G', 'R', 'B']\n",
      "['R', 'R', 'R', 'R', 'B', 'B', 'B', 'B', 'G', 'G', 'G', 'G']\n"
     ]
    }
   ],
   "source": [
    "'''\n",
    "\n",
    "Given an array with n objects colored red, white or blue, sort them in-place so that objects of the same color are adjacent,\n",
    "with the colors in the order red, white and blue.\n",
    "\n",
    "A = [0,1,0,1,2,1,2,1]\n",
    "output = [0,0,1,1,1,1,2,2]\n",
    "\n",
    "'''\n",
    "#original array = [R,B,R,B,G,B,G,B]\n",
    "\n",
    "#Approach1 using countsort.\n",
    "\n",
    "\n",
    "def countSort(A,n):\n",
    "    \n",
    "    m = len(A)\n",
    "    \n",
    "    for l in range(m):\n",
    "        if A[l]=='R':\n",
    "            A[l]=0\n",
    "        elif A[l]=='B':\n",
    "            A[l]=1\n",
    "        else:\n",
    "            A[l]=2\n",
    "          \n",
    "            \n",
    "    \n",
    "    target = [0]*m\n",
    "    count = [0]*n\n",
    "    \n",
    "    for i in range(m):\n",
    "        count[A[i]] += 1\n",
    "        \n",
    "    for j in range(1,n):\n",
    "        count[j] = count[j] + count[j-1]\n",
    "       \n",
    "        \n",
    "    for k in range(m-1,-1,-1):\n",
    "        target[count[A[k]]-1] = A[k]\n",
    "        count[A[k]] -= 1\n",
    "    \n",
    "        \n",
    "    for o in range(m):\n",
    "        A[o]=target[o]\n",
    "        \n",
    "\n",
    "        if A[o]==0:\n",
    "            A[o]='R'\n",
    "        elif A[o]==1:\n",
    "            A[o]='B'\n",
    "        else:\n",
    "            A[o]='G'\n",
    "    print(A)        \n",
    "    \n",
    "Array = ['R','B','G','R','R','B','B','G','G','G','R','B'] \n",
    "print(Array)\n",
    "f=3\n",
    "countSort(Array,f)\n"
   ]
  },
  {
   "cell_type": "code",
   "execution_count": 24,
   "metadata": {},
   "outputs": [
    {
     "name": "stdout",
     "output_type": "stream",
     "text": [
      "[0, 0, 0, 1, 1, 1, 2, 2]\n"
     ]
    }
   ],
   "source": [
    "\n",
    "#time complexity=O(n)\n",
    "#space complexity=O(1)\n",
    "#2 parses through the array\n",
    "\n",
    "A = [0,1,1,2,1,0,0,2]\n",
    "c0,c1,c2 = 0,0,0\n",
    "for i in range(len(A)):\n",
    " \n",
    "    if A[i]==0:\n",
    "        c0 += 1\n",
    "    elif A[i] == 1:\n",
    "        c1 += 1\n",
    "    else:\n",
    "        c2 += 1\n",
    "        \n",
    "while c2>0:\n",
    "    A[(c2+c1+c0)-1]=2\n",
    "    c2 -= 1     \n",
    "    \n",
    "while c1>0:\n",
    "    A[(c1+c0)-1]=1\n",
    "    c1 -= 1    \n",
    "    \n",
    "while c0>0:\n",
    "    A[c0-1]=0\n",
    "    c0 -= 1\n",
    "    \n",
    "print(A)    \n",
    "    "
   ]
  },
  {
   "cell_type": "code",
   "execution_count": 51,
   "metadata": {},
   "outputs": [
    {
     "name": "stdout",
     "output_type": "stream",
     "text": [
      "[0, 0, 1, 1, 2, 2]\n"
     ]
    }
   ],
   "source": [
    "#Single parse solution\n",
    "\n",
    "#time complexity=O(n)\n",
    "#space complexity=O(1)\n",
    "\n",
    "#Idea is to shift all the 0's to the left most side, shift all the 2's to right side and keep 1's in centre/as it is.\n",
    "\n",
    "#3 extra variable, curr, left and right are used, keeping curr and l as 0 and h as the last index of array.\n",
    "\n",
    "# 3 rules to follow: <<3 if else statements. >>\n",
    "\n",
    "# loop should run until curr value is less than equal to high.\n",
    "\n",
    "A = [2,0,1,1,0,2]\n",
    "curr=0\n",
    "l=0\n",
    "h=len(A)-1\n",
    "\n",
    "while curr<=h:\n",
    "    if A[curr]==0:#Rule1\n",
    "        A[curr],A[l]=A[l],A[curr]#Swap\n",
    "        curr +=1 #increment curr\n",
    "        l+=1 #increment left\n",
    "    elif A[curr]==1:#Rule2\n",
    "        curr +=1\n",
    "    else:#A[curr]=2,#Rule3\n",
    "        A[curr],A[h]=A[h],A[curr]#Swap\n",
    "        h-=1\n",
    "        \n",
    "print(A)"
   ]
  },
  {
   "cell_type": "code",
   "execution_count": null,
   "metadata": {},
   "outputs": [],
   "source": []
  }
 ],
 "metadata": {
  "kernelspec": {
   "display_name": "Python 3",
   "language": "python",
   "name": "python3"
  },
  "language_info": {
   "codemirror_mode": {
    "name": "ipython",
    "version": 3
   },
   "file_extension": ".py",
   "mimetype": "text/x-python",
   "name": "python",
   "nbconvert_exporter": "python",
   "pygments_lexer": "ipython3",
   "version": "3.8.5"
  }
 },
 "nbformat": 4,
 "nbformat_minor": 4
}
