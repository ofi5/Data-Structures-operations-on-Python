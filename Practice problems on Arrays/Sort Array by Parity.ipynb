{
 "cells": [
  {
   "cell_type": "code",
   "execution_count": 8,
   "metadata": {},
   "outputs": [
    {
     "name": "stdout",
     "output_type": "stream",
     "text": [
      "[2, 4]\n",
      "[1, 3]\n",
      "[2, 4, 1, 3]\n"
     ]
    }
   ],
   "source": [
    "A=[1,2,3,4]\n",
    "\n",
    "output=[]\n",
    "output1=[]\n",
    "\n",
    "for num in range(0,len(A)):\n",
    "    if A[num]%2==0:\n",
    "        output.append(A[num])\n",
    "    else:\n",
    "        output1.append(A[num])\n",
    "print(output)\n",
    "print(output1)\n",
    "(output.extend(output1))        \n",
    "print(output)    "
   ]
  },
  {
   "cell_type": "code",
   "execution_count": null,
   "metadata": {},
   "outputs": [],
   "source": []
  }
 ],
 "metadata": {
  "kernelspec": {
   "display_name": "Python 3",
   "language": "python",
   "name": "python3"
  },
  "language_info": {
   "codemirror_mode": {
    "name": "ipython",
    "version": 3
   },
   "file_extension": ".py",
   "mimetype": "text/x-python",
   "name": "python",
   "nbconvert_exporter": "python",
   "pygments_lexer": "ipython3",
   "version": "3.8.5"
  }
 },
 "nbformat": 4,
 "nbformat_minor": 4
}
