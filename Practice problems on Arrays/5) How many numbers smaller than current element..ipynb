{
 "cells": [
  {
   "cell_type": "code",
   "execution_count": 2,
   "metadata": {},
   "outputs": [
    {
     "name": "stdout",
     "output_type": "stream",
     "text": [
      "[4, 0, 1, 1, 3]\n"
     ]
    }
   ],
   "source": [
    "#Given the array nums, for each nums[i] find out how many numbers in the array are smaller than it. \n",
    "#That is, for each nums[i] you have to count the number of valid j's such that j != i and nums[j] < nums[i].\n",
    "\n",
    "#Approach 1\n",
    "\n",
    "#Each element will be compared with all the numbers and counter will be used to keep track of how many numbers are smaller than \n",
    "#the element.\n",
    "\n",
    "#Time Complexity= O(n^2)\n",
    "#Space Complexity=O(n)\n",
    "\n",
    "\n",
    "\n",
    "nums=[8,1,2,2,3]\n",
    "output=[]\n",
    "for i in range(0,len(nums)):\n",
    "    count=0\n",
    "    for j in range(0,len(nums)):\n",
    "        if i!=j:\n",
    "            if nums[i]>nums[j]:\n",
    "                count+=1\n",
    "    output.append(count)   \n",
    "    \n",
    "print(output)    \n",
    "\n",
    "\n",
    "\n",
    "\n"
   ]
  },
  {
   "cell_type": "code",
   "execution_count": 14,
   "metadata": {},
   "outputs": [
    {
     "name": "stdout",
     "output_type": "stream",
     "text": [
      "[4, 0, 1, 1, 3]\n"
     ]
    }
   ],
   "source": [
    "#Approach 2\n",
    "#The given Array is sorted in Ascending order. \n",
    "#Index of sorted Array will give the count of numbers smaller than the current element which is added to the dictionary.\n",
    "#(Dictionary is used to counter repeated elements)\n",
    "#Intial Array is traversed again and value corresponding to key from dictionary is added to new array output to give result. \n",
    "\n",
    "#Time Complexity= O(n log n)(Merge Sort)\n",
    "#Space Complexity=O(n)\n",
    "\n",
    "A=[8,1,2,2,3]\n",
    "\n",
    "count={}\n",
    "output=[]\n",
    "\n",
    "for k, v in (enumerate(sorted(A))):\n",
    "    if v not in count:\n",
    "        count[v]=k\n",
    "for i in A:\n",
    "    output.append(count[i])\n",
    "    \n",
    "print(output)    \n"
   ]
  },
  {
   "cell_type": "code",
   "execution_count": 13,
   "metadata": {},
   "outputs": [
    {
     "name": "stdout",
     "output_type": "stream",
     "text": [
      "[5, 1, 2, 2, 4, 0]\n"
     ]
    }
   ],
   "source": [
    "#Approach 3\n",
    "#An extra Array of 100 element is created and each value is intialised to 0. (Constraint in question: 0<=nums[i]<=100)\n",
    "#Intial Array is traversed and the value of initial array is used as index in extra array. The value of extra Array is increased\n",
    "#by 1 every time the value of intial array is used as an index in extra array.\n",
    "#Prefix sum of Extra Array is done.\n",
    "#Intial Array is traversed again and for values not equal to 0 in the initial array, value is used as index in extra array.\n",
    "#A new output array is used to store the value of previous element of extra array corresponding to the value of intial array\n",
    "# used as index of extra array.\n",
    "\n",
    "# This approach is is question specific approach.\n",
    "\n",
    "#Time Complexity= O(n)\n",
    "#Space Complexity=O(n)\n",
    "\n",
    "A=[8,1,2,2,3,0]\n",
    "\n",
    "count=[0]*101\n",
    "output=[]\n",
    "for i in range(0,len(A)):\n",
    "    count[A[i]]+=1\n",
    "    \n",
    "for j in range(1,101):\n",
    "    count[j]+=count[j-1]\n",
    "    \n",
    "for k in range(0,len(A)):\n",
    "    if A[k]!=0:\n",
    "        output.append(count[A[k]-1])\n",
    "    else:\n",
    "        output.append(0)\n",
    "print(output)    \n",
    "    "
   ]
  },
  {
   "cell_type": "code",
   "execution_count": null,
   "metadata": {},
   "outputs": [],
   "source": []
  }
 ],
 "metadata": {
  "kernelspec": {
   "display_name": "Python 3",
   "language": "python",
   "name": "python3"
  },
  "language_info": {
   "codemirror_mode": {
    "name": "ipython",
    "version": 3
   },
   "file_extension": ".py",
   "mimetype": "text/x-python",
   "name": "python",
   "nbconvert_exporter": "python",
   "pygments_lexer": "ipython3",
   "version": "3.8.5"
  }
 },
 "nbformat": 4,
 "nbformat_minor": 4
}
