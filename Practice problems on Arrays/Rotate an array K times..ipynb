{
 "cells": [
  {
   "cell_type": "code",
   "execution_count": 8,
   "metadata": {},
   "outputs": [
    {
     "name": "stdout",
     "output_type": "stream",
     "text": [
      "[5, 6, 7, 1, 2, 3, 4]\n"
     ]
    }
   ],
   "source": [
    "'''\n",
    "Given an array, rotate the array to the right by k steps, where k is non-negative.\n",
    "\n",
    "'''\n",
    "def rotate(A,k):\n",
    "    for j in range(k):\n",
    "        rotateonce(A)\n",
    "        \n",
    "def rotateonce(A):\n",
    "    temp = A[-1]\n",
    "    for i in range(len(A)-2,-1,-1):\n",
    "        A[i+1]=A[i]\n",
    "    A[0] = temp    \n",
    "\n",
    "A = [1,2,3,4,5,6,7]\n",
    "\n",
    "rotate(A,3)\n",
    "\n",
    "print(A)"
   ]
  },
  {
   "cell_type": "code",
   "execution_count": null,
   "metadata": {},
   "outputs": [],
   "source": []
  }
 ],
 "metadata": {
  "kernelspec": {
   "display_name": "Python 3",
   "language": "python",
   "name": "python3"
  },
  "language_info": {
   "codemirror_mode": {
    "name": "ipython",
    "version": 3
   },
   "file_extension": ".py",
   "mimetype": "text/x-python",
   "name": "python",
   "nbconvert_exporter": "python",
   "pygments_lexer": "ipython3",
   "version": "3.8.5"
  }
 },
 "nbformat": 4,
 "nbformat_minor": 4
}
