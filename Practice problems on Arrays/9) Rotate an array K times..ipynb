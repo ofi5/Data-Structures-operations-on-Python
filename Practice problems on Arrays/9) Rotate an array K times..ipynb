{
 "cells": [
  {
   "cell_type": "code",
   "execution_count": 8,
   "metadata": {},
   "outputs": [
    {
     "name": "stdout",
     "output_type": "stream",
     "text": [
      "[5, 6, 7, 1, 2, 3, 4]\n"
     ]
    }
   ],
   "source": [
    "'''\n",
    "Given an array, rotate the array to the right by k steps, where k is non-negative.\n",
    "\n",
    "'''\n",
    "\n",
    "#Approach 1\n",
    "#Time Complexity = O(n) for 1 rotation, O(n*k) for k rotation(polynomial)\n",
    "#Space complexity = O(1)\n",
    "\n",
    "def rotate(A,k):\n",
    "    for j in range(k):\n",
    "        rotateonce(A)\n",
    "        \n",
    "def rotateonce(A):\n",
    "    temp = A[-1]\n",
    "    for i in range(len(A)-2,-1,-1):\n",
    "        A[i+1]=A[i]\n",
    "    A[0] = temp    \n",
    "\n",
    "A = [1,2,3,4,5,6,7]\n",
    "\n",
    "rotate(A,3)\n",
    "\n",
    "print(A)"
   ]
  },
  {
   "cell_type": "code",
   "execution_count": 29,
   "metadata": {},
   "outputs": [
    {
     "name": "stdout",
     "output_type": "stream",
     "text": [
      "[7, 1, 2, 3, 4, 5, 6]\n"
     ]
    }
   ],
   "source": [
    "#Approach 2\n",
    "\n",
    "# for k=3 rotations, Copy [5,6,7] in other array temp.\n",
    "# Shi\n",
    "\n",
    "#Time Complexity = O(n)/O(k) (linear time complexity)\n",
    "#Space complexity = O(k)\n",
    "\n",
    "def rotate(A,k):\n",
    "    \n",
    "    while k > len(A):\n",
    "        k = k-len(A)\n",
    "        \n",
    "    temp=[]\n",
    "    for i in range((len(A)-k), len(A)): #Will take O(k) time.\n",
    "        temp.append(A[i])\n",
    "    for j in range((len(A)-k)-1,-1,-1): #Will take O(n-k) time.\n",
    "        A[j+k]=A[j]\n",
    "    for l in range(0,k): #Will take O(k) time.\n",
    "        A[l]=temp[l]\n",
    "        \n",
    "        \n",
    "        \n",
    "A = [1,2,3,4,5,6,7]\n",
    "rotate(A,8)\n",
    "print(A)"
   ]
  },
  {
   "cell_type": "code",
   "execution_count": 35,
   "metadata": {},
   "outputs": [
    {
     "name": "stdout",
     "output_type": "stream",
     "text": [
      "[5, 6, 7, 1, 2, 3, 4]\n"
     ]
    }
   ],
   "source": [
    "#Approach 3\n",
    "#We reverse the array (k elements from backward) [5,6,7] to [7,6,5]. for k=3.\n",
    "#We reverse the array (n-k elements from front) [1,2,3,4] to [4,3,2,1].\n",
    "#We reverse the complete array. [4,3,2,1,7,6,5] to [5,6,7,1,2,3,4].\n",
    "#if k>n, use k=k mod n.\n",
    "#Time Complexity = O(n) \n",
    "#Space complexity = O(1)\n",
    "\n",
    "def reverse(A,i,j):\n",
    "    \n",
    "    while i<j:\n",
    "        A[i],A[j]=A[j],A[i]\n",
    "        i=i+1\n",
    "        j=j-1\n",
    "        \n",
    "def rotate(A,k):\n",
    "    reverse(A,len(A)-k,len(A)-1)\n",
    "    reverse(A,0,len(A)-k-1)\n",
    "    reverse(A,0,len(A)-1)\n",
    "    \n",
    "A = [1,2,3,4,5,6,7]\n",
    "k=3\n",
    "\n",
    "rotate(A,k)\n",
    "print(A)\n",
    "    "
   ]
  },
  {
   "cell_type": "code",
   "execution_count": null,
   "metadata": {},
   "outputs": [],
   "source": []
  }
 ],
 "metadata": {
  "kernelspec": {
   "display_name": "Python 3",
   "language": "python",
   "name": "python3"
  },
  "language_info": {
   "codemirror_mode": {
    "name": "ipython",
    "version": 3
   },
   "file_extension": ".py",
   "mimetype": "text/x-python",
   "name": "python",
   "nbconvert_exporter": "python",
   "pygments_lexer": "ipython3",
   "version": "3.8.5"
  }
 },
 "nbformat": 4,
 "nbformat_minor": 4
}
