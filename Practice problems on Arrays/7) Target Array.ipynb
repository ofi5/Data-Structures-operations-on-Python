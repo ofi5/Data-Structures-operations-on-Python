{
 "cells": [
  {
   "cell_type": "code",
   "execution_count": 6,
   "metadata": {},
   "outputs": [
    {
     "name": "stdout",
     "output_type": "stream",
     "text": [
      "[4, 8, 3, 5, 2, 6]\n"
     ]
    }
   ],
   "source": [
    "'''Given two arrays of integers nums and index. Your task is to create target array under the following rules:\n",
    "\n",
    "Initially target array is empty.\n",
    "\n",
    "From left to right read nums[i] and index[i], insert at index index[i] the value nums[i] in target array.\n",
    "Repeat the previous step until there are no elements to read in nums and index.\n",
    "\n",
    "'''\n",
    "#Approach 1\n",
    "# Directly add num element at index value into the target array.\n",
    "\n",
    "#Time Complexity=O(n^2)(inserting element in target Array takes O(n) time.)\n",
    "#Space Complexity=O(n)\n",
    "\n",
    "\n",
    "\n",
    "num=[4,3,6,2,8,5]\n",
    "index=[0,1,2,2,1,3]\n",
    "target=[]\n",
    "\n",
    "for i in range(0,len(index)):\n",
    "    target.insert(index[i],num[i])  \n",
    "    \n",
    "print(target)    "
   ]
  },
  {
   "cell_type": "code",
   "execution_count": 9,
   "metadata": {},
   "outputs": [
    {
     "name": "stdout",
     "output_type": "stream",
     "text": [
      "[[0, 4], [1, 3], [2, 6], [2, 2], [1, 8]]\n"
     ]
    }
   ],
   "source": [
    "num=[4,3,6,2,8]\n",
    "index=[0,1,2,2,1]\n",
    "target=[]\n",
    "\n",
    "target=[[index[i],num[i]] for i in range(len(num))]\n",
    "        \n",
    "print(target)        "
   ]
  },
  {
   "cell_type": "code",
   "execution_count": 5,
   "metadata": {},
   "outputs": [
    {
     "name": "stdout",
     "output_type": "stream",
     "text": [
      "[[0, 4], [1, 3], [2, 6], [2, 2], [1, 8], [3, 5]]\n",
      "[[0, 4], [1, 8], [2, 3], [3, 5], [4, 2], [5, 6]]\n",
      "[4, 8, 3, 5, 2, 6]\n"
     ]
    }
   ],
   "source": [
    "\n",
    "    \n",
    "def mergeSort(arr, low, high):\n",
    "    if low < high:\n",
    "        mid = (low + high) // 2\n",
    "        mergeSort(arr, low, mid)\n",
    "        mergeSort(arr, mid + 1, high)\n",
    "        merge(arr, low, mid, high)\n",
    "\n",
    "def merge(arr, low, mid, high):\n",
    "    L, R = arr[low:mid+1], arr[mid+1:high+1]\n",
    "    i = j = 0\n",
    "    k = low\n",
    "\n",
    "    while i < len(L) and j < len(R):\n",
    "        if L[i][0] + j >= R[j][0]:\n",
    "            arr[k] = R[j]\n",
    "            j += 1\n",
    "        else:\n",
    "            L[i][0] += j\n",
    "            arr[k] = L[i]\n",
    "            i += 1\n",
    "        k += 1\n",
    "\n",
    "    while i < len(L):\n",
    "        L[i][0] += j\n",
    "        arr[k] = L[i]\n",
    "        i += 1; k += 1\n",
    "\n",
    "    while j < len(R):\n",
    "        arr[k] = R[j]\n",
    "        j += 1; k += 1\n",
    "\n",
    "        \n",
    "       \n",
    "                \n",
    "nums=[4,3,6,2,8,5]\n",
    "index=[0,1,2,2,1,3]                   \n",
    "arr = [[index[i], nums[i]] for i in range(len(nums))]\n",
    "print(arr)\n",
    "mergeSort(arr, 0, len(nums) - 1)\n",
    "\n",
    "print(arr)\n",
    "        \n",
    "for x in arr:\n",
    "    nums[x[0]] = x[1]\n",
    "        \n",
    "print(nums)\n",
    " "
   ]
  },
  {
   "cell_type": "code",
   "execution_count": null,
   "metadata": {},
   "outputs": [],
   "source": []
  },
  {
   "cell_type": "code",
   "execution_count": null,
   "metadata": {},
   "outputs": [],
   "source": []
  }
 ],
 "metadata": {
  "kernelspec": {
   "display_name": "Python 3",
   "language": "python",
   "name": "python3"
  },
  "language_info": {
   "codemirror_mode": {
    "name": "ipython",
    "version": 3
   },
   "file_extension": ".py",
   "mimetype": "text/x-python",
   "name": "python",
   "nbconvert_exporter": "python",
   "pygments_lexer": "ipython3",
   "version": "3.8.5"
  }
 },
 "nbformat": 4,
 "nbformat_minor": 4
}
