{
 "cells": [
  {
   "cell_type": "code",
   "execution_count": 7,
   "metadata": {},
   "outputs": [
    {
     "name": "stdout",
     "output_type": "stream",
     "text": [
      "odd times occurring no is : 3\n"
     ]
    }
   ],
   "source": [
    "#Approach 1\n",
    "#Compare each element using 2 loops and count their occurence.\n",
    "#if count is odd return the element as occuring odd times. \n",
    "#Time complexity=O(n^2)\n",
    "\n",
    "a=[1,2,3,2,3,1,3]\n",
    "\n",
    "for i in range(0,len(a)):\n",
    "    count=1\n",
    "    for j in range(0,len(a)):\n",
    "        if i!=j:\n",
    "            if a[i]==a[j]:\n",
    "                count+=1\n",
    "    if count%2!=0:\n",
    "        odd=a[i]\n",
    "print(\"odd times occurring no is :\",odd)        \n",
    "        "
   ]
  },
  {
   "cell_type": "code",
   "execution_count": null,
   "metadata": {},
   "outputs": [],
   "source": []
  }
 ],
 "metadata": {
  "kernelspec": {
   "display_name": "Python 3",
   "language": "python",
   "name": "python3"
  },
  "language_info": {
   "codemirror_mode": {
    "name": "ipython",
    "version": 3
   },
   "file_extension": ".py",
   "mimetype": "text/x-python",
   "name": "python",
   "nbconvert_exporter": "python",
   "pygments_lexer": "ipython3",
   "version": "3.8.5"
  }
 },
 "nbformat": 4,
 "nbformat_minor": 4
}
