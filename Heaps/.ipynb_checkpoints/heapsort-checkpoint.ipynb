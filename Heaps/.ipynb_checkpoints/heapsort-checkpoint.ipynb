{
 "cells": [
  {
   "cell_type": "code",
   "execution_count": 2,
   "id": "6cb3308a",
   "metadata": {},
   "outputs": [
    {
     "name": "stdout",
     "output_type": "stream",
     "text": [
      "[1, 2, 3, 4, 7, 8, 9, 10, 14, 16]\n"
     ]
    }
   ],
   "source": [
    "class heaps:\n",
    "    \n",
    "    def heapify(self,A,n,i):\n",
    "        largest = i \n",
    "        left = (i*2)+1\n",
    "        right = (i*2)+2\n",
    "        \n",
    "        if left<n and A[left] > A[i]:\n",
    "            largest=left\n",
    "        if right<n and A[right] > A[largest]:\n",
    "            largest = right\n",
    "        if largest!=i:\n",
    "            A[i],A[largest]=A[largest],A[i]\n",
    "            self.heapify(A,n,largest)\n",
    "        \n",
    "    def buildMaxHeap(self,Arr,n):\n",
    "        for i in range(n//2,-1,-1):\n",
    "            self.heapify(Arr,n,i)\n",
    "            \n",
    "    def heapsort(self,arr):\n",
    "        n=len(arr)\n",
    "        self.buildMaxHeap(arr,n)\n",
    "        for i in range(n-1, 0, -1):\n",
    "            arr[i],arr[0] = arr[0],arr[i]\n",
    "            self.heapify(arr,i,0)\n",
    "    \n",
    "\n",
    "A=[4,1,3,2,16,9,10,14,8,7]\n",
    "\n",
    "h=heaps();\n",
    "\n",
    "h.heapsort(A)\n",
    "\n",
    "print(A)"
   ]
  },
  {
   "cell_type": "code",
   "execution_count": null,
   "id": "1dc3d7a1",
   "metadata": {},
   "outputs": [],
   "source": []
  }
 ],
 "metadata": {
  "kernelspec": {
   "display_name": "Python 3 (ipykernel)",
   "language": "python",
   "name": "python3"
  },
  "language_info": {
   "codemirror_mode": {
    "name": "ipython",
    "version": 3
   },
   "file_extension": ".py",
   "mimetype": "text/x-python",
   "name": "python",
   "nbconvert_exporter": "python",
   "pygments_lexer": "ipython3",
   "version": "3.9.7"
  }
 },
 "nbformat": 4,
 "nbformat_minor": 5
}
