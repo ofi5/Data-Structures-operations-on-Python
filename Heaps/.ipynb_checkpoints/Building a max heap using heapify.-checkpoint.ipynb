{
 "cells": [
  {
   "cell_type": "code",
   "execution_count": 17,
   "id": "73901b3c",
   "metadata": {},
   "outputs": [
    {
     "name": "stdout",
     "output_type": "stream",
     "text": [
      "[16, 14, 10, 8, 7, 9, 3, 2, 4, 1]\n"
     ]
    }
   ],
   "source": [
    "class heaps:\n",
    "    \n",
    "    def heapify(self,A,n,i):\n",
    "        largest = i \n",
    "        left = (i*2)+1\n",
    "        right = (i*2)+2\n",
    "        \n",
    "        if left<n and A[left] > A[i]:\n",
    "            largest=left\n",
    "        if right<n and A[right] > A[largest]:\n",
    "            largest = right\n",
    "        if largest!=i:\n",
    "            A[i],A[largest]=A[largest],A[i]\n",
    "            self.heapify(A,n,largest)\n",
    "        \n",
    "    def buildMaxHeap(self,Arr,n):\n",
    "        for i in range(n//2,-1,-1):\n",
    "            self.heapify(Arr,n,i)\n",
    "    \n",
    "\n",
    "A=[4,1,3,2,16,9,10,14,8,7]\n",
    "\n",
    "h=heaps();\n",
    "\n",
    "h.buildMaxHeap(A,len(A))\n",
    "\n",
    "print(A)\n",
    "    "
   ]
  },
  {
   "cell_type": "code",
   "execution_count": null,
   "id": "e57a9cc7",
   "metadata": {},
   "outputs": [],
   "source": []
  },
  {
   "cell_type": "code",
   "execution_count": null,
   "id": "5b3d5a27",
   "metadata": {},
   "outputs": [],
   "source": []
  }
 ],
 "metadata": {
  "kernelspec": {
   "display_name": "Python 3 (ipykernel)",
   "language": "python",
   "name": "python3"
  },
  "language_info": {
   "codemirror_mode": {
    "name": "ipython",
    "version": 3
   },
   "file_extension": ".py",
   "mimetype": "text/x-python",
   "name": "python",
   "nbconvert_exporter": "python",
   "pygments_lexer": "ipython3",
   "version": "3.9.7"
  }
 },
 "nbformat": 4,
 "nbformat_minor": 5
}
