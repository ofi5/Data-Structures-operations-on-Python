{
 "cells": [
  {
   "cell_type": "code",
   "execution_count": 15,
   "id": "db3ed372",
   "metadata": {},
   "outputs": [
    {
     "name": "stdout",
     "output_type": "stream",
     "text": [
      "[1, 2, 3, 4, 9, 9, 10, 14, 8, 16]\n",
      "[1, 9, 3, 10, 9, 8, 14, 2, 4, 16]\n"
     ]
    }
   ],
   "source": [
    "class heaps:\n",
    "    \n",
    "    \n",
    "    def heapify(self,A,n,i):\n",
    "        smallest = i \n",
    "        left = (i*2)+1\n",
    "        right = (i*2)+2\n",
    "        \n",
    "        if left<n and A[left] < A[i]:\n",
    "            smallest=left\n",
    "        if right < n and A[right] < A[smallest]:\n",
    "            smallest = right\n",
    "        if smallest!=i:\n",
    "            A[i],A[smallest]=A[smallest],A[i]\n",
    "            self.heapify(A,n,smallest)\n",
    "        \n",
    "    def buildMinHeap(self,Arr,n):\n",
    "        for i in range(n//2,-1,-1):\n",
    "            self.heapify(Arr,n,i)\n",
    "            \n",
    "    def heapsort(self,arr):\n",
    "        n=len(arr)\n",
    "        self.buildMinHeap(arr,n)\n",
    "        print(arr)\n",
    "        for i in range(0, n-1):\n",
    "            arr[i],arr[0] = arr[0],arr[i]\n",
    "            self.heapify(arr,i,0)        \n",
    "    \n",
    "\n",
    "A=[4,1,3,2,16,9,10,14,8,9]\n",
    "\n",
    "h=heaps();\n",
    "\n",
    "h.heapsort(A)\n",
    "\n",
    "print(A)"
   ]
  },
  {
   "cell_type": "code",
   "execution_count": null,
   "id": "17c6344e",
   "metadata": {},
   "outputs": [],
   "source": []
  }
 ],
 "metadata": {
  "kernelspec": {
   "display_name": "Python 3 (ipykernel)",
   "language": "python",
   "name": "python3"
  },
  "language_info": {
   "codemirror_mode": {
    "name": "ipython",
    "version": 3
   },
   "file_extension": ".py",
   "mimetype": "text/x-python",
   "name": "python",
   "nbconvert_exporter": "python",
   "pygments_lexer": "ipython3",
   "version": "3.9.7"
  }
 },
 "nbformat": 4,
 "nbformat_minor": 5
}
