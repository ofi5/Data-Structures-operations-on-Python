{
 "cells": [
  {
   "cell_type": "code",
   "execution_count": 3,
   "metadata": {},
   "outputs": [
    {
     "name": "stdout",
     "output_type": "stream",
     "text": [
      "The postfix expression is: 23*456+*+\n",
      "The value of postfix expression is : 50\n"
     ]
    }
   ],
   "source": [
    "'''Evaluation of a postfix expression using stacks'''\n",
    "\n",
    "#Creating a class Eval\n",
    "class Eval():\n",
    "    def __init__(self):\n",
    "        '''\n",
    "        Description: Constructor for class \"Eval\".\n",
    "        Input: None.\n",
    "        Output: Creates a list named stack.\n",
    "        \n",
    "        '''\n",
    "        self.stack=[] #Creating a stack using lists\n",
    "        \n",
    "    def isEmpty(self):\n",
    "        ''' \n",
    "        Description: Function to check whether stack is empty.\n",
    "        Input: Null.\n",
    "        Output: Returns true if stack is empty else false.\n",
    "        \n",
    "        '''\n",
    "        return self.stack==[] \n",
    "    \n",
    "    def push(self,ele):\n",
    "        ''' \n",
    "        Description: Function to push an element on top of stack.\n",
    "        Input: Element which is to be pushed.\n",
    "        Output: Pushes the element on top of the stack.\n",
    "        \n",
    "        '''\n",
    "        self.stack.append(ele)\n",
    "    \n",
    "    def pop(self):\n",
    "        ''' \n",
    "        Description: Function to pop an element from stack.\n",
    "        Input: Null.\n",
    "        Output: Pops an element from top of the stack and returns the value.\n",
    "        \n",
    "        '''\n",
    "        if not self.isEmpty():\n",
    "            return self.stack.pop()\n",
    "            \n",
    "    def peek(self):\n",
    "        ''' \n",
    "        Description: Function to peek an element from stack.\n",
    "        Input: Null.\n",
    "        Output: Peeks the top element of the stack and returns the value.\n",
    "        \n",
    "        '''\n",
    "        if not self.isEmpty():\n",
    "             return self.stack[-1]\n",
    "            \n",
    "    def evaluatePostfix(self,exp):#function will evaluate postfix expression\n",
    "        '''\n",
    "        Description: Function evaluates the Postfix Expression and returns value.\n",
    "        Input: Postfix expression.\n",
    "        Output: Evaluated value of Postfix expression.\n",
    "        \n",
    "        '''\n",
    "        for c in exp:#reading each character of expression\n",
    "            if c.isdigit():#checking character is a digit or not\n",
    "                self.push(c)# digit will be pushed to stack \n",
    "                \n",
    "            else:#no digit, operator encountered\n",
    "                a=self.pop() #1st top element of stack will be popped\n",
    "                b=self.pop() #2nd topmost element of stack will be popped\n",
    "                self.push(str(eval(b+c+a))) #pushing in stack the result of evaluation of (a operator b) \n",
    "        return self.pop() #return the final evaluation of postfix popped from stack\n",
    "    \n",
    "e=Eval()\n",
    "\n",
    "expr=\"23*456+*+\"\n",
    "print(\"The postfix expression is:\",expr)\n",
    "\n",
    "print(\"The value of postfix expression is :\", e.evaluatePostfix(expr))\n",
    "    \n",
    "        "
   ]
  },
  {
   "cell_type": "code",
   "execution_count": null,
   "metadata": {},
   "outputs": [],
   "source": []
  }
 ],
 "metadata": {
  "kernelspec": {
   "display_name": "Python 3",
   "language": "python",
   "name": "python3"
  },
  "language_info": {
   "codemirror_mode": {
    "name": "ipython",
    "version": 3
   },
   "file_extension": ".py",
   "mimetype": "text/x-python",
   "name": "python",
   "nbconvert_exporter": "python",
   "pygments_lexer": "ipython3",
   "version": "3.8.5"
  }
 },
 "nbformat": 4,
 "nbformat_minor": 4
}
