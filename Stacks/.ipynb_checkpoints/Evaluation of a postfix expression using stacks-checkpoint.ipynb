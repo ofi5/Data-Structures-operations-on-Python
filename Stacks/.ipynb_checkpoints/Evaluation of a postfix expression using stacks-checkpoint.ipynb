{
 "cells": [
  {
   "cell_type": "code",
   "execution_count": 5,
   "metadata": {},
   "outputs": [
    {
     "name": "stdout",
     "output_type": "stream",
     "text": [
      "50\n"
     ]
    }
   ],
   "source": [
    "'''Evaluation of a postfix expression using stacks'''\n",
    "\n",
    "#Creating a class Eval\n",
    "class Eval():\n",
    "    def __init__(self):\n",
    "        self.stack=[] #Creating a stack using lists\n",
    "        \n",
    "    def isEmpty(self):#function will return True if stack is empty\n",
    "        return self.stack==[] \n",
    "    \n",
    "    def push(self,ele):#function will push an element to the stack\n",
    "        self.stack.append(ele)\n",
    "    \n",
    "    def pop(self):#function will pop an element from the stack if it is not empty\n",
    "        if not self.isEmpty():\n",
    "            return self.stack.pop()\n",
    "            \n",
    "    def peek(self):#function will read an element from the stack if it is not empty\n",
    "        if not self.isEmpty():\n",
    "             return self.stack[-1]\n",
    "            \n",
    "    def evaluatePostfix(self,exp):#function will evaluate postfix expression\n",
    "        for c in exp:#reading each character of expression\n",
    "            if c.isdigit():#checking character is a digit or not\n",
    "                self.push(c)# digit will be pushed to stack \n",
    "                \n",
    "            else:#no digit, operator encountered\n",
    "                a=self.pop() #1st top element of stack will be popped\n",
    "                b=self.pop() #2nd topmost element of stack will be popped\n",
    "                self.push(str(eval(b+c+a))) #pushing in stack the result of evaluation of (a operator b) \n",
    "        return self.pop() #return the final evaluation of postfix popped from stack\n",
    "    \n",
    "e=Eval()\n",
    "\n",
    "expr=\"23*456+*+\"\n",
    "\n",
    "print(e.evaluatePostfix(expr))\n",
    "    \n",
    "        "
   ]
  },
  {
   "cell_type": "code",
   "execution_count": null,
   "metadata": {},
   "outputs": [],
   "source": []
  }
 ],
 "metadata": {
  "kernelspec": {
   "display_name": "Python 3",
   "language": "python",
   "name": "python3"
  },
  "language_info": {
   "codemirror_mode": {
    "name": "ipython",
    "version": 3
   },
   "file_extension": ".py",
   "mimetype": "text/x-python",
   "name": "python",
   "nbconvert_exporter": "python",
   "pygments_lexer": "ipython3",
   "version": "3.8.5"
  }
 },
 "nbformat": 4,
 "nbformat_minor": 4
}
