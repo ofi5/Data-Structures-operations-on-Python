{
 "cells": [
  {
   "cell_type": "code",
   "execution_count": null,
   "metadata": {},
   "outputs": [],
   "source": [
    "class stack():\n",
    "    \n",
    "    def __init__(self):\n",
    "        self.stack=[]\n",
    "        \n",
    "    def mtlist(self):\n",
    "        return self.stack==[]\n",
    "    \n",
    "    def push(self,ele):\n",
    "            self.stack.append(ele)\n",
    "        \n",
    "    def pop(self):\n",
    "        if not stack.mtlist(self):\n",
    "            return self.stack.pop()\n",
    "        else:\n",
    "            return(-1)\n",
    "    def peek(self):\n",
    "        if not stack.mtlist(self):\n",
    "            return self.stack[-1]\n",
    "        else:\n",
    "            return(-1)\n",
    "        \n",
    "\n",
    "S=stack()        \n",
    "while True:\n",
    "    print(\"push\")\n",
    "    print(\"pop\")\n",
    "    print(\"peek\")\n",
    "    \n",
    "    print(\"what do you want perform\")\n",
    "    \n",
    "    do=input()\n",
    "    \n",
    "    if do==\"push\":\n",
    "        print(\"enter element\")\n",
    "        ele=input()\n",
    "        S.push(ele)\n",
    "    elif do==\"pop\":\n",
    "            ele=S.pop()\n",
    "            if ele==-1:\n",
    "                print(\"the list is empty\")\n",
    "            else:\n",
    "                print(ele)\n",
    "    elif do==\"peek\":\n",
    "            ele=S.peek()\n",
    "            if ele==-1:\n",
    "                print(\"the list is empty\")\n",
    "            else:\n",
    "                print(ele)\n",
    "                \n",
    "    else:\n",
    "        print('wrong input')\n",
    "                \n",
    "                \n",
    "        "
   ]
  },
  {
   "cell_type": "code",
   "execution_count": null,
   "metadata": {},
   "outputs": [],
   "source": []
  }
 ],
 "metadata": {
  "kernelspec": {
   "display_name": "Python 3",
   "language": "python",
   "name": "python3"
  },
  "language_info": {
   "codemirror_mode": {
    "name": "ipython",
    "version": 3
   },
   "file_extension": ".py",
   "mimetype": "text/x-python",
   "name": "python",
   "nbconvert_exporter": "python",
   "pygments_lexer": "ipython3",
   "version": "3.8.5"
  }
 },
 "nbformat": 4,
 "nbformat_minor": 4
}
