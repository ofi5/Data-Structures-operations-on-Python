{
 "cells": [
  {
   "cell_type": "code",
   "execution_count": null,
   "metadata": {},
   "outputs": [],
   "source": [
    "class convert():\n",
    "    def __init__(self):\n",
    "        self.stack=[]\n",
    "        self.result=[]\n",
    "        self.digits=[]\n",
    "        self.precedence={'(':0, '-':1, '+':1, '*':2, '/':2, '^':3}\n",
    "        \n",
    "    def isEmpty(self):\n",
    "        return self.stack==[]\n",
    "    \n",
    "    def push(self,ele):\n",
    "        self.stack.append(ele)\n",
    "            \n",
    "    def pop(self):\n",
    "        if not self.isEmpty():\n",
    "            return self.stack.pop()\n",
    "        else:\n",
    "            return \"&\"\n",
    "        \n",
    "    def peek(self):\n",
    "        if not self.isEmpty():\n",
    "            return self.stack[-1]\n",
    "        else:\n",
    "            return \"&\"\n",
    "    \n",
    "    def infixToPrefix(self,exp):\n",
    "        for c in exp:\n",
    "            if c.isalnum():\n",
    "                self.digits.append(c)\n",
    "                print(self.digits)\n",
    "                \n",
    "            elif c=='(':\n",
    "                    self.push(c)\n",
    "                    \n",
    "            elif c==')':\n",
    "                while self.peek!='(':\n",
    "                    self.result.append(self.pop())\n",
    "                self.pop() \n",
    "                \n",
    "            else:\n",
    "                self.result.append(''.join(self.digits))\n",
    "                self.digits.clear()\n",
    "                while (self.precedence[self.peek()]>=self.precedence[c]) and  not self.isEmpty():\n",
    "                    self.result.append(self.pop())\n",
    "                    self.push(c)\n",
    "                self.push(c) \n",
    "        while self.isEmpty()==False:\n",
    "            self.result.append(self.pop())\n",
    "            \n",
    "        return self.result    \n",
    "                \n",
    "        \n",
    "               \n",
    "c=convert()\n",
    "\n",
    "u=\"23\"\n",
    "\n",
    "c.infixToPrefix(u)"
   ]
  },
  {
   "cell_type": "code",
   "execution_count": null,
   "metadata": {},
   "outputs": [],
   "source": []
  }
 ],
 "metadata": {
  "kernelspec": {
   "display_name": "Python 3",
   "language": "python",
   "name": "python3"
  },
  "language_info": {
   "codemirror_mode": {
    "name": "ipython",
    "version": 3
   },
   "file_extension": ".py",
   "mimetype": "text/x-python",
   "name": "python",
   "nbconvert_exporter": "python",
   "pygments_lexer": "ipython3",
   "version": "3.8.5"
  }
 },
 "nbformat": 4,
 "nbformat_minor": 4
}
