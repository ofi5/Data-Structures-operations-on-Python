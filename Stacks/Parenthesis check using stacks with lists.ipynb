{
 "cells": [
  {
   "cell_type": "code",
   "execution_count": 7,
   "metadata": {},
   "outputs": [
    {
     "name": "stdout",
     "output_type": "stream",
     "text": [
      "enter the expression[27{12(56)}]\n",
      "Balanced\n"
     ]
    }
   ],
   "source": [
    "'''Checking whether Parenthesis are balanced or unbalanced using Stacks'''\n",
    "\n",
    "#Creating a class Parenthesis\n",
    "\n",
    "class parenthesis():\n",
    "    \n",
    "    #constructor of stack using lists\n",
    "    def __init__(self):\n",
    "        '''\n",
    "        Description: Constructor for class \"parenthesis\".\n",
    "        Input: None.\n",
    "        Output: Creates a list named stack.\n",
    "        \n",
    "        '''\n",
    "        self.stack=[]\n",
    "    \n",
    "    #Function to check the given expression for parenthesis validity\n",
    "    def check(self,exp):\n",
    "        '''\n",
    "        Description: Function to check the given expression for parenthesis validity.\n",
    "        Input: Expression to be checked.\n",
    "        Output: Returns \"Balanced\" if expression is valid and vice versa. \n",
    "        \n",
    "        '''\n",
    "        #loop through each element of expression to find ({[ and add to stack\n",
    "        for i in range (len(exp)):\n",
    "            if exp[i]==\"[\" or exp[i]==\"{\" or exp[i]==\"(\":\n",
    "                self.stack.append(exp[i])\n",
    "                continue\n",
    "            \n",
    "            #Check length of stack for expression validity\n",
    "            if len(self.stack)==0:\n",
    "                return False\n",
    "            \n",
    "            #checking for unbalanced }\n",
    "            if exp[i]==\"}\":\n",
    "                char=self.stack.pop()\n",
    "                if char!=\"{\":\n",
    "                    return False\n",
    "            \n",
    "            #Checking for unbalanced )\n",
    "            if exp[i]==\")\":\n",
    "                char=self.stack.pop()\n",
    "                if char!=\"(\":\n",
    "                    return False\n",
    "            \n",
    "            #Checking for unbalanced ]\n",
    "            if exp[i]==\"]\":\n",
    "                char=self.stack.pop()\n",
    "                if char!=\"[\":\n",
    "                    return False\n",
    "        \n",
    "        #Checking for unbalanced {[(\n",
    "        # if stack is not empty then parenthesis unbalanced else balanced\n",
    "        if len(self.stack)!=0:\n",
    "            return False\n",
    "        else:\n",
    "            return True\n",
    "        \n",
    "p=parenthesis()#Creating an object p of class parenthesis\n",
    "\n",
    "expr=input(\"enter the expression\")#Taking expression input from user\n",
    "\n",
    "\n",
    "if p.check(expr)==True:#using function .check on expression \n",
    "    print(\"Balanced\") #check returns True, parenthesis is balanced.\n",
    "else:\n",
    "    print(\"Unbalanced\") #check returns False, parenthesis is unbalanced.\n",
    "        \n",
    "                            \n",
    "                \n",
    "                \n",
    "            \n",
    "                \n",
    "                "
   ]
  },
  {
   "cell_type": "code",
   "execution_count": null,
   "metadata": {},
   "outputs": [],
   "source": []
  },
  {
   "cell_type": "code",
   "execution_count": null,
   "metadata": {},
   "outputs": [],
   "source": []
  }
 ],
 "metadata": {
  "kernelspec": {
   "display_name": "Python 3",
   "language": "python",
   "name": "python3"
  },
  "language_info": {
   "codemirror_mode": {
    "name": "ipython",
    "version": 3
   },
   "file_extension": ".py",
   "mimetype": "text/x-python",
   "name": "python",
   "nbconvert_exporter": "python",
   "pygments_lexer": "ipython3",
   "version": "3.8.5"
  }
 },
 "nbformat": 4,
 "nbformat_minor": 4
}
