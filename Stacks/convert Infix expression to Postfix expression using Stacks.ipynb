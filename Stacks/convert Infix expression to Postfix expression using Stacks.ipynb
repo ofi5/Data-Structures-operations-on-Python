{
 "cells": [
  {
   "cell_type": "code",
   "execution_count": 4,
   "metadata": {},
   "outputs": [
    {
     "name": "stdout",
     "output_type": "stream",
     "text": [
      "23*456-*+\n"
     ]
    }
   ],
   "source": [
    "'''To convert an infix expression to postfix expression using stacks'''\n",
    "\n",
    "#Creating a class conversion\n",
    "class conversion():\n",
    "    #creating constructor with 2 lists named stack and result and 1 dictionary named precedence\n",
    "    def __init__(self):\n",
    "        self.stack=[]\n",
    "        self.result=[]\n",
    "        self.precedence={'(':0, '-':1, '+':1,'*':2,'/':2, '^':3}# setting precedence for parenthesis and operators\n",
    "    \n",
    "    #function to check whether stack is empty\n",
    "    def isEmpty(self):\n",
    "        return self.stack==[]\n",
    "        \n",
    "    # function to pop an element from stack\n",
    "    def pop(self):\n",
    "        if not self.isEmpty():\n",
    "            return self.stack.pop()\n",
    "        else:\n",
    "            return \"$\"\n",
    "    \n",
    "    # function to peek an element from stack\n",
    "    def peek(self):\n",
    "        if not self.isEmpty():\n",
    "            return self.stack[-1]\n",
    "        else:\n",
    "            return '$'\n",
    "    \n",
    "    #function to convert infix to postfix expression\n",
    "    def infixToPostfix(self,exp):\n",
    "        \n",
    "        for i in exp:\n",
    "            if i.isalnum():#alphanumeric charecter will be added to result list\n",
    "                self.result.append(i)\n",
    "                \n",
    "            elif i=='(': #'(' will be added to stack if encountered while looping\n",
    "                self.stack.append(i)\n",
    "                 \n",
    "            elif i==')': #when ')' is encounted stack elements are popped and added to result list until '(' occurs \n",
    "                #after which element is only popped but not added to stack\n",
    "                k=self.pop()\n",
    "                while(k!='('):\n",
    "                    self.result.append(k)\n",
    "                    k=self.stack.pop()\n",
    "            else:#operator precedence is checked, if condition satisfies,element is popped from stack and added to stack\n",
    "                #else element is added to stack\n",
    "                while ((self.precedence[self.peek()]>=self.precedence[i]) and not self.isEmpty()):\n",
    "                    j=self.stack.pop()\n",
    "                    self.result.append(j)\n",
    "                self.stack.append(i)\n",
    "                \n",
    "        #if stack has any more elements , they are popped and added to result stack        \n",
    "        while self.isEmpty()==False:\n",
    "            h=self.pop()\n",
    "            self.result.append(h)\n",
    "            \n",
    "        return self.result# result list is returned     \n",
    "            \n",
    "c=conversion() #object c of class conversion is created \n",
    "\n",
    "exp=\"(2*3+4*(5-6))\"\n",
    "\n",
    "u= c.infixToPostfix(exp) #returns infix to postfix conversion in u\n",
    "\n",
    "print(''.join(u))#wil print the postfix result\n",
    "\n",
    "        "
   ]
  },
  {
   "cell_type": "code",
   "execution_count": null,
   "metadata": {},
   "outputs": [],
   "source": []
  },
  {
   "cell_type": "code",
   "execution_count": null,
   "metadata": {},
   "outputs": [],
   "source": []
  }
 ],
 "metadata": {
  "kernelspec": {
   "display_name": "Python 3",
   "language": "python",
   "name": "python3"
  },
  "language_info": {
   "codemirror_mode": {
    "name": "ipython",
    "version": 3
   },
   "file_extension": ".py",
   "mimetype": "text/x-python",
   "name": "python",
   "nbconvert_exporter": "python",
   "pygments_lexer": "ipython3",
   "version": "3.8.5"
  }
 },
 "nbformat": 4,
 "nbformat_minor": 4
}
