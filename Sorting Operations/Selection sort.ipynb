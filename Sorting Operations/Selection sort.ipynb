{
 "cells": [
  {
   "cell_type": "code",
   "execution_count": null,
   "metadata": {},
   "outputs": [],
   "source": [
    "def selection(a):\n",
    "    \n",
    "    for i in range(0,len(a)-1):\n",
    "        \n",
    "        min=i\n",
    "        for j in range(1,len(a)):\n",
    "            if a[min]>a[j]:\n",
    "                min=j\n",
    "        if min!=i:\n",
    "            a[i],a[min]=a[min],a[i]\n",
    "            \n",
    "            \n",
    "arr=[7,2,8,1,9,3,0]\n",
    "\n",
    "\n",
    "            \n",
    "            "
   ]
  }
 ],
 "metadata": {
  "kernelspec": {
   "display_name": "Python 3",
   "language": "python",
   "name": "python3"
  },
  "language_info": {
   "codemirror_mode": {
    "name": "ipython",
    "version": 3
   },
   "file_extension": ".py",
   "mimetype": "text/x-python",
   "name": "python",
   "nbconvert_exporter": "python",
   "pygments_lexer": "ipython3",
   "version": "3.8.5"
  }
 },
 "nbformat": 4,
 "nbformat_minor": 4
}
