{
 "cells": [
  {
   "cell_type": "code",
   "execution_count": 30,
   "metadata": {},
   "outputs": [
    {
     "name": "stdout",
     "output_type": "stream",
     "text": [
      "[2, 3, 4, 1, 0, 5, 3, 2, 4, 0, 1]\n",
      "[0, 0, 1, 1, 2, 2, 3, 3, 4, 4, 5]\n"
     ]
    }
   ],
   "source": [
    "#Counting Sort\n",
    "\n",
    "def countSort(array,c):\n",
    "    target = [0]*len(array)\n",
    "    count =[0]*c\n",
    "    # \n",
    "    for i in range(c):\n",
    "        count[i] = 0\n",
    "    \n",
    "    # Store the count of each element in count array\n",
    "    for j in range(0,len(A)):\n",
    "        count[array[j]] = count[array[j]] + 1\n",
    "   \n",
    "    #  Store the cummilative sum of count array\n",
    "    for k in range(1,c):\n",
    "        count[k] = count[k] + count[k-1]\n",
    "   \n",
    "    # find the index of each element of the original array in count array and place the elements in the target array.\n",
    "    # The element should be PLACED at the (index-1)/NUMBER given in Count array.\n",
    "    for l in range(len(A)-1,-1,-1):\n",
    "        target[count[array[l]]-1] = array[l]\n",
    "        count[array[l]] = count[array[l]] - 1\n",
    "    print(array)    \n",
    "    print(target)    \n",
    "        \n",
    "A = [2,3,4,1,0,5,3,2,4,0,1]\n",
    "c = 6\n",
    "countSort(A,c)\n"
   ]
  },
  {
   "cell_type": "code",
   "execution_count": null,
   "metadata": {},
   "outputs": [],
   "source": [
    "#RADIX SORT\n",
    "\n",
    "def radix(A):\n",
    "    # find max elements\n",
    "    l=max(A)\n",
    "    # count sort to sort based on place value.\n",
    "    \n",
    "    \n"
   ]
  }
 ],
 "metadata": {
  "kernelspec": {
   "display_name": "Python 3",
   "language": "python",
   "name": "python3"
  },
  "language_info": {
   "codemirror_mode": {
    "name": "ipython",
    "version": 3
   },
   "file_extension": ".py",
   "mimetype": "text/x-python",
   "name": "python",
   "nbconvert_exporter": "python",
   "pygments_lexer": "ipython3",
   "version": "3.8.5"
  }
 },
 "nbformat": 4,
 "nbformat_minor": 4
}
