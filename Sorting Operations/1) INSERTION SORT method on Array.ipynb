{
 "cells": [
  {
   "cell_type": "code",
   "execution_count": 6,
   "metadata": {},
   "outputs": [
    {
     "name": "stdout",
     "output_type": "stream",
     "text": [
      "[1, 2, 5, 6, 8, 9, 10, 41]\n"
     ]
    }
   ],
   "source": [
    "'''To use Insertion sort method on Array.'''\n",
    "\n",
    "def insertionsort(a):\n",
    "    '''\n",
    "    Description: Function sorts given array in ascending order using insertion sort method.\n",
    "    Input: Unsorted Array.\n",
    "    Output: Sorted Array in ascending Array.\n",
    "    \n",
    "    '''\n",
    "    \n",
    "    for j in range(1,len(a)):\n",
    "        key=a[j]\n",
    "        i=j-1\n",
    "        \n",
    "        while i>=0 and a[i]>key:\n",
    "            a[i+1]=a[i]\n",
    "            i=i-1\n",
    "        a[i+1]=key\n",
    "        \n",
    "array=[41,5,1,9,2,8,6,10]\n",
    "\n",
    "(insertionsort(array))\n",
    "\n",
    "print(array)\n",
    "\n",
    "        "
   ]
  },
  {
   "cell_type": "code",
   "execution_count": null,
   "metadata": {},
   "outputs": [],
   "source": []
  }
 ],
 "metadata": {
  "kernelspec": {
   "display_name": "Python 3",
   "language": "python",
   "name": "python3"
  },
  "language_info": {
   "codemirror_mode": {
    "name": "ipython",
    "version": 3
   },
   "file_extension": ".py",
   "mimetype": "text/x-python",
   "name": "python",
   "nbconvert_exporter": "python",
   "pygments_lexer": "ipython3",
   "version": "3.8.5"
  }
 },
 "nbformat": 4,
 "nbformat_minor": 4
}
