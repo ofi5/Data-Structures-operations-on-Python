{
 "cells": [
  {
   "cell_type": "code",
   "execution_count": 5,
   "metadata": {},
   "outputs": [
    {
     "name": "stdout",
     "output_type": "stream",
     "text": [
      "[2, 3, 4, 5, 6, 7, 8, 9]\n"
     ]
    }
   ],
   "source": [
    "'''Sorting an Array using Bubble Sort'''\n",
    "\n",
    "def bubble(a):\n",
    "    '''\n",
    "    Description: Function sorts the array using bubble sort method. Each element from the start is compared with the \n",
    "                 next element and is swapped if the next element is smaller than the previous one. If the next \n",
    "                 element is larger than previous, then the next element is compared with next to next element and the cycle\n",
    "                 continues till the second last element in the array.\n",
    "    Input: Array to be sorted.\n",
    "    Output: Array sorted in ascending order.\n",
    "    \n",
    "    '''\n",
    "    k=True\n",
    "    while k==True:\n",
    "        k=False\n",
    "        for i in range(0,len(a)-1):\n",
    "            if a[i]>a[i+1]:\n",
    "                a[i],a[i+1]=a[i+1],a[i]\n",
    "                k=True #if any swap happens, k returns true and while loop runs again.\n",
    "\n",
    "a=[7,3,8,2,9,6,4,5]\n",
    "\n",
    "bubble(a)\n",
    "\n",
    "print(a)"
   ]
  },
  {
   "cell_type": "code",
   "execution_count": null,
   "metadata": {},
   "outputs": [],
   "source": []
  }
 ],
 "metadata": {
  "kernelspec": {
   "display_name": "Python 3",
   "language": "python",
   "name": "python3"
  },
  "language_info": {
   "codemirror_mode": {
    "name": "ipython",
    "version": 3
   },
   "file_extension": ".py",
   "mimetype": "text/x-python",
   "name": "python",
   "nbconvert_exporter": "python",
   "pygments_lexer": "ipython3",
   "version": "3.8.5"
  }
 },
 "nbformat": 4,
 "nbformat_minor": 4
}
