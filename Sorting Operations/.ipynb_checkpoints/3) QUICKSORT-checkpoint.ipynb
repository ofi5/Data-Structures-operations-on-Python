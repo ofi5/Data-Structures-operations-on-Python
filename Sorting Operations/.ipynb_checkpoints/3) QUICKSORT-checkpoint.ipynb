{
 "cells": [
  {
   "cell_type": "code",
   "execution_count": 1,
   "metadata": {},
   "outputs": [
    {
     "name": "stdout",
     "output_type": "stream",
     "text": [
      "[2, 4, 5, 7, 9]\n"
     ]
    }
   ],
   "source": [
    "'''To use Quick sort method on Array.'''\n",
    "\n",
    "def partition(a,start,end):\n",
    "    '''\n",
    "    Description: Function divides the given array such that the elements before pivot element are smaller than the \n",
    "                 pivot element and vice versa.\n",
    "    Input: Array to be partitioned, start and end range of that array.\n",
    "    Output: Partially sorted array such that element before pivot are smaller than pivot element and \n",
    "            elements after pivot element are larger than pivot element. \n",
    "    \n",
    "    '''\n",
    "    pivot=a[start]\n",
    "    j=start\n",
    "    for i in range(start+1, end+1):\n",
    "        if a[i]<pivot:\n",
    "            j=j+1\n",
    "            a[i],a[j]=a[j],a[i]\n",
    "    a[j],a[start]=a[start],a[j]\n",
    "    \n",
    "    return j\n",
    "\n",
    "def quicksort(a,start,end):\n",
    "    '''\n",
    "    Description: Function sorts the array using quicksort method.\n",
    "    Input: Array to be sorted, Start and End position of array.\n",
    "    Output: Sorted Array in ascending order.\n",
    "    \n",
    "    '''\n",
    "    \n",
    "    if start<end:\n",
    "        s=partition(a,start,end)\n",
    "        quicksort(a,start,s-1)\n",
    "        quicksort(a,s+1,end)\n",
    "        \n",
    "        \n",
    "    \n",
    "arr=[5,4,2,9,7]    \n",
    "    \n",
    "quicksort(arr,0, len(arr)-1)\n",
    "\n",
    "print(arr)\n",
    "            "
   ]
  },
  {
   "cell_type": "code",
   "execution_count": null,
   "metadata": {},
   "outputs": [],
   "source": []
  }
 ],
 "metadata": {
  "kernelspec": {
   "display_name": "Python 3",
   "language": "python",
   "name": "python3"
  },
  "language_info": {
   "codemirror_mode": {
    "name": "ipython",
    "version": 3
   },
   "file_extension": ".py",
   "mimetype": "text/x-python",
   "name": "python",
   "nbconvert_exporter": "python",
   "pygments_lexer": "ipython3",
   "version": "3.8.5"
  }
 },
 "nbformat": 4,
 "nbformat_minor": 4
}
