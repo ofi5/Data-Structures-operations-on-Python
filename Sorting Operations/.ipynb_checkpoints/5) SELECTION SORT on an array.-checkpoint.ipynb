{
 "cells": [
  {
   "cell_type": "code",
   "execution_count": 14,
   "metadata": {},
   "outputs": [
    {
     "name": "stdout",
     "output_type": "stream",
     "text": [
      "[0, 1, 2, 3, 7, 8, 9]\n"
     ]
    }
   ],
   "source": [
    "'''To sort an array using selection sort'''\n",
    "\n",
    "def selection(a):\n",
    "    '''\n",
    "    Description: Function sorts the array. Smallest element is choosen in the given array and is placed at first position.\n",
    "                 From second position, again the array is searched for smallest element which is placed at second position.\n",
    "                 Same operation is carried till the second last element to get the sorted array.\n",
    "    Input: Array to be sorted.\n",
    "    Output: Array sorted in ascending order.\n",
    "    \n",
    "    ''' \n",
    "    for i in range(0,len(a)-1):\n",
    "        \n",
    "        min=i\n",
    "       \n",
    "        for j in range(i+1,len(a)):\n",
    "            if a[min]>a[j]:\n",
    "                min=j\n",
    "        if min!=i:\n",
    "    \n",
    "            a[i],a[min]=a[min],a[i]\n",
    "            \n",
    "            \n",
    "arr=[7,2,8,1,9,3,0]\n",
    "\n",
    "selection(arr)\n",
    "\n",
    "print(arr)\n",
    "\n",
    "\n",
    "            \n",
    "            "
   ]
  },
  {
   "cell_type": "code",
   "execution_count": null,
   "metadata": {},
   "outputs": [],
   "source": []
  }
 ],
 "metadata": {
  "kernelspec": {
   "display_name": "Python 3",
   "language": "python",
   "name": "python3"
  },
  "language_info": {
   "codemirror_mode": {
    "name": "ipython",
    "version": 3
   },
   "file_extension": ".py",
   "mimetype": "text/x-python",
   "name": "python",
   "nbconvert_exporter": "python",
   "pygments_lexer": "ipython3",
   "version": "3.8.5"
  }
 },
 "nbformat": 4,
 "nbformat_minor": 4
}
