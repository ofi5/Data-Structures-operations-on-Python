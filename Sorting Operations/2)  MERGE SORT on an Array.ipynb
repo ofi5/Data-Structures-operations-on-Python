{
 "cells": [
  {
   "cell_type": "code",
   "execution_count": 1,
   "metadata": {},
   "outputs": [
    {
     "name": "stdout",
     "output_type": "stream",
     "text": [
      "[0, 1, 2, 4, 5, 7, 8, 9]\n"
     ]
    }
   ],
   "source": [
    "'''Performing Merge Sort on an Array'''\n",
    "\n",
    "def mergesort(array):\n",
    "    '''\n",
    "    Description: Function Merge Sorts an unsorted Array.\n",
    "    Input: Unsorted Array from user.\n",
    "    Output: Sorted Array in ascending order.\n",
    "\n",
    "    '''\n",
    "    \n",
    "    if len(array)>1:\n",
    "        m=len(array)//2\n",
    "        l=array[ :m]\n",
    "        r=array[m:]\n",
    "        mergesort(l)\n",
    "        mergesort(r)\n",
    "        merge(array,l,r)\n",
    "        \n",
    "def merge(array,l,r):\n",
    "    '''\n",
    "    Description: Function merges two Arrays into one.\n",
    "    Input: \n",
    "    '''\n",
    "    \n",
    "    i=0\n",
    "    j=0\n",
    "    k=0\n",
    "    \n",
    "    while i<len(l) and j<len(r):\n",
    "        if l[i]<r[j]:\n",
    "            array[k]=l[i]\n",
    "            i=i+1\n",
    "        else:\n",
    "            array[k]=r[j]\n",
    "            j=j+1\n",
    "        k=k+1\n",
    "    while i<len(l):\n",
    "        array[k]=l[i]\n",
    "        i=i+1\n",
    "        k=k+1\n",
    "    while j<len(r):\n",
    "        array[k]=r[j]\n",
    "        j=j+1\n",
    "        k=k+1    \n",
    "        \n",
    "    \n",
    "            \n",
    "        \n",
    "array=[1,8,2,5,0,4,9,7]\n",
    "\n",
    "\n",
    "mergesort(array)\n",
    " \n",
    "print(array)"
   ]
  },
  {
   "cell_type": "code",
   "execution_count": null,
   "metadata": {},
   "outputs": [],
   "source": []
  },
  {
   "cell_type": "code",
   "execution_count": null,
   "metadata": {},
   "outputs": [],
   "source": []
  }
 ],
 "metadata": {
  "kernelspec": {
   "display_name": "Python 3",
   "language": "python",
   "name": "python3"
  },
  "language_info": {
   "codemirror_mode": {
    "name": "ipython",
    "version": 3
   },
   "file_extension": ".py",
   "mimetype": "text/x-python",
   "name": "python",
   "nbconvert_exporter": "python",
   "pygments_lexer": "ipython3",
   "version": "3.8.5"
  }
 },
 "nbformat": 4,
 "nbformat_minor": 4
}
